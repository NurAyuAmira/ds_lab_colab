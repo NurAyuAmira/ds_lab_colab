{
  "nbformat": 4,
  "nbformat_minor": 0,
  "metadata": {
    "kernelspec": {
      "display_name": "Python 3",
      "language": "python",
      "name": "python3"
    },
    "language_info": {
      "codemirror_mode": {
        "name": "ipython",
        "version": 3
      },
      "file_extension": ".py",
      "mimetype": "text/x-python",
      "name": "python",
      "nbconvert_exporter": "python",
      "pygments_lexer": "ipython3",
      "version": "3.6.5"
    },
    "colab": {
      "provenance": [],
      "collapsed_sections": [
        "wRbbyaMUYKp3"
      ]
    }
  },
  "cells": [
    {
      "cell_type": "markdown",
      "metadata": {
        "id": "wZDD5tQTYKnb"
      },
      "source": [
        "# **Lab 1**\n",
        "\n",
        "## Python Quickstart"
      ]
    },
    {
      "cell_type": "markdown",
      "metadata": {
        "id": "GOBl1VICYKnc"
      },
      "source": [
        "Welcome to TDS2101 _Introduction to Data Science_ lab exercises! For some weeks, you will be given _Jupyter notebook_ tutorials in the form of lab coding exercises and other questions discussing on concepts you have learned during lecture. Understanding technical things by coding them out is the best way to learn, so these labs cover a lot of essential topics, making them come alive as you learn."
      ]
    },
    {
      "cell_type": "markdown",
      "metadata": {
        "id": "hl3brzIpYKnd"
      },
      "source": [
        "> **Credit note:**\n",
        "> Part of this lab was adapted from UC Berkeley's Data 8 course. The main contents of this Python quickstart lab was adapted from the adaptation by [Volodymyr Kuleshov](http://web.stanford.edu/~kuleshov/) and [Isaac Caswell](https://symsys.stanford.edu/viewing/symsysaffiliate/21335) for Stanford University's `CS228`, which was originally from Stanford University's `CS231n` Python tutorial by Justin Johnson (http://cs231n.github.io/python-numpy-tutorial/). Confusing? Nevermind, it's a good starter tutorial that you could use :-)"
      ]
    },
    {
      "cell_type": "markdown",
      "metadata": {
        "id": "gmjur9B-YKnd"
      },
      "source": [
        "Before we get started, let's understand how to use and navigate in Jupyter notebooks."
      ]
    },
    {
      "cell_type": "markdown",
      "metadata": {
        "id": "vhscYiVaYKne"
      },
      "source": [
        "## 0. Jupyter notebooks\n",
        "This webpage is called a **Jupyter notebook**. A notebook is a place to write programs and view their results, and also to write text. A Jupyter notebook can be opened in various ways. The two most popular ways:\n",
        "1.   By installing the Jupyter package into your Python installation. If you have a full development suite like **Anaconda** installed, it comes pre-packed. Otherwise, you can also install it manually into your existing Python environment.\n",
        "2.   By opening the file with **Google Colab**, which is specifically made as a collaborative notebook (more than one person can edit).\n"
      ]
    },
    {
      "cell_type": "markdown",
      "metadata": {
        "id": "FQSzNRJJHnhK"
      },
      "source": [
        "### 0.1. Text cells\n",
        "In a notebook, each rectangle containing text or code is called a *cell*.\n",
        "\n",
        "Text cells (like this one) can be edited by double-clicking on them. They're written in a simple format called [Markdown](http://daringfireball.net/projects/markdown/syntax) to add formatting and section headings.  You don't need to learn Markdown, but you might want to.\n",
        "\n",
        "After you edit a text cell, click the \"run cell\" button at the top that looks like ▶| or hold down `shift` + `return` to confirm any changes. (Try not to delete the instructions of the lab.)"
      ]
    },
    {
      "cell_type": "markdown",
      "metadata": {
        "id": "RswVDICwYKnf"
      },
      "source": [
        "### 0.2. Code cells\n",
        "Other cells contain Python 3 code. Running a code cell will execute all of the code it contains.\n",
        "\n",
        "To run the code in a code cell, first click on that cell to activate it.  It'll be highlighted with a little green or blue rectangle.  Next, either press ▶| or hold down `shift` + `return`.\n",
        "\n",
        "Try running this cell:"
      ]
    },
    {
      "cell_type": "code",
      "metadata": {
        "id": "47035kplYKnf",
        "colab": {
          "base_uri": "https://localhost:8080/"
        },
        "outputId": "7abb40cb-9f56-4807-e2f8-3e57bc95b28f"
      },
      "source": [
        "print(\"Hello, World!\")"
      ],
      "execution_count": null,
      "outputs": [
        {
          "output_type": "stream",
          "name": "stdout",
          "text": [
            "Hello, World!\n"
          ]
        }
      ]
    },
    {
      "cell_type": "markdown",
      "metadata": {
        "id": "mY5Qr41HYKnj"
      },
      "source": [
        "And this one:"
      ]
    },
    {
      "cell_type": "code",
      "metadata": {
        "id": "GsJSeFIIYKnk",
        "colab": {
          "base_uri": "https://localhost:8080/"
        },
        "outputId": "ea46d790-899d-4602-af7e-c877b8b0eb18"
      },
      "source": [
        "print(\"\\N{WAVING HAND SIGN}, \\N{EARTH GLOBE ASIA-AUSTRALIA}!\")"
      ],
      "execution_count": null,
      "outputs": [
        {
          "output_type": "stream",
          "name": "stdout",
          "text": [
            "👋, 🌏!\n"
          ]
        }
      ]
    },
    {
      "cell_type": "markdown",
      "metadata": {
        "id": "QDPd1pYhYKnn"
      },
      "source": [
        "Interesting...emojis... The fundamental building block of Python code is an expression. Cells can contain multiple lines with multiple expressions. When you run a cell, the lines of code are executed in the order in which they appear. Every `print` expression prints a line. Run the next cell and notice the order of the output."
      ]
    },
    {
      "cell_type": "code",
      "metadata": {
        "id": "Y9phyB3wYKnn",
        "colab": {
          "base_uri": "https://localhost:8080/"
        },
        "outputId": "017e8dd8-3ef9-4012-ab82-c8d593f06a95"
      },
      "source": [
        "print(\"First this line is printed,\")\n",
        "print(\"and then this one.\")"
      ],
      "execution_count": null,
      "outputs": [
        {
          "output_type": "stream",
          "name": "stdout",
          "text": [
            "First this line is printed,\n",
            "and then this one.\n"
          ]
        }
      ]
    },
    {
      "cell_type": "markdown",
      "metadata": {
        "id": "RG27Vh_yYKnq"
      },
      "source": [
        "### 0.3. Writing Jupyter notebooks\n",
        "You can use Jupyter notebooks for your own projects or documents.  When you make your own notebook, you'll need to create your own cells for text and code.\n",
        "\n",
        "To add a cell, click the + button in the menu bar.  It'll start out as a text cell.  You can change it to a code cell by clicking inside it so it's highlighted, clicking the drop-down box next to the restart (⟳) button in the menu bar, and choosing \"Code\".\n",
        "\n",
        "**Try out**: Add a code cell below this one.  Write code in it that prints out:\n",
        "   \n",
        "    A whole new cell! ♪🌏♪\n",
        "\n",
        "(That musical note symbol is like the Earth symbol. Its long-form name is `\\N{EIGHTH NOTE}`.)\n",
        "\n",
        "Run your cell to verify that it works."
      ]
    },
    {
      "cell_type": "code",
      "metadata": {
        "id": "L707vKDhV2b9",
        "colab": {
          "base_uri": "https://localhost:8080/"
        },
        "outputId": "ab6ba2c3-9d1a-4d9d-b878-f681e7dc87bb"
      },
      "source": [
        " print(\"\\N{EIGHTH NOTE}\")"
      ],
      "execution_count": null,
      "outputs": [
        {
          "output_type": "stream",
          "name": "stdout",
          "text": [
            "♪\n"
          ]
        }
      ]
    },
    {
      "cell_type": "markdown",
      "metadata": {
        "id": "T7bM0aztYKnr"
      },
      "source": [
        "### 0.4. Errors\n",
        "Python is a language, and like natural human languages, it has rules.  It differs from natural language in two important ways:\n",
        "1. The rules are *simple*.  You can learn most of them in a few weeks and gain reasonable proficiency with the language within this trimester.\n",
        "2. The rules are *rigid*.  If you're proficient in a natural language, you can understand a non-proficient speaker, glossing over small mistakes.  A computer running Python code is not smart enough to do that.\n",
        "\n",
        "Whenever you write code, you'll make mistakes.  When you run a code cell that has errors, Python will sometimes produce error messages to tell you what you did wrong.\n",
        "\n",
        "Errors are okay; even experienced programmers make many errors.  When you make an error, you just have to find the source of the problem, fix it, and move on.\n",
        "\n",
        "**Try out**: We have made an error in the next cell.  Run it and see what happens."
      ]
    },
    {
      "cell_type": "code",
      "metadata": {
        "id": "8lKmjmccYKnr",
        "colab": {
          "base_uri": "https://localhost:8080/"
        },
        "outputId": "2fe9646c-a542-4f47-86db-fcd982b3cf21"
      },
      "source": [
        "print(\"This line is missing something.\")"
      ],
      "execution_count": null,
      "outputs": [
        {
          "output_type": "stream",
          "name": "stdout",
          "text": [
            "This line is missing something.\n"
          ]
        }
      ]
    },
    {
      "cell_type": "markdown",
      "metadata": {
        "id": "jb-w7RBYYKnu"
      },
      "source": [
        "The last line of the error output attempts to tell you what went wrong.  The *syntax* of a language is its structure, and this `SyntaxError` tells you that you have created an illegal structure.  \"`EOF`\" means \"end of file,\" so the message is saying Python expected you to write something more (in this case, a right parenthesis) before finishing the cell.\n",
        "\n",
        "There's a lot of terminology in programming languages, but you don't need to know it all in order to program effectively. If you see a cryptic message like this, you can often get by without deciphering it.\n",
        "\n",
        "Try to fix the code above so that you can run the cell and see the intended message instead of an error."
      ]
    },
    {
      "cell_type": "markdown",
      "metadata": {
        "id": "NeU8NzhJYKnv"
      },
      "source": [
        "**Note:** If you use option **Runtime** > **Run All** (in Jupyter Notebook it is **Cell** > **Run All**) from the toolbar menu, all code cells in this notebook will be run in order. However, the notebook stops running code cells if it hits an error, like the one in the cell above. Use this cautiously as it makes the notebook run redundantly over the cells."
      ]
    },
    {
      "cell_type": "markdown",
      "metadata": {
        "id": "Dh5AiOKXYKnv"
      },
      "source": [
        "### 0.5. The Kernel\n",
        "The kernel is a program that executes the code inside your notebook and outputs the results.\n",
        "\n",
        "For *Google Colab*: At the top right of your window, you can see a green tick, which shows that the kernel is idle or ready to execute tasks. When it is busy running some code, it will turn into three green dots.\n",
        "\n",
        "For *Jupyter Notebook*: In the top right of your window, you can see a circle that indicates the status of your kernel. If the circle is empty (⚪), the kernel is idle and ready to execute code. If the circle is filled in (⚫), the kernel is busy running some code.\n",
        "\n",
        "Next to every code cell, you'll see some a bracket `[...]`. Before you run the cell, you'll see `[ ]`. When the cell is running, you'll see `In [*]` (or a play animation for Google Colab). If you see an asterisk (\\*) next to a cell that doesn't go away, it's likely that the code inside the cell is taking too long to run, and it might be a good time to interrupt the kernel (discussed below). When a cell has finished running, you'll see a number inside the brackets, like: `[1]`. The number corresponds to the order in which you run the cells; so, the first cell you run will show a 1 when it's finished running, the second will show a 2, and so on.\n",
        "\n",
        "You may run into problems where your kernel is stuck for an excessive amount of time, your notebook is very slow and unresponsive, or your kernel loses its connection. If this happens, try the following steps:\n",
        "1. At the top of your screen, click **Kernel** > **Interrupt** (in Colab, it's **Runtime** > **Interrupt execution**).\n",
        "2. If that doesn't help, click **Kernel** > **Restart** (In Colab, it's **Runtime** > **Restart runtime**). If you do this, you will have to run your code cells from the start of your notebook up until where you paused your work.\n",
        "3. If that doesn't help, restart your server. First, save your work by clicking **File** at the top left of your screen, then **Save**. Next, shut down the kernel and restart the server all over again (in Colab, it's **Runtime** > **Factory reset runtime**). Then, navigate back to the notebook you were working on. You'll still have to run your code cells again."
      ]
    },
    {
      "cell_type": "markdown",
      "metadata": {
        "id": "Ep65lOeTYKnw"
      },
      "source": [
        "## 1. Introduction"
      ]
    },
    {
      "cell_type": "markdown",
      "metadata": {
        "id": "gJwQehRoYKnx"
      },
      "source": [
        "Python is a great general-purpose programming language on its own, but with the help of a few popular libraries (numpy, matplotlib, pandas) it becomes a powerful environment for scientific computing and data analysis.\n",
        "\n",
        "We expect that some of you may have some experience with Python and numpy; for the rest of you, this section will serve as a quick crash course on basic concepts in Python programming language. Many of these concepts are similar to that of other languages that you may know."
      ]
    },
    {
      "cell_type": "markdown",
      "metadata": {
        "id": "u4T0t2q5YKny"
      },
      "source": [
        "### Basics of Python"
      ]
    },
    {
      "cell_type": "markdown",
      "metadata": {
        "id": "xG7a0mHcYKny"
      },
      "source": [
        "Python is a high-level, dynamically typed multiparadigm programming language. Python code is often said to be almost like pseudocode, since it allows you to express very powerful ideas in very few lines of code while being very readable. As an example, here is an implementation of the classic quicksort algorithm in Python:"
      ]
    },
    {
      "cell_type": "code",
      "metadata": {
        "id": "I_7tMQXMYKnz",
        "colab": {
          "base_uri": "https://localhost:8080/"
        },
        "outputId": "d0d3921a-85f5-4436-abce-d6328256e8bb"
      },
      "source": [
        "def quicksort(arr):\n",
        "    if len(arr) <= 1:\n",
        "        return arr\n",
        "    pivot = arr[len(arr) // 2]\n",
        "    left = [x for x in arr if x < pivot]\n",
        "    middle = [x for x in arr if x == pivot]\n",
        "    right = [x for x in arr if x > pivot]\n",
        "    return quicksort(left) + middle + quicksort(right)\n",
        "\n",
        "print(quicksort([3,6,8,10,1,2,1]))"
      ],
      "execution_count": null,
      "outputs": [
        {
          "output_type": "stream",
          "name": "stdout",
          "text": [
            "[1, 1, 2, 3, 6, 8, 10]\n"
          ]
        }
      ]
    },
    {
      "cell_type": "markdown",
      "metadata": {
        "id": "a0sUOpw2YKn2"
      },
      "source": [
        "### Python versions & shell commands"
      ]
    },
    {
      "cell_type": "markdown",
      "metadata": {
        "id": "DV5DWMbiYKn2"
      },
      "source": [
        "There are currently two different supported versions of Python, 2 and 3. Somewhat confusingly, Python 3.0 introduced many backward-incompatible changes to the language, so code written for 2.7 may not work under 3.8 and vice versa. If your machine has an older version of Python 3 (say, 3.7 or 3.6), that's fine, you should be able to run all lines in this exercise. But, you can simply do the upgrade to 3.8 via `conda`) on the command line.  \n",
        "\n",
        "You can check your Python version at the command line by running `python --version`. Alternatively, you can also run shell commands directly from here..."
      ]
    },
    {
      "cell_type": "code",
      "metadata": {
        "id": "4xKG91RWYKn3",
        "colab": {
          "base_uri": "https://localhost:8080/"
        },
        "outputId": "4eef8ae8-5661-4f21-ed11-c2330f5c886c"
      },
      "source": [
        "!python --version"
      ],
      "execution_count": null,
      "outputs": [
        {
          "output_type": "stream",
          "name": "stdout",
          "text": [
            "Python 3.10.12\n"
          ]
        }
      ]
    },
    {
      "cell_type": "code",
      "metadata": {
        "id": "csnmzjvDYKn6",
        "colab": {
          "base_uri": "https://localhost:8080/"
        },
        "outputId": "705e768d-6180-4888-c58f-1b9a77c54b54"
      },
      "source": [
        "!dir"
      ],
      "execution_count": null,
      "outputs": [
        {
          "output_type": "stream",
          "name": "stdout",
          "text": [
            "sample_data\n"
          ]
        }
      ]
    },
    {
      "cell_type": "code",
      "metadata": {
        "id": "yILL7rb1YKn8",
        "colab": {
          "base_uri": "https://localhost:8080/"
        },
        "outputId": "38c5676c-2fe1-4a35-bbff-059503120039"
      },
      "source": [
        "!pip list"
      ],
      "execution_count": null,
      "outputs": [
        {
          "output_type": "stream",
          "name": "stdout",
          "text": [
            "Package                          Version\n",
            "-------------------------------- ---------------------\n",
            "absl-py                          1.4.0\n",
            "aiohttp                          3.8.5\n",
            "aiosignal                        1.3.1\n",
            "alabaster                        0.7.13\n",
            "albumentations                   1.2.1\n",
            "altair                           4.2.2\n",
            "anyio                            3.7.1\n",
            "appdirs                          1.4.4\n",
            "argon2-cffi                      21.3.0\n",
            "argon2-cffi-bindings             21.2.0\n",
            "array-record                     0.4.0\n",
            "arviz                            0.15.1\n",
            "astropy                          5.2.2\n",
            "astunparse                       1.6.3\n",
            "async-timeout                    4.0.2\n",
            "attrs                            23.1.0\n",
            "audioread                        3.0.0\n",
            "autograd                         1.6.2\n",
            "Babel                            2.12.1\n",
            "backcall                         0.2.0\n",
            "beautifulsoup4                   4.11.2\n",
            "bleach                           6.0.0\n",
            "blinker                          1.4\n",
            "blis                             0.7.10\n",
            "blosc2                           2.0.0\n",
            "bokeh                            3.1.1\n",
            "branca                           0.6.0\n",
            "build                            0.10.0\n",
            "CacheControl                     0.13.1\n",
            "cachetools                       5.3.1\n",
            "catalogue                        2.0.9\n",
            "certifi                          2023.7.22\n",
            "cffi                             1.15.1\n",
            "chardet                          4.0.0\n",
            "charset-normalizer               3.2.0\n",
            "chex                             0.1.7\n",
            "click                            8.1.6\n",
            "click-plugins                    1.1.1\n",
            "cligj                            0.7.2\n",
            "cloudpickle                      2.2.1\n",
            "cmake                            3.25.2\n",
            "cmdstanpy                        1.1.0\n",
            "colorcet                         3.0.1\n",
            "colorlover                       0.3.0\n",
            "community                        1.0.0b1\n",
            "confection                       0.1.1\n",
            "cons                             0.4.6\n",
            "contextlib2                      21.6.0\n",
            "contourpy                        1.1.0\n",
            "convertdate                      2.4.0\n",
            "cryptography                     3.4.8\n",
            "cufflinks                        0.17.3\n",
            "cvxopt                           1.3.1\n",
            "cvxpy                            1.3.2\n",
            "cycler                           0.11.0\n",
            "cymem                            2.0.7\n",
            "Cython                           0.29.36\n",
            "dask                             2022.12.1\n",
            "datascience                      0.17.6\n",
            "db-dtypes                        1.1.1\n",
            "dbus-python                      1.2.18\n",
            "debugpy                          1.6.6\n",
            "decorator                        4.4.2\n",
            "defusedxml                       0.7.1\n",
            "distributed                      2022.12.1\n",
            "distro                           1.7.0\n",
            "dlib                             19.24.2\n",
            "dm-tree                          0.1.8\n",
            "docutils                         0.18.1\n",
            "dopamine-rl                      4.0.6\n",
            "duckdb                           0.8.1\n",
            "earthengine-api                  0.1.362\n",
            "easydict                         1.10\n",
            "ecos                             2.0.12\n",
            "editdistance                     0.6.2\n",
            "en-core-web-sm                   3.5.0\n",
            "entrypoints                      0.4\n",
            "ephem                            4.1.4\n",
            "et-xmlfile                       1.1.0\n",
            "etils                            1.4.1\n",
            "etuples                          0.3.9\n",
            "exceptiongroup                   1.1.2\n",
            "fastai                           2.7.12\n",
            "fastcore                         1.5.29\n",
            "fastdownload                     0.0.7\n",
            "fastjsonschema                   2.18.0\n",
            "fastprogress                     1.0.3\n",
            "fastrlock                        0.8.1\n",
            "filelock                         3.12.2\n",
            "Fiona                            1.9.4.post1\n",
            "firebase-admin                   5.3.0\n",
            "Flask                            2.2.5\n",
            "flatbuffers                      23.5.26\n",
            "flax                             0.7.1\n",
            "folium                           0.14.0\n",
            "fonttools                        4.42.0\n",
            "frozendict                       2.3.8\n",
            "frozenlist                       1.4.0\n",
            "fsspec                           2023.6.0\n",
            "future                           0.18.3\n",
            "gast                             0.4.0\n",
            "gcsfs                            2023.6.0\n",
            "GDAL                             3.4.3\n",
            "gdown                            4.6.6\n",
            "gensim                           4.3.1\n",
            "geographiclib                    2.0\n",
            "geopandas                        0.13.2\n",
            "geopy                            2.3.0\n",
            "gin-config                       0.5.0\n",
            "glob2                            0.7\n",
            "google                           2.0.3\n",
            "google-api-core                  2.11.1\n",
            "google-api-python-client         2.84.0\n",
            "google-auth                      2.17.3\n",
            "google-auth-httplib2             0.1.0\n",
            "google-auth-oauthlib             1.0.0\n",
            "google-cloud-bigquery            3.10.0\n",
            "google-cloud-bigquery-connection 1.12.1\n",
            "google-cloud-bigquery-storage    2.22.0\n",
            "google-cloud-core                2.3.3\n",
            "google-cloud-datastore           2.15.2\n",
            "google-cloud-firestore           2.11.1\n",
            "google-cloud-functions           1.13.2\n",
            "google-cloud-language            2.9.1\n",
            "google-cloud-storage             2.8.0\n",
            "google-cloud-translate           3.11.3\n",
            "google-colab                     1.0.0\n",
            "google-crc32c                    1.5.0\n",
            "google-pasta                     0.2.0\n",
            "google-resumable-media           2.5.0\n",
            "googleapis-common-protos         1.60.0\n",
            "googledrivedownloader            0.4\n",
            "graphviz                         0.20.1\n",
            "greenlet                         2.0.2\n",
            "grpc-google-iam-v1               0.12.6\n",
            "grpcio                           1.56.2\n",
            "grpcio-status                    1.48.2\n",
            "gspread                          3.4.2\n",
            "gspread-dataframe                3.3.1\n",
            "gym                              0.25.2\n",
            "gym-notices                      0.0.8\n",
            "h5netcdf                         1.2.0\n",
            "h5py                             3.8.0\n",
            "holidays                         0.29\n",
            "holoviews                        1.15.4\n",
            "html5lib                         1.1\n",
            "httpimport                       1.3.1\n",
            "httplib2                         0.21.0\n",
            "humanize                         4.6.0\n",
            "hyperopt                         0.2.7\n",
            "idna                             3.4\n",
            "imageio                          2.25.1\n",
            "imageio-ffmpeg                   0.4.8\n",
            "imagesize                        1.4.1\n",
            "imbalanced-learn                 0.10.1\n",
            "imgaug                           0.4.0\n",
            "importlib-metadata               4.6.4\n",
            "importlib-resources              6.0.0\n",
            "imutils                          0.5.4\n",
            "inflect                          6.0.5\n",
            "iniconfig                        2.0.0\n",
            "intel-openmp                     2023.2.0\n",
            "ipykernel                        5.5.6\n",
            "ipython                          7.34.0\n",
            "ipython-genutils                 0.2.0\n",
            "ipython-sql                      0.4.1\n",
            "ipywidgets                       7.7.1\n",
            "itsdangerous                     2.1.2\n",
            "jax                              0.4.14\n",
            "jaxlib                           0.4.14+cuda11.cudnn86\n",
            "jeepney                          0.7.1\n",
            "jieba                            0.42.1\n",
            "Jinja2                           3.1.2\n",
            "joblib                           1.3.1\n",
            "jsonpickle                       3.0.1\n",
            "jsonschema                       4.3.3\n",
            "jupyter-client                   6.1.12\n",
            "jupyter-console                  6.1.0\n",
            "jupyter_core                     5.3.1\n",
            "jupyter-server                   1.24.0\n",
            "jupyterlab-pygments              0.2.2\n",
            "jupyterlab-widgets               3.0.8\n",
            "kaggle                           1.5.16\n",
            "keras                            2.12.0\n",
            "keyring                          23.5.0\n",
            "kiwisolver                       1.4.4\n",
            "langcodes                        3.3.0\n",
            "launchpadlib                     1.10.16\n",
            "lazr.restfulclient               0.14.4\n",
            "lazr.uri                         1.0.6\n",
            "lazy_loader                      0.3\n",
            "libclang                         16.0.6\n",
            "librosa                          0.10.0.post2\n",
            "lightgbm                         3.3.5\n",
            "linkify-it-py                    2.0.2\n",
            "lit                              16.0.6\n",
            "llvmlite                         0.39.1\n",
            "locket                           1.0.0\n",
            "logical-unification              0.4.6\n",
            "LunarCalendar                    0.0.9\n",
            "lxml                             4.9.3\n",
            "Markdown                         3.4.4\n",
            "markdown-it-py                   3.0.0\n",
            "MarkupSafe                       2.1.3\n",
            "matplotlib                       3.7.1\n",
            "matplotlib-inline                0.1.6\n",
            "matplotlib-venn                  0.11.9\n",
            "mdit-py-plugins                  0.4.0\n",
            "mdurl                            0.1.2\n",
            "miniKanren                       1.0.3\n",
            "missingno                        0.5.2\n",
            "mistune                          0.8.4\n",
            "mizani                           0.8.1\n",
            "mkl                              2019.0\n",
            "ml-dtypes                        0.2.0\n",
            "mlxtend                          0.22.0\n",
            "more-itertools                   9.1.0\n",
            "moviepy                          1.0.3\n",
            "mpmath                           1.3.0\n",
            "msgpack                          1.0.5\n",
            "multidict                        6.0.4\n",
            "multipledispatch                 1.0.0\n",
            "multitasking                     0.0.11\n",
            "murmurhash                       1.0.9\n",
            "music21                          8.1.0\n",
            "natsort                          8.3.1\n",
            "nbclient                         0.8.0\n",
            "nbconvert                        6.5.4\n",
            "nbformat                         5.9.2\n",
            "nest-asyncio                     1.5.7\n",
            "networkx                         3.1\n",
            "nibabel                          4.0.2\n",
            "nltk                             3.8.1\n",
            "notebook                         6.4.8\n",
            "numba                            0.56.4\n",
            "numexpr                          2.8.4\n",
            "numpy                            1.23.5\n",
            "oauth2client                     4.1.3\n",
            "oauthlib                         3.2.2\n",
            "opencv-contrib-python            4.7.0.72\n",
            "opencv-python                    4.7.0.72\n",
            "opencv-python-headless           4.8.0.74\n",
            "openpyxl                         3.0.10\n",
            "opt-einsum                       3.3.0\n",
            "optax                            0.1.7\n",
            "orbax-checkpoint                 0.3.2\n",
            "osqp                             0.6.2.post8\n",
            "packaging                        23.1\n",
            "palettable                       3.3.3\n",
            "pandas                           1.5.3\n",
            "pandas-datareader                0.10.0\n",
            "pandas-gbq                       0.17.9\n",
            "pandocfilters                    1.5.0\n",
            "panel                            1.2.1\n",
            "param                            1.13.0\n",
            "parso                            0.8.3\n",
            "partd                            1.4.0\n",
            "pathlib                          1.0.1\n",
            "pathy                            0.10.2\n",
            "patsy                            0.5.3\n",
            "pexpect                          4.8.0\n",
            "pickleshare                      0.7.5\n",
            "Pillow                           9.4.0\n",
            "pip                              23.1.2\n",
            "pip-tools                        6.13.0\n",
            "platformdirs                     3.10.0\n",
            "plotly                           5.13.1\n",
            "plotnine                         0.10.1\n",
            "pluggy                           1.2.0\n",
            "polars                           0.17.3\n",
            "pooch                            1.6.0\n",
            "portpicker                       1.5.2\n",
            "prefetch-generator               1.0.3\n",
            "preshed                          3.0.8\n",
            "prettytable                      0.7.2\n",
            "proglog                          0.1.10\n",
            "progressbar2                     4.2.0\n",
            "prometheus-client                0.17.1\n",
            "promise                          2.3\n",
            "prompt-toolkit                   3.0.39\n",
            "prophet                          1.1.4\n",
            "proto-plus                       1.22.3\n",
            "protobuf                         3.20.3\n",
            "psutil                           5.9.5\n",
            "psycopg2                         2.9.6\n",
            "ptyprocess                       0.7.0\n",
            "py-cpuinfo                       9.0.0\n",
            "py4j                             0.10.9.7\n",
            "pyarrow                          9.0.0\n",
            "pyasn1                           0.5.0\n",
            "pyasn1-modules                   0.3.0\n",
            "pycocotools                      2.0.6\n",
            "pycparser                        2.21\n",
            "pyct                             0.5.0\n",
            "pydantic                         1.10.12\n",
            "pydata-google-auth               1.8.2\n",
            "pydot                            1.4.2\n",
            "pydot-ng                         2.0.0\n",
            "pydotplus                        2.0.2\n",
            "PyDrive                          1.3.1\n",
            "pyerfa                           2.0.0.3\n",
            "pygame                           2.5.0\n",
            "Pygments                         2.14.0\n",
            "PyGObject                        3.42.1\n",
            "PyJWT                            2.3.0\n",
            "pymc                             5.1.2\n",
            "PyMeeus                          0.5.12\n",
            "pymystem3                        0.2.0\n",
            "PyOpenGL                         3.1.7\n",
            "pyparsing                        3.1.1\n",
            "pyproj                           3.6.0\n",
            "pyproject_hooks                  1.0.0\n",
            "pyrsistent                       0.19.3\n",
            "PySocks                          1.7.1\n",
            "pytensor                         2.10.1\n",
            "pytest                           7.2.2\n",
            "python-apt                       0.0.0\n",
            "python-dateutil                  2.8.2\n",
            "python-louvain                   0.16\n",
            "python-slugify                   8.0.1\n",
            "python-utils                     3.7.0\n",
            "pytz                             2022.7.1\n",
            "pyviz-comms                      2.3.2\n",
            "PyWavelets                       1.4.1\n",
            "PyYAML                           6.0.1\n",
            "pyzmq                            23.2.1\n",
            "qdldl                            0.1.7.post0\n",
            "qudida                           0.0.4\n",
            "regex                            2022.10.31\n",
            "requests                         2.31.0\n",
            "requests-oauthlib                1.3.1\n",
            "requirements-parser              0.5.0\n",
            "rich                             13.5.2\n",
            "rpy2                             3.4.2\n",
            "rsa                              4.9\n",
            "scikit-image                     0.19.3\n",
            "scikit-learn                     1.2.2\n",
            "scipy                            1.10.1\n",
            "scs                              3.2.3\n",
            "seaborn                          0.12.2\n",
            "SecretStorage                    3.3.1\n",
            "Send2Trash                       1.8.2\n",
            "setuptools                       67.7.2\n",
            "shapely                          2.0.1\n",
            "six                              1.16.0\n",
            "sklearn-pandas                   2.2.0\n",
            "smart-open                       6.3.0\n",
            "sniffio                          1.3.0\n",
            "snowballstemmer                  2.2.0\n",
            "sortedcontainers                 2.4.0\n",
            "soundfile                        0.12.1\n",
            "soupsieve                        2.4.1\n",
            "soxr                             0.3.5\n",
            "spacy                            3.5.4\n",
            "spacy-legacy                     3.0.12\n",
            "spacy-loggers                    1.0.4\n",
            "Sphinx                           5.0.2\n",
            "sphinxcontrib-applehelp          1.0.4\n",
            "sphinxcontrib-devhelp            1.0.2\n",
            "sphinxcontrib-htmlhelp           2.0.1\n",
            "sphinxcontrib-jsmath             1.0.1\n",
            "sphinxcontrib-qthelp             1.0.3\n",
            "sphinxcontrib-serializinghtml    1.1.5\n",
            "SQLAlchemy                       2.0.19\n",
            "sqlparse                         0.4.4\n",
            "srsly                            2.4.7\n",
            "statsmodels                      0.13.5\n",
            "sympy                            1.11.1\n",
            "tables                           3.8.0\n",
            "tabulate                         0.9.0\n",
            "tblib                            2.0.0\n",
            "tenacity                         8.2.2\n",
            "tensorboard                      2.12.3\n",
            "tensorboard-data-server          0.7.1\n",
            "tensorflow                       2.12.0\n",
            "tensorflow-datasets              4.9.2\n",
            "tensorflow-estimator             2.12.0\n",
            "tensorflow-gcs-config            2.12.0\n",
            "tensorflow-hub                   0.14.0\n",
            "tensorflow-io-gcs-filesystem     0.33.0\n",
            "tensorflow-metadata              1.13.1\n",
            "tensorflow-probability           0.20.1\n",
            "tensorstore                      0.1.40\n",
            "termcolor                        2.3.0\n",
            "terminado                        0.17.1\n",
            "text-unidecode                   1.3\n",
            "textblob                         0.17.1\n",
            "tf-slim                          1.1.0\n",
            "thinc                            8.1.10\n",
            "threadpoolctl                    3.2.0\n",
            "tifffile                         2023.7.18\n",
            "tinycss2                         1.2.1\n",
            "toml                             0.10.2\n",
            "tomli                            2.0.1\n",
            "toolz                            0.12.0\n",
            "torch                            2.0.1+cu118\n",
            "torchaudio                       2.0.2+cu118\n",
            "torchdata                        0.6.1\n",
            "torchsummary                     1.5.1\n",
            "torchtext                        0.15.2\n",
            "torchvision                      0.15.2+cu118\n",
            "tornado                          6.3.1\n",
            "tqdm                             4.65.0\n",
            "traitlets                        5.7.1\n",
            "triton                           2.0.0\n",
            "tweepy                           4.13.0\n",
            "typer                            0.9.0\n",
            "types-setuptools                 68.0.0.3\n",
            "typing_extensions                4.7.1\n",
            "tzlocal                          5.0.1\n",
            "uc-micro-py                      1.0.2\n",
            "uritemplate                      4.1.1\n",
            "urllib3                          1.26.16\n",
            "vega-datasets                    0.9.0\n",
            "wadllib                          1.3.6\n",
            "wasabi                           1.1.2\n",
            "wcwidth                          0.2.6\n",
            "webcolors                        1.13\n",
            "webencodings                     0.5.1\n",
            "websocket-client                 1.6.1\n",
            "Werkzeug                         2.3.6\n",
            "wheel                            0.41.0\n",
            "widgetsnbextension               3.6.5\n",
            "wordcloud                        1.8.2.2\n",
            "wrapt                            1.14.1\n",
            "xarray                           2022.12.0\n",
            "xarray-einstats                  0.6.0\n",
            "xgboost                          1.7.6\n",
            "xlrd                             2.0.1\n",
            "xyzservices                      2023.7.0\n",
            "yarl                             1.9.2\n",
            "yellowbrick                      1.5\n",
            "yfinance                         0.2.27\n",
            "zict                             3.0.0\n",
            "zipp                             3.16.2\n"
          ]
        }
      ]
    },
    {
      "cell_type": "markdown",
      "metadata": {
        "id": "U7f-zm3-YKoA"
      },
      "source": [
        "Anaconda comes readily with a set of Python packages. This eases your work of installing these packages from scratch, one by one! If you need to upgrade any of these packages, you can issue the following command to upgrade a package called `seaborn`:"
      ]
    },
    {
      "cell_type": "code",
      "metadata": {
        "id": "wHs4GofQYKoB",
        "colab": {
          "base_uri": "https://localhost:8080/"
        },
        "outputId": "ce736ef4-7401-4939-8f98-279d41c63822"
      },
      "source": [
        "!pip install --upgrade seaborn"
      ],
      "execution_count": null,
      "outputs": [
        {
          "output_type": "stream",
          "name": "stdout",
          "text": [
            "Requirement already satisfied: seaborn in /usr/local/lib/python3.10/dist-packages (0.12.2)\n",
            "Requirement already satisfied: numpy!=1.24.0,>=1.17 in /usr/local/lib/python3.10/dist-packages (from seaborn) (1.23.5)\n",
            "Requirement already satisfied: pandas>=0.25 in /usr/local/lib/python3.10/dist-packages (from seaborn) (1.5.3)\n",
            "Requirement already satisfied: matplotlib!=3.6.1,>=3.1 in /usr/local/lib/python3.10/dist-packages (from seaborn) (3.7.1)\n",
            "Requirement already satisfied: contourpy>=1.0.1 in /usr/local/lib/python3.10/dist-packages (from matplotlib!=3.6.1,>=3.1->seaborn) (1.1.0)\n",
            "Requirement already satisfied: cycler>=0.10 in /usr/local/lib/python3.10/dist-packages (from matplotlib!=3.6.1,>=3.1->seaborn) (0.11.0)\n",
            "Requirement already satisfied: fonttools>=4.22.0 in /usr/local/lib/python3.10/dist-packages (from matplotlib!=3.6.1,>=3.1->seaborn) (4.42.0)\n",
            "Requirement already satisfied: kiwisolver>=1.0.1 in /usr/local/lib/python3.10/dist-packages (from matplotlib!=3.6.1,>=3.1->seaborn) (1.4.4)\n",
            "Requirement already satisfied: packaging>=20.0 in /usr/local/lib/python3.10/dist-packages (from matplotlib!=3.6.1,>=3.1->seaborn) (23.1)\n",
            "Requirement already satisfied: pillow>=6.2.0 in /usr/local/lib/python3.10/dist-packages (from matplotlib!=3.6.1,>=3.1->seaborn) (9.4.0)\n",
            "Requirement already satisfied: pyparsing>=2.3.1 in /usr/local/lib/python3.10/dist-packages (from matplotlib!=3.6.1,>=3.1->seaborn) (3.1.1)\n",
            "Requirement already satisfied: python-dateutil>=2.7 in /usr/local/lib/python3.10/dist-packages (from matplotlib!=3.6.1,>=3.1->seaborn) (2.8.2)\n",
            "Requirement already satisfied: pytz>=2020.1 in /usr/local/lib/python3.10/dist-packages (from pandas>=0.25->seaborn) (2022.7.1)\n",
            "Requirement already satisfied: six>=1.5 in /usr/local/lib/python3.10/dist-packages (from python-dateutil>=2.7->matplotlib!=3.6.1,>=3.1->seaborn) (1.16.0)\n"
          ]
        }
      ]
    },
    {
      "cell_type": "markdown",
      "metadata": {
        "id": "mZLK7epEYKoD"
      },
      "source": [
        "> **Note**: On a fresh installation of Anaconda on your personal computer, most of the pre-installed packages may be already up to date."
      ]
    },
    {
      "cell_type": "markdown",
      "metadata": {
        "id": "LawWC3d3YKoE"
      },
      "source": [
        "### Basic data types\n",
        "\n",
        "Python variables do not need explicit declaration to reserve memory space. The declaration happens automatically when you assign a value to a variable. The equal sign (=) is used to assign values to variables."
      ]
    },
    {
      "cell_type": "code",
      "metadata": {
        "id": "Us-RmWu2YKoE",
        "colab": {
          "base_uri": "https://localhost:8080/"
        },
        "outputId": "3ee9e3b3-b929-4979-80fd-292d71f27167"
      },
      "source": [
        "counter= 100     # An integer assignment\n",
        "miles= 1000.0    # A floating point\n",
        "name = \"John\"    # A string\n",
        "print(counter)\n",
        "print(miles)\n",
        "print(name)"
      ],
      "execution_count": null,
      "outputs": [
        {
          "output_type": "stream",
          "name": "stdout",
          "text": [
            "100\n",
            "1000.0\n",
            "John\n"
          ]
        }
      ]
    },
    {
      "cell_type": "markdown",
      "metadata": {
        "id": "3Bj9jNNJYKoH"
      },
      "source": [
        "### Numbers"
      ]
    },
    {
      "cell_type": "markdown",
      "metadata": {
        "id": "4Jy4aIABYKoI"
      },
      "source": [
        "Quantitative information arises everywhere in data science. In addition to representing commands to print out lines, expressions can represent numbers and methods of combining numbers. Integers and floats work as you would expect from other languages:"
      ]
    },
    {
      "cell_type": "code",
      "metadata": {
        "id": "jCl8eiY4YKoI",
        "colab": {
          "base_uri": "https://localhost:8080/"
        },
        "outputId": "24b903e5-d1f7-42aa-a346-1f50324e7a98"
      },
      "source": [
        "x = 3\n",
        "print(x)\n",
        "type(x)"
      ],
      "execution_count": null,
      "outputs": [
        {
          "output_type": "stream",
          "name": "stdout",
          "text": [
            "3\n"
          ]
        },
        {
          "output_type": "execute_result",
          "data": {
            "text/plain": [
              "int"
            ]
          },
          "metadata": {},
          "execution_count": 15
        }
      ]
    },
    {
      "cell_type": "markdown",
      "metadata": {
        "id": "bbW975PqYKoL"
      },
      "source": [
        "In the IPython (interactive Python) environment which Jupyter notebook or Google Colab is running on, you actually do not need to even call the `print` function:"
      ]
    },
    {
      "cell_type": "code",
      "metadata": {
        "id": "hE7gI6HFYKoL",
        "colab": {
          "base_uri": "https://localhost:8080/"
        },
        "outputId": "0722e7d6-aa53-4966-b593-f92bfc75db51"
      },
      "source": [
        "32.5"
      ],
      "execution_count": null,
      "outputs": [
        {
          "output_type": "execute_result",
          "data": {
            "text/plain": [
              "32.5"
            ]
          },
          "metadata": {},
          "execution_count": 16
        }
      ]
    },
    {
      "cell_type": "markdown",
      "metadata": {
        "id": "JaiU6hZdYKoO"
      },
      "source": [
        "When you run a notebook cell, if the last line has a value, then Jupyter helpfully prints out that value for you. However, it won't print out prior lines automatically."
      ]
    },
    {
      "cell_type": "code",
      "metadata": {
        "id": "SUCT1eZAYKoP",
        "colab": {
          "base_uri": "https://localhost:8080/"
        },
        "outputId": "86285f5b-361f-41d1-eb14-d3e0f8f8eafa"
      },
      "source": [
        "print(2)\n",
        "3\n",
        "4"
      ],
      "execution_count": null,
      "outputs": [
        {
          "output_type": "stream",
          "name": "stdout",
          "text": [
            "2\n"
          ]
        },
        {
          "output_type": "execute_result",
          "data": {
            "text/plain": [
              "4"
            ]
          },
          "metadata": {},
          "execution_count": 17
        }
      ]
    },
    {
      "cell_type": "markdown",
      "metadata": {
        "id": "nTIxTNYoYKoS"
      },
      "source": [
        "Above, you should see that 4 is the value of the last expression, 2 is printed, but 3 is lost forever because it was neither printed nor last.\n",
        "\n",
        "You don't want to print everything all the time anyway.  But if you feel sorry for 3, change the cell above to print it."
      ]
    },
    {
      "cell_type": "code",
      "metadata": {
        "id": "WESJ5RmEYKoT",
        "colab": {
          "base_uri": "https://localhost:8080/"
        },
        "outputId": "3b6f8b3a-245f-4b49-c7ef-ae9ae41bb3d6"
      },
      "source": [
        "print(x + 1)   # Addition;\n",
        "print(x - 1)   # Subtraction;\n",
        "print(x * 2)   # Multiplication;\n",
        "print(x ** 2)  # Exponentiation;"
      ],
      "execution_count": null,
      "outputs": [
        {
          "output_type": "stream",
          "name": "stdout",
          "text": [
            "4\n",
            "2\n",
            "6\n",
            "9\n"
          ]
        }
      ]
    },
    {
      "cell_type": "code",
      "metadata": {
        "id": "RFbyKHqnYKoW",
        "colab": {
          "base_uri": "https://localhost:8080/"
        },
        "outputId": "825633bc-e51a-4df4-e0ec-812fcec401ca"
      },
      "source": [
        "x += 1\n",
        "print(x)  # Prints \"4\"\n",
        "x *= 2\n",
        "print(x)  # Prints \"8\""
      ],
      "execution_count": null,
      "outputs": [
        {
          "output_type": "stream",
          "name": "stdout",
          "text": [
            "4\n",
            "8\n"
          ]
        }
      ]
    },
    {
      "cell_type": "code",
      "metadata": {
        "id": "XBupGJevYKoY",
        "colab": {
          "base_uri": "https://localhost:8080/"
        },
        "outputId": "8b26e74f-8293-4f3d-e194-07b4f4c03842"
      },
      "source": [
        "y = 2.5\n",
        "print(type(y)) # Prints \"<type 'float'>\"\n",
        "print(y, y + 1, y * 2, y ** 2) # Prints \"2.5 3.5 5.0 6.25\""
      ],
      "execution_count": null,
      "outputs": [
        {
          "output_type": "stream",
          "name": "stdout",
          "text": [
            "<class 'float'>\n",
            "2.5 3.5 5.0 6.25\n"
          ]
        }
      ]
    },
    {
      "cell_type": "markdown",
      "metadata": {
        "id": "3m_AO5wLYKoa"
      },
      "source": [
        "Notice how versatile the `print` function is? You can use it to print the output of some other command, such as `type(y)` in the first one. In the second one, you can also specify multiple expressions to be printed out, separated by a comma.\n",
        "\n",
        "**Note**: Unlike many languages, Python does not have unary increment (x++) or decrement (x--) operators.\n",
        "\n",
        "Python also has built-in types for long integers and complex numbers; you can find all of the details in the [documentation](https://docs.python.org/3.8/library/stdtypes.html#numeric-types-int-float-long-complex)."
      ]
    },
    {
      "cell_type": "markdown",
      "metadata": {
        "id": "pmRa-fggYKoa"
      },
      "source": [
        "### Arithmetic"
      ]
    },
    {
      "cell_type": "code",
      "metadata": {
        "id": "XwVCnpWhYKob",
        "colab": {
          "base_uri": "https://localhost:8080/"
        },
        "outputId": "fe120567-385b-45ee-9310-c04c4ed9da2b"
      },
      "source": [
        "3.25 - 1.5"
      ],
      "execution_count": null,
      "outputs": [
        {
          "output_type": "execute_result",
          "data": {
            "text/plain": [
              "1.75"
            ]
          },
          "metadata": {},
          "execution_count": 21
        }
      ]
    },
    {
      "cell_type": "markdown",
      "metadata": {
        "id": "ez2r_g0hYKod"
      },
      "source": [
        "As expected, the cell executes the arithmetic expression given and shows the answer. Many basic arithmetic operations are built into Python. The order of operations is the same as what you learned in elementary school, and Python also has parentheses. For example, compare the outputs of the cells below. The second cell uses parentheses which gets us a different answer!"
      ]
    },
    {
      "cell_type": "code",
      "metadata": {
        "id": "j-63mEkdYKod",
        "colab": {
          "base_uri": "https://localhost:8080/"
        },
        "outputId": "66454162-84bc-4954-d93a-8ac8d421ed68"
      },
      "source": [
        "3+6*5-6*3**2*2**3/4*7"
      ],
      "execution_count": null,
      "outputs": [
        {
          "output_type": "execute_result",
          "data": {
            "text/plain": [
              "-723.0"
            ]
          },
          "metadata": {},
          "execution_count": 22
        }
      ]
    },
    {
      "cell_type": "code",
      "metadata": {
        "id": "nHlJ2IwGYKog",
        "colab": {
          "base_uri": "https://localhost:8080/"
        },
        "outputId": "e7923a53-eefe-4205-8bf4-1f0059d34dd5"
      },
      "source": [
        "3+(6*5-(6*3))**2*((2**3)/4*7)"
      ],
      "execution_count": null,
      "outputs": [
        {
          "output_type": "execute_result",
          "data": {
            "text/plain": [
              "2019.0"
            ]
          },
          "metadata": {},
          "execution_count": 23
        }
      ]
    },
    {
      "cell_type": "markdown",
      "metadata": {
        "id": "87aPfHgMYKoj"
      },
      "source": [
        "**Q1.** Write a Python expression in this next cell that's equal to $16 \\frac{2}{3} + 4\\frac{12}{13} \\times \\frac{30}{11} + 2^{.5 \\times 22} +\\frac{42\\times 18}{33}$. Use parentheses carefully.\n",
        "\n",
        "*Note*: By \"$16 \\frac{2}{3}$\" we mean $16+\\frac{2}{3}$, not $16 \\times \\frac{2}{3}$. Math!\n",
        "\n",
        "*Hint:* The correct output should be the numerical part of our subject code."
      ]
    },
    {
      "cell_type": "code",
      "metadata": {
        "id": "qfVajzzvYKoj",
        "colab": {
          "base_uri": "https://localhost:8080/"
        },
        "outputId": "43495efe-0583-453b-e751-8b4a13222141"
      },
      "source": [
        "(16+2/3)+(4+12/13)*30/11+(2**(0.5*22))+((42*18)/33)"
      ],
      "execution_count": null,
      "outputs": [
        {
          "output_type": "execute_result",
          "data": {
            "text/plain": [
              "2101.002331002331"
            ]
          },
          "metadata": {},
          "execution_count": 25
        }
      ]
    },
    {
      "cell_type": "markdown",
      "metadata": {
        "id": "mvQs5_DiYKom"
      },
      "source": [
        "### Names\n",
        "\n",
        "In Python, we can give names (what we all know as \"variables\") to expressions with *assignment statements*. An assignment statement has a name on the left side of an `=` sign and an expression to be evaluated on the right."
      ]
    },
    {
      "cell_type": "code",
      "metadata": {
        "id": "IEnwvNDBYKom"
      },
      "source": [
        "ten = 3 * 2 + 4"
      ],
      "execution_count": null,
      "outputs": []
    },
    {
      "cell_type": "markdown",
      "metadata": {
        "id": "xEYS6hVDYKop"
      },
      "source": [
        "After you run that cell, the value 10 is bound to the name `ten`:"
      ]
    },
    {
      "cell_type": "code",
      "metadata": {
        "id": "eSN3mldoYKop",
        "colab": {
          "base_uri": "https://localhost:8080/"
        },
        "outputId": "aa90fc06-0035-4884-d02e-8b336e05ef4b"
      },
      "source": [
        "ten"
      ],
      "execution_count": null,
      "outputs": [
        {
          "output_type": "execute_result",
          "data": {
            "text/plain": [
              "10"
            ]
          },
          "metadata": {},
          "execution_count": 27
        }
      ]
    },
    {
      "cell_type": "markdown",
      "metadata": {
        "id": "HZrpQTQsYKor"
      },
      "source": [
        "A common pattern in Jupyter notebooks is to assign a value to a name and then immediately evaluate the name in the last line in the cell so that the value is displayed as output."
      ]
    },
    {
      "cell_type": "code",
      "metadata": {
        "id": "s1-MFdMVYKos",
        "colab": {
          "base_uri": "https://localhost:8080/"
        },
        "outputId": "c17e89a2-263e-4d76-f272-a928106f89ed"
      },
      "source": [
        "close_to_pi = 355/113\n",
        "close_to_pi"
      ],
      "execution_count": null,
      "outputs": [
        {
          "output_type": "execute_result",
          "data": {
            "text/plain": [
              "3.1415929203539825"
            ]
          },
          "metadata": {},
          "execution_count": 28
        }
      ]
    },
    {
      "cell_type": "markdown",
      "metadata": {
        "id": "ch6gDhqsYKou"
      },
      "source": [
        "Another common pattern is that a series of lines in a single cell will build up a complex computation in stages, naming the intermediate results."
      ]
    },
    {
      "cell_type": "code",
      "metadata": {
        "id": "Dh2RTV6KYKou",
        "colab": {
          "base_uri": "https://localhost:8080/"
        },
        "outputId": "d96a71be-69be-4c18-806a-177050269a70"
      },
      "source": [
        "semimonthly_salary = 841.25\n",
        "monthly_salary = 2 * semimonthly_salary\n",
        "number_of_months_in_a_year = 12\n",
        "yearly_salary = number_of_months_in_a_year * monthly_salary\n",
        "print(semimonthly_salary)\n",
        "print(monthly_salary)\n",
        "yearly_salary"
      ],
      "execution_count": null,
      "outputs": [
        {
          "output_type": "stream",
          "name": "stdout",
          "text": [
            "841.25\n",
            "1682.5\n"
          ]
        },
        {
          "output_type": "execute_result",
          "data": {
            "text/plain": [
              "20190.0"
            ]
          },
          "metadata": {},
          "execution_count": 31
        }
      ]
    },
    {
      "cell_type": "markdown",
      "metadata": {
        "id": "tqO4T2P7YKox"
      },
      "source": [
        "Names in Python can have letters (upper- and lower-case letters are both okay and count as different letters), underscores, and numbers. The first character can't be a number (otherwise a name might look like a number). And names can't contain spaces, since spaces are used to separate pieces of code from each other. Other than those rules, what you name something doesn't matter *to Python*. **However**, names are very important for making your code *readable* to yourself and others."
      ]
    },
    {
      "cell_type": "markdown",
      "metadata": {
        "id": "v2DxVGXGYKoy"
      },
      "source": [
        "**Q2**: Assign the name `seconds_in_a_decade` to the number of seconds between midnight January 1, 2010 and midnight January 1, 2020. Note that there are two leap years in this span of a decade. A non-leap year has 365 days and a leap year has 366 days."
      ]
    },
    {
      "cell_type": "code",
      "metadata": {
        "id": "QDcx55czYKoy",
        "colab": {
          "base_uri": "https://localhost:8080/"
        },
        "outputId": "2d7f063e-207f-4c54-8780-36375dc7f239"
      },
      "source": [
        "seconds_in_a_decade = (8*365*24*60*60)+(2*366*24*60*60)\n",
        "seconds_in_a_decade"
      ],
      "execution_count": null,
      "outputs": [
        {
          "output_type": "execute_result",
          "data": {
            "text/plain": [
              "315532800"
            ]
          },
          "metadata": {},
          "execution_count": 32
        }
      ]
    },
    {
      "cell_type": "markdown",
      "metadata": {
        "id": "4Vf9XoEnYKo0"
      },
      "source": [
        "### Booleans"
      ]
    },
    {
      "cell_type": "markdown",
      "metadata": {
        "id": "YRrAnwlZYKo1"
      },
      "source": [
        "Python implements all of the usual operators for Boolean logic, but uses English words rather than symbols (`&&`, `||`, etc.):"
      ]
    },
    {
      "cell_type": "code",
      "metadata": {
        "id": "qYH7a0eBYKo1",
        "colab": {
          "base_uri": "https://localhost:8080/"
        },
        "outputId": "619bfa62-3ae5-4a5a-cf3e-bf598a1d2f68"
      },
      "source": [
        "t, f = True, False\n",
        "type(t) # Prints \"<type 'bool'>\""
      ],
      "execution_count": null,
      "outputs": [
        {
          "output_type": "execute_result",
          "data": {
            "text/plain": [
              "bool"
            ]
          },
          "metadata": {},
          "execution_count": 33
        }
      ]
    },
    {
      "cell_type": "markdown",
      "metadata": {
        "id": "AyOTQr8tYKo4"
      },
      "source": [
        "Now we let's look at the operations:"
      ]
    },
    {
      "cell_type": "code",
      "metadata": {
        "id": "MUgHWZ74YKo4",
        "colab": {
          "base_uri": "https://localhost:8080/"
        },
        "outputId": "99092685-2d93-4c97-c0e0-66ba6148b8ef"
      },
      "source": [
        "print (t and f) # Logical AND;\n",
        "print (t or f)  # Logical OR;\n",
        "print (not t)   # Logical NOT;\n",
        "print (t != f)  # Logical XOR;"
      ],
      "execution_count": null,
      "outputs": [
        {
          "output_type": "stream",
          "name": "stdout",
          "text": [
            "False\n",
            "True\n",
            "False\n",
            "True\n"
          ]
        }
      ]
    },
    {
      "cell_type": "markdown",
      "metadata": {
        "id": "tp0StLo9YKo6"
      },
      "source": [
        "### Strings\n",
        "\n",
        "Like any other programming language, Python can process strings, or a sequence of characters. To make things less complicated, Python does not have a character data type, a single character is simply a string with a length of 1!\n",
        "\n",
        "We see how multiple strings can be printed out together. Here are three ways:"
      ]
    },
    {
      "cell_type": "code",
      "metadata": {
        "id": "DC4z_PpMYKo7",
        "colab": {
          "base_uri": "https://localhost:8080/"
        },
        "outputId": "5798acbc-5c49-4d32-ac4a-dcaf74863bde"
      },
      "source": [
        "hello = 'hello'   # String literals can use single quotes\n",
        "world = \"world\"   # or double quotes; it does not matter.\n",
        "print (hello, len(hello))"
      ],
      "execution_count": null,
      "outputs": [
        {
          "output_type": "stream",
          "name": "stdout",
          "text": [
            "hello 5\n"
          ]
        }
      ]
    },
    {
      "cell_type": "code",
      "metadata": {
        "id": "bjJq-DASYKo9",
        "colab": {
          "base_uri": "https://localhost:8080/"
        },
        "outputId": "e05a5044-6149-4b48-fbff-a6074f31284d"
      },
      "source": [
        "hw = hello + ' ' + world  # String concatenation\n",
        "print (hw)"
      ],
      "execution_count": null,
      "outputs": [
        {
          "output_type": "stream",
          "name": "stdout",
          "text": [
            "hello world\n"
          ]
        }
      ]
    },
    {
      "cell_type": "code",
      "metadata": {
        "id": "XmxpNMrhYKpB",
        "colab": {
          "base_uri": "https://localhost:8080/"
        },
        "outputId": "c6300c6f-1589-46bb-fcc0-2c6ad8e8b0a2"
      },
      "source": [
        "hw12 = '%s %s %d' % (hello, world, 12)  # sprintf style string formatting\n",
        "print (hw12)"
      ],
      "execution_count": null,
      "outputs": [
        {
          "output_type": "stream",
          "name": "stdout",
          "text": [
            "hello world 12\n"
          ]
        }
      ]
    },
    {
      "cell_type": "code",
      "metadata": {
        "id": "ha2yvzyhYKpD",
        "colab": {
          "base_uri": "https://localhost:8080/"
        },
        "outputId": "12296fab-e1f0-453e-ed0d-dd14ad2c5096"
      },
      "source": [
        "hw24 = '{} {} {}'.format(hello, world, 24)  # .format with empty brace placeholders\n",
        "print (hw24)"
      ],
      "execution_count": null,
      "outputs": [
        {
          "output_type": "stream",
          "name": "stdout",
          "text": [
            "hello world 24\n"
          ]
        }
      ]
    },
    {
      "cell_type": "markdown",
      "metadata": {
        "id": "pNxX7j9zYKpF"
      },
      "source": [
        "String objects have a bunch of useful methods; for example:"
      ]
    },
    {
      "cell_type": "code",
      "metadata": {
        "id": "XZ-CbGt8YKpF",
        "colab": {
          "base_uri": "https://localhost:8080/"
        },
        "outputId": "8319a1fe-623b-45b8-b069-cccec14f5d88"
      },
      "source": [
        "s = \"hello\"\n",
        "print (s.capitalize())  # Capitalize a string; prints \"Hello\"\n",
        "print (s.upper())       # Convert a string to uppercase; prints \"HELLO\"\n",
        "print (s.rjust(7))      # Right-justify a string, padding with spaces; prints \"  hello\"\n",
        "print (s.center(7))     # Center a string, padding with spaces; prints \" hello \"\n",
        "print (s.replace('l', '(ell)'))  # Replace all instances of one substring with another;\n",
        "                               # prints \"he(ell)(ell)o\"\n",
        "print ('  world '.strip())  # Strip leading and trailing whitespace; prints \"world\""
      ],
      "execution_count": null,
      "outputs": [
        {
          "output_type": "stream",
          "name": "stdout",
          "text": [
            "Hello\n",
            "HELLO\n",
            "  hello\n",
            " hello \n",
            "he(ell)(ell)o\n",
            "world\n"
          ]
        }
      ]
    },
    {
      "cell_type": "markdown",
      "metadata": {
        "id": "3MtJKufPYKpK"
      },
      "source": [
        "You can find a list of all string methods in the [documentation](https://docs.python.org/3.8/library/stdtypes.html#string-methods)."
      ]
    },
    {
      "cell_type": "markdown",
      "metadata": {
        "id": "m6jT9JLJYKpL"
      },
      "source": [
        "## 2. Functions\n",
        "\n",
        "The most common way to combine or manipulate values in Python is by calling functions. Python comes with many built-in functions that perform common operations.\n",
        "\n",
        "For example, the `abs` function takes a single number as its argument and returns the absolute value of that number. Run the next two cells and see if you understand the output."
      ]
    },
    {
      "cell_type": "code",
      "metadata": {
        "id": "SACfO5IQYKpL",
        "colab": {
          "base_uri": "https://localhost:8080/"
        },
        "outputId": "aeb78833-0ba5-47a9-db7d-b82ac0308422"
      },
      "source": [
        "abs(5)"
      ],
      "execution_count": null,
      "outputs": [
        {
          "output_type": "execute_result",
          "data": {
            "text/plain": [
              "5"
            ]
          },
          "metadata": {},
          "execution_count": 40
        }
      ]
    },
    {
      "cell_type": "code",
      "metadata": {
        "id": "KQyDmt-PYKpP",
        "colab": {
          "base_uri": "https://localhost:8080/"
        },
        "outputId": "72648576-c303-4381-811d-b33b0ec62c13"
      },
      "source": [
        "abs(-5)"
      ],
      "execution_count": null,
      "outputs": [
        {
          "output_type": "execute_result",
          "data": {
            "text/plain": [
              "5"
            ]
          },
          "metadata": {},
          "execution_count": 41
        }
      ]
    },
    {
      "cell_type": "markdown",
      "metadata": {
        "id": "EisMEJH7YKpU"
      },
      "source": [
        "**Q3**:\n",
        "\n",
        "Farah is on the corner of 7th Avenue and 42nd Street in Midtown Manhattan, and she wants to know far she'd have to walk to get to school on the corner of 10th Avenue and 34th Street.\n",
        "\n",
        "She can't cut across blocks diagonally, since there are buildings in the way.  She has to walk along the sidewalks.  Using the map below, she sees she'd have to walk 3 avenues (long blocks) and 8 streets (short blocks).  In terms of the given numbers, she computed 3 as the difference between 7 and 10, *in absolute value*, and 8 similarly.  \n",
        "\n",
        "Farah also knows that blocks in Manhattan are all about 80m by 274m (avenues are farther apart than streets). So in total, how far would she have to walk to get to the park?\n",
        "\n",
        "<img src=\"https://raw.githubusercontent.com/data-8/materials-su19/master/materials/su19/lab/lab01/map.jpg\" width=600 />\n",
        "\n"
      ]
    },
    {
      "cell_type": "code",
      "metadata": {
        "id": "G4aw2zbEYKpV",
        "colab": {
          "base_uri": "https://localhost:8080/"
        },
        "outputId": "24cbdb71-43aa-43f5-8987-7a72c3e966c6"
      },
      "source": [
        "# Here's the number of streets away:\n",
        "num_streets_away = abs(42-34)\n",
        "\n",
        "# Compute the number of avenues away in a similar way:\n",
        "num_avenues_away = abs(7-10)\n",
        "\n",
        "street_length_m = 80\n",
        "avenue_length_m = 274\n",
        "\n",
        "# Now we compute the total distance Farah must walk.\n",
        "manhattan_distance = num_streets_away * street_length_m + num_avenues_away * avenue_length_m\n",
        "\n",
        "# We've included this line so that you see the distance you've computed\n",
        "# when you run this cell.\n",
        "# You don't need to change it, but you can if you want.\n",
        "manhattan_distance"
      ],
      "execution_count": null,
      "outputs": [
        {
          "output_type": "execute_result",
          "data": {
            "text/plain": [
              "1462"
            ]
          },
          "metadata": {},
          "execution_count": 2
        }
      ]
    },
    {
      "cell_type": "markdown",
      "metadata": {
        "id": "s68ERHxXYKpZ"
      },
      "source": [
        "Some functions take multiple arguments, separated by commas. For example, the built-in `max` function returns the maximum argument passed to it."
      ]
    },
    {
      "cell_type": "code",
      "metadata": {
        "id": "jbTxQHtEYKpZ",
        "colab": {
          "base_uri": "https://localhost:8080/"
        },
        "outputId": "f9dd42cc-0cb1-473c-de37-1bff12f1f09a"
      },
      "source": [
        "max(2, -3, 4, -5)   # try adding more arguments"
      ],
      "execution_count": null,
      "outputs": [
        {
          "output_type": "execute_result",
          "data": {
            "text/plain": [
              "4"
            ]
          },
          "metadata": {},
          "execution_count": 3
        }
      ]
    },
    {
      "cell_type": "markdown",
      "metadata": {
        "id": "Cgu-oO8KYKpc"
      },
      "source": [
        "Of course, the beauty of programming is such that we need to create our own Python functions in order to modularize our code further. Functions are defined using the `def` keyword. For example:"
      ]
    },
    {
      "cell_type": "code",
      "metadata": {
        "id": "nW_AE2qnYKpd",
        "colab": {
          "base_uri": "https://localhost:8080/"
        },
        "outputId": "88445903-912a-4760-f089-f1114d8ceab2"
      },
      "source": [
        "def sign(x):\n",
        "    if x > 0:\n",
        "        return 'positive'\n",
        "    elif x < 0:\n",
        "        return 'negative'\n",
        "    else:\n",
        "        return 'zero'\n",
        "\n",
        "# note that from this point forward, it's no longer under the function but lines of code\n",
        "# that are to be executed. The surest way is to look at the indentations (Python forces indentations)\n",
        "for x in [-1, 0, 1]:\n",
        "    print(sign(x))"
      ],
      "execution_count": null,
      "outputs": [
        {
          "output_type": "stream",
          "name": "stdout",
          "text": [
            "negative\n",
            "zero\n",
            "positive\n"
          ]
        }
      ]
    },
    {
      "cell_type": "markdown",
      "metadata": {
        "id": "9Z13rr8JYKpf"
      },
      "source": [
        "We will often define functions to take optional keyword arguments, like this:"
      ]
    },
    {
      "cell_type": "code",
      "metadata": {
        "id": "8i9vrh1UYKpf",
        "colab": {
          "base_uri": "https://localhost:8080/"
        },
        "outputId": "874b02c0-aef3-4a99-fa28-07111bb0f6b5"
      },
      "source": [
        "def hello(name, loud=False):\n",
        "    if loud:\n",
        "        print ('HELLO, %s' % name.upper())\n",
        "    else:\n",
        "        print ('Hello, %s!' % name)\n",
        "\n",
        "hello('Bob')\n",
        "hello('Fred', loud=True)"
      ],
      "execution_count": null,
      "outputs": [
        {
          "output_type": "stream",
          "name": "stdout",
          "text": [
            "Hello, Bob!\n",
            "HELLO, FRED\n"
          ]
        }
      ]
    },
    {
      "cell_type": "markdown",
      "metadata": {
        "id": "F5NJXUDzYKpi"
      },
      "source": [
        "### Control Flow: Conditions"
      ]
    },
    {
      "cell_type": "markdown",
      "metadata": {
        "id": "B3xB7DwXYKpi"
      },
      "source": [
        "You can perform an action conditionally using a typical if-else block:"
      ]
    },
    {
      "cell_type": "code",
      "metadata": {
        "id": "TQyXwlKEYKpj",
        "colab": {
          "base_uri": "https://localhost:8080/"
        },
        "outputId": "d969f279-c40e-4b24-d7af-7c8a1516215a"
      },
      "source": [
        "balance = 0\n",
        "if balance < 0:\n",
        "    print(\"Balance is below 0, add funds now or you will be charged a penalty.\")\n",
        "elif balance == 0:\n",
        "    print(\"Balance is equal to 0, add funds soon.\")\n",
        "else:\n",
        "    print(\"Your balance is 0 or above.\")"
      ],
      "execution_count": null,
      "outputs": [
        {
          "output_type": "stream",
          "name": "stdout",
          "text": [
            "Balance is equal to 0, add funds soon.\n"
          ]
        }
      ]
    },
    {
      "cell_type": "markdown",
      "metadata": {
        "id": "dYJfzKEdYKpk"
      },
      "source": [
        "In Python, we do not have \"else if\" but `elif` instead (kind of short form). Similar to all block structures in Python (functions, loops, etc.), you need to end each conditional expression with a colon \":\" and subsequent lines in that block have to be indented."
      ]
    },
    {
      "cell_type": "code",
      "metadata": {
        "id": "ijdrzqCOYKpl",
        "colab": {
          "base_uri": "https://localhost:8080/"
        },
        "outputId": "d18bdca4-5662-4ead-e727-ae614cb3c0c0"
      },
      "source": [
        "speed = 105\n",
        "mood = 'bad'\n",
        "\n",
        "if speed >= 80:\n",
        "    print('License and registration please')\n",
        "    if mood == 'terrible' or speed >= 100:\n",
        "        print('You have the right to remain silent.')\n",
        "    elif mood == 'bad' or speed >= 90:\n",
        "        print(\"I'm going to have to write you a ticket.\")\n",
        "    else:\n",
        "        print(\"Let's try to keep it under 80 ok?\")"
      ],
      "execution_count": null,
      "outputs": [
        {
          "output_type": "stream",
          "name": "stdout",
          "text": [
            "License and registration please\n",
            "You have the right to remain silent.\n"
          ]
        }
      ]
    },
    {
      "cell_type": "markdown",
      "metadata": {
        "id": "FFlbBZeOYKpt"
      },
      "source": [
        "**Q4** Write a function that checks whether the first character of a word starts with 'A' and second character of a word starts with 'L'."
      ]
    },
    {
      "cell_type": "code",
      "metadata": {
        "id": "YjaCi54jYKpt",
        "colab": {
          "base_uri": "https://localhost:8080/"
        },
        "outputId": "502875be-e5b4-4caa-dd17-0254cfb13a3d"
      },
      "source": [
        "def starts_with_AL(word):\n",
        "    if len(word) < 2:\n",
        "        return False\n",
        "\n",
        "    return word[0].upper() == 'A' and word[1].upper() == 'L'\n",
        "\n",
        "# Test cases\n",
        "print(starts_with_AL(\"Apple\"))  # True\n",
        "print(starts_with_AL(\"ALways\"))  # True\n",
        "print(starts_with_AL(\"Alabama\"))  # False (third character is 'a')\n",
        "print(starts_with_AL(\"Lemon\"))  # False (first character is 'L')\n",
        "print(starts_with_AL(\"Abc\"))  # False (second character is not 'L')\n"
      ],
      "execution_count": null,
      "outputs": [
        {
          "output_type": "stream",
          "name": "stdout",
          "text": [
            "False\n",
            "True\n",
            "True\n",
            "False\n",
            "False\n"
          ]
        }
      ]
    },
    {
      "cell_type": "markdown",
      "metadata": {
        "id": "Na8tFTsXYKpx"
      },
      "source": [
        "**Q5** Write a function that compares among two numbers and identify which is the biggest number. If the two numbers are the same, it will print that both of the numbers are the same.  "
      ]
    },
    {
      "cell_type": "markdown",
      "metadata": {
        "id": "wRbbyaMUYKp3"
      },
      "source": [
        "### Control Flow: Repetition\n",
        "\n",
        "Python has a `while` loop, which continues iterating until its condition stops being true:"
      ]
    },
    {
      "cell_type": "code",
      "metadata": {
        "id": "GDM_lN1MYKp4",
        "colab": {
          "base_uri": "https://localhost:8080/"
        },
        "outputId": "857995bd-2479-42dd-c874-852290e58fc8"
      },
      "source": [
        "i = 0\n",
        "\n",
        "while i < 10:\n",
        "    i = i + 1\n",
        "    print(i)"
      ],
      "execution_count": null,
      "outputs": [
        {
          "output_type": "stream",
          "name": "stdout",
          "text": [
            "1\n",
            "2\n",
            "3\n",
            "4\n",
            "5\n",
            "6\n",
            "7\n",
            "8\n",
            "9\n",
            "10\n"
          ]
        }
      ]
    },
    {
      "cell_type": "code",
      "metadata": {
        "id": "r_RUlh-eYKp7"
      },
      "source": [
        "x=0\n",
        "while x < 10:\n",
        "    print (x, \"is less than 10\")\n",
        "x+=1"
      ],
      "execution_count": null,
      "outputs": []
    },
    {
      "cell_type": "markdown",
      "metadata": {
        "id": "Cz8LKBd2YKqA"
      },
      "source": [
        "Of course, what you saw was an infinite loop! Notice that the asterisk at the side of the cell does not turn into a run number (still computing...). Press on the **STOP** icon under the menu to abort any runaway code.\n",
        "\n",
        "More complex logic can be created with typical keywords such as break and continue:"
      ]
    },
    {
      "cell_type": "code",
      "metadata": {
        "id": "xff2zv9YYKqA",
        "colab": {
          "base_uri": "https://localhost:8080/"
        },
        "outputId": "499fdcda-cd66-4b11-c18c-258733a3eb2b"
      },
      "source": [
        "for x in range(10):\n",
        "    if x==3:\n",
        "        continue\n",
        "    if x==5:\n",
        "        break\n",
        "print(\"here\", x)"
      ],
      "execution_count": null,
      "outputs": [
        {
          "output_type": "stream",
          "name": "stdout",
          "text": [
            "here 5\n"
          ]
        }
      ]
    },
    {
      "cell_type": "markdown",
      "metadata": {
        "id": "RTupdFulYKqG"
      },
      "source": [
        "Indentation is a requirement in Python. Hence, indentations play a big role in determining the structure of these loops and conditional blocks."
      ]
    },
    {
      "cell_type": "markdown",
      "metadata": {
        "id": "K0okjtrfYKqG"
      },
      "source": [
        "**For** loops can be used to iterate for a fixed or predetermined number of times. It can also be used together with iterable objects, such as list (we will revisit this later on lists)"
      ]
    },
    {
      "cell_type": "code",
      "metadata": {
        "id": "Qt0zfEmjYKqH",
        "colab": {
          "base_uri": "https://localhost:8080/"
        },
        "outputId": "a7b22add-7237-4dbb-d363-fcf1c3f15bc9"
      },
      "source": [
        "# A for loop can iterate over the elements of a supplied list\n",
        "# Note: range(4) does not include 4!\n",
        "for x in range(4):\n",
        "    print(x)"
      ],
      "execution_count": null,
      "outputs": [
        {
          "output_type": "stream",
          "name": "stdout",
          "text": [
            "0\n",
            "1\n",
            "2\n",
            "3\n"
          ]
        }
      ]
    },
    {
      "cell_type": "code",
      "metadata": {
        "id": "B0sye8fyYKqK",
        "colab": {
          "base_uri": "https://localhost:8080/"
        },
        "outputId": "b465fbf8-1beb-4d0f-e185-682ad8810a54"
      },
      "source": [
        "# write a for loop to sum all numbers for [3, 41, 12, 9, 74, 15]\n",
        "sum = 0\n",
        "a = [3, 41, 12, 9, 74, 15]\n",
        "for x in a:\n",
        "    sum = sum + x\n",
        "print(sum)"
      ],
      "execution_count": null,
      "outputs": [
        {
          "output_type": "stream",
          "name": "stdout",
          "text": [
            "154\n"
          ]
        }
      ]
    },
    {
      "cell_type": "markdown",
      "metadata": {
        "id": "ew1YfQiFYKqM"
      },
      "source": [
        "### Packages & Modules\n",
        "\n",
        "Packages are namespaces which contain multiple packages and modules themselves. A module can define functions, classes and variables. Python does not necessary have all features by default, it has only a basic functional set of packages. To enable usage, you need to (install the package/module if necessary) and \"import\" them in your code. Think of \"import\" as the _include_ directive that you are familiar with in C/C++."
      ]
    },
    {
      "cell_type": "code",
      "metadata": {
        "id": "HsUzKNPnYKqM",
        "colab": {
          "base_uri": "https://localhost:8080/"
        },
        "outputId": "2102f00a-8e30-4c03-923c-82665c351129"
      },
      "source": [
        "import math\n",
        "print(math.sqrt(9))"
      ],
      "execution_count": null,
      "outputs": [
        {
          "output_type": "stream",
          "name": "stdout",
          "text": [
            "3.0\n"
          ]
        }
      ]
    },
    {
      "cell_type": "markdown",
      "metadata": {
        "id": "Pxa-Weg4YKqP"
      },
      "source": [
        "## 3. Containers"
      ]
    },
    {
      "cell_type": "markdown",
      "metadata": {
        "id": "G5hQaC6VYKqQ"
      },
      "source": [
        "Python includes several built-in container types: lists, dictionaries, tuples. These three are among the most commonly used."
      ]
    },
    {
      "cell_type": "markdown",
      "metadata": {
        "id": "bURhmRkPYKqQ"
      },
      "source": [
        "### Lists"
      ]
    },
    {
      "cell_type": "markdown",
      "metadata": {
        "id": "Fq3cn1UKYKqQ"
      },
      "source": [
        "A list is the Python equivalent of an array, but is resizeable and can contain elements of different types:"
      ]
    },
    {
      "cell_type": "code",
      "metadata": {
        "id": "QHSxqYxiYKqR",
        "colab": {
          "base_uri": "https://localhost:8080/"
        },
        "outputId": "30a93f4a-48cb-49ca-cf5f-ac4542337e11"
      },
      "source": [
        "xs = [3, 1, 2]   # Create a list\n",
        "print (xs, xs[2])\n",
        "print (xs[-1])     # Negative indices count from the end of the list; prints \"2\""
      ],
      "execution_count": null,
      "outputs": [
        {
          "output_type": "stream",
          "name": "stdout",
          "text": [
            "[3, 1, 2] 2\n",
            "2\n"
          ]
        }
      ]
    },
    {
      "cell_type": "code",
      "metadata": {
        "id": "jbucA8FDYKqU",
        "colab": {
          "base_uri": "https://localhost:8080/"
        },
        "outputId": "516df182-e0ef-4f7d-8071-c5ff26547369"
      },
      "source": [
        "xs[2] = 'foo'    # Lists can contain elements of different types\n",
        "print (xs)"
      ],
      "execution_count": null,
      "outputs": [
        {
          "output_type": "stream",
          "name": "stdout",
          "text": [
            "[3, 1, 'foo']\n"
          ]
        }
      ]
    },
    {
      "cell_type": "code",
      "metadata": {
        "id": "oIX_Zu25YKqY",
        "colab": {
          "base_uri": "https://localhost:8080/"
        },
        "outputId": "2c46e69d-eb56-49dd-8066-16b3333a8a38"
      },
      "source": [
        "xs.append('bar') # Add a new element to the end of the list\n",
        "print (xs)"
      ],
      "execution_count": null,
      "outputs": [
        {
          "output_type": "stream",
          "name": "stdout",
          "text": [
            "[3, 1, 'foo', 'bar']\n"
          ]
        }
      ]
    },
    {
      "cell_type": "code",
      "metadata": {
        "id": "NMNTqO-DYKqb",
        "colab": {
          "base_uri": "https://localhost:8080/"
        },
        "outputId": "34e32580-a593-4ac7-b888-20c66f99832f"
      },
      "source": [
        "x = xs.pop()     # Remove and return the last element of the list\n",
        "print (x, xs)"
      ],
      "execution_count": null,
      "outputs": [
        {
          "output_type": "stream",
          "name": "stdout",
          "text": [
            "bar [3, 1, 'foo']\n"
          ]
        }
      ]
    },
    {
      "cell_type": "markdown",
      "metadata": {
        "id": "nwZID8jNYKqd"
      },
      "source": [
        "As usual, you can find all the details about lists in the [documentation](https://docs.python.org/2/tutorial/datastructures.html#more-on-lists)."
      ]
    },
    {
      "cell_type": "markdown",
      "metadata": {
        "id": "jfpk1M68YKqd"
      },
      "source": [
        "#### Slicing"
      ]
    },
    {
      "cell_type": "markdown",
      "metadata": {
        "id": "Tanf0OgNYKqd"
      },
      "source": [
        "In addition to accessing list elements one at a time, Python provides concise syntax to access sublists; this is known as slicing:"
      ]
    },
    {
      "cell_type": "code",
      "metadata": {
        "id": "linn-p-WYKqe",
        "colab": {
          "base_uri": "https://localhost:8080/"
        },
        "outputId": "6c4bf82d-22da-4d2d-aaca-6c51d8799dcb"
      },
      "source": [
        "nums = range(5)    # range is a built-in function that creates a list of integers\n",
        "print(list (nums))   # Prints \"[0, 1, 2, 3, 4]\"\n",
        "print (list(nums[2:4]))    # Get a slice from index 2 to 4 (exclusive); prints \"[2, 3]\"\n",
        "print (list(nums[2:]))     # Get a slice from index 2 to the end; prints \"[2, 3, 4]\"\n",
        "print (list(nums[:2]))     # Get a slice from the start to index 2 (exclusive); prints \"[0, 1]\"\n",
        "print (list(nums[:]))      # Get a slice of the whole list; prints [\"0, 1, 2, 3, 4]\"\n",
        "print (list(nums[:-1]))    # Slice indices can be negative; prints [\"0, 1, 2, 3]\"\n",
        "numlist = list(nums)\n",
        "numlist[2:4] = [8, 9]   # Assign a new sublist to a slice\n",
        "print (numlist)         # Prints \"[0, 1, 8, 9, 4]\""
      ],
      "execution_count": null,
      "outputs": [
        {
          "output_type": "stream",
          "name": "stdout",
          "text": [
            "[0, 1, 2, 3, 4]\n",
            "[2, 3]\n",
            "[2, 3, 4]\n",
            "[0, 1]\n",
            "[0, 1, 2, 3, 4]\n",
            "[0, 1, 2, 3]\n",
            "[0, 1, 8, 9, 4]\n"
          ]
        }
      ]
    },
    {
      "cell_type": "markdown",
      "metadata": {
        "id": "ARCHFTKBYKqf"
      },
      "source": [
        "#### Revisiting Loops"
      ]
    },
    {
      "cell_type": "markdown",
      "metadata": {
        "id": "gZoTpzLIYKqg"
      },
      "source": [
        "You can do loops like how you did in other languages:"
      ]
    },
    {
      "cell_type": "code",
      "metadata": {
        "id": "bOOWb9LxYKqg",
        "colab": {
          "base_uri": "https://localhost:8080/"
        },
        "outputId": "19b013c0-46db-4d4b-c15d-dbfa6c9be08d"
      },
      "source": [
        "for i in range(5):\n",
        "    print(i)"
      ],
      "execution_count": null,
      "outputs": [
        {
          "output_type": "stream",
          "name": "stdout",
          "text": [
            "0\n",
            "1\n",
            "2\n",
            "3\n",
            "4\n"
          ]
        }
      ]
    },
    {
      "cell_type": "markdown",
      "metadata": {
        "id": "6stqsIqHYKqj"
      },
      "source": [
        "Oh yes, Python counts from 0, not 1.\n",
        "\n",
        "This is more useful. You can loop over the elements of a list like this:"
      ]
    },
    {
      "cell_type": "code",
      "metadata": {
        "id": "XxWorm95YKqj",
        "colab": {
          "base_uri": "https://localhost:8080/"
        },
        "outputId": "b85eb12d-27ac-40b5-a98f-b6aded3fff1a"
      },
      "source": [
        "animals = ['cat', 'dog', 'monkey']\n",
        "for animal in animals:\n",
        "    print (animal)"
      ],
      "execution_count": null,
      "outputs": [
        {
          "output_type": "stream",
          "name": "stdout",
          "text": [
            "cat\n",
            "dog\n",
            "monkey\n"
          ]
        }
      ]
    },
    {
      "cell_type": "markdown",
      "metadata": {
        "id": "PZtt2Y5xYKql"
      },
      "source": [
        "If you want access to the index of each element within the body of a loop, use the built-in `enumerate` function:"
      ]
    },
    {
      "cell_type": "code",
      "metadata": {
        "id": "ai-PkAMCYKqm",
        "colab": {
          "base_uri": "https://localhost:8080/"
        },
        "outputId": "fd972b50-6d28-4752-eb6c-671276d220fb"
      },
      "source": [
        "animals = ['cat', 'dog', 'monkey']\n",
        "for idx, animal in enumerate(animals):\n",
        "    print ('#%d: %s' % (idx + 1, animal))"
      ],
      "execution_count": null,
      "outputs": [
        {
          "output_type": "stream",
          "name": "stdout",
          "text": [
            "#1: cat\n",
            "#2: dog\n",
            "#3: monkey\n"
          ]
        }
      ]
    },
    {
      "cell_type": "markdown",
      "metadata": {
        "id": "F5B59AL2YKqo"
      },
      "source": [
        "#### List comprehensions:"
      ]
    },
    {
      "cell_type": "markdown",
      "metadata": {
        "id": "JtoDHl6hYKqo"
      },
      "source": [
        "When programming, frequently we want to transform one type of data into another. As a simple example, consider the following code that computes square numbers:"
      ]
    },
    {
      "cell_type": "code",
      "metadata": {
        "id": "_jI8Z4mzYKqo",
        "colab": {
          "base_uri": "https://localhost:8080/"
        },
        "outputId": "b0e7f3bd-2dd1-4c12-9186-4efc3adc0536"
      },
      "source": [
        "nums = [0, 1, 2, 3, 4]\n",
        "squares = []\n",
        "for x in nums:\n",
        "    squares.append(x ** 2)\n",
        "print (squares)"
      ],
      "execution_count": null,
      "outputs": [
        {
          "output_type": "stream",
          "name": "stdout",
          "text": [
            "[0, 1, 4, 9, 16]\n"
          ]
        }
      ]
    },
    {
      "cell_type": "markdown",
      "metadata": {
        "id": "w27ZCDVNYKqt"
      },
      "source": [
        "You can make this code simpler using a **list comprehension**, a powerful feature that Python has:"
      ]
    },
    {
      "cell_type": "code",
      "metadata": {
        "id": "Bdgr29ymYKqt",
        "colab": {
          "base_uri": "https://localhost:8080/"
        },
        "outputId": "4badb347-ca27-4161-c09b-2c5ea634d6c3"
      },
      "source": [
        "nums = [0, 1, 2, 3, 4]\n",
        "squares = [x ** 2 for x in nums]\n",
        "print (squares)"
      ],
      "execution_count": null,
      "outputs": [
        {
          "output_type": "stream",
          "name": "stdout",
          "text": [
            "[0, 1, 4, 9, 16]\n"
          ]
        }
      ]
    },
    {
      "cell_type": "markdown",
      "metadata": {
        "id": "v3BXtnEIYKqw"
      },
      "source": [
        "List comprehensions can also contain conditions:"
      ]
    },
    {
      "cell_type": "code",
      "metadata": {
        "id": "IAfndn5FYKqw",
        "colab": {
          "base_uri": "https://localhost:8080/"
        },
        "outputId": "e0cd562a-77f1-493f-8de9-afeea3c1f949"
      },
      "source": [
        "nums = [0, 1, 2, 3, 4]\n",
        "even_squares = [x ** 2 for x in nums if x % 2 == 0]\n",
        "print (even_squares)"
      ],
      "execution_count": null,
      "outputs": [
        {
          "output_type": "stream",
          "name": "stdout",
          "text": [
            "[0, 4, 16]\n"
          ]
        }
      ]
    },
    {
      "cell_type": "markdown",
      "metadata": {
        "id": "gPkXNXwLYKq3"
      },
      "source": [
        "### Dictionaries"
      ]
    },
    {
      "cell_type": "markdown",
      "metadata": {
        "id": "kcoYPZezYKq3"
      },
      "source": [
        "A dictionary stores (key, value) pairs, similar to a `Map` in Java or an object in Javascript. You can use it like this:"
      ]
    },
    {
      "cell_type": "code",
      "metadata": {
        "id": "ij2oKBnLYKq4",
        "colab": {
          "base_uri": "https://localhost:8080/"
        },
        "outputId": "e7f37030-d5b5-4160-bcca-8c5a60f69f52"
      },
      "source": [
        "d = {'cat': 'cute', 'dog': 'furry'}  # Create a new dictionary with some data\n",
        "print (d['cat'])       # Get an entry from a dictionary; prints \"cute\"\n",
        "print ('cat' in d)     # Check if a dictionary has a given key; prints \"True\""
      ],
      "execution_count": null,
      "outputs": [
        {
          "output_type": "stream",
          "name": "stdout",
          "text": [
            "cute\n",
            "True\n"
          ]
        }
      ]
    },
    {
      "cell_type": "code",
      "metadata": {
        "id": "1BAMzk8_YKq5",
        "colab": {
          "base_uri": "https://localhost:8080/"
        },
        "outputId": "c53f4fb8-9b53-4ae6-cf2c-12889802c78c"
      },
      "source": [
        "d['monkey'] = 'wet'    # Set an entry in a dictionary\n",
        "\n",
        "print (d['monkey'])      # Prints \"wet\"\n"
      ],
      "execution_count": null,
      "outputs": [
        {
          "output_type": "stream",
          "name": "stdout",
          "text": [
            "wet\n"
          ]
        }
      ]
    },
    {
      "cell_type": "code",
      "metadata": {
        "id": "YR99BrNcYKq7",
        "colab": {
          "base_uri": "https://localhost:8080/"
        },
        "outputId": "b27c1f88-7d89-4c64-c1e1-6f98a23d4e27"
      },
      "source": [
        "print (d['monkey'])  # KeyError: 'monkey' not a key of d"
      ],
      "execution_count": null,
      "outputs": [
        {
          "output_type": "stream",
          "name": "stdout",
          "text": [
            "wet\n"
          ]
        }
      ]
    },
    {
      "cell_type": "code",
      "metadata": {
        "id": "2J1dt2zKYKq9",
        "colab": {
          "base_uri": "https://localhost:8080/"
        },
        "outputId": "04ab9d41-12f3-4607-ac76-5bdd68d9bb42"
      },
      "source": [
        "print (d.get('monkey', 'N/A'))  # Get an element with a default; prints \"N/A\"\n",
        "print (d.get('fish', 'N/A'))    # Get an element with a default; prints \"wet\""
      ],
      "execution_count": null,
      "outputs": [
        {
          "output_type": "stream",
          "name": "stdout",
          "text": [
            "wet\n",
            "N/A\n"
          ]
        }
      ]
    },
    {
      "cell_type": "code",
      "metadata": {
        "id": "8fqn9otDYKq_"
      },
      "source": [
        "del d['fish']        # Remove an element from a dictionary\n",
        "print (d.get('fish', 'N/A')) # \"fish\" is no longer a key; prints \"N/A\""
      ],
      "execution_count": null,
      "outputs": []
    },
    {
      "cell_type": "markdown",
      "metadata": {
        "id": "fCptHQ9ZYKrD"
      },
      "source": [
        "We can use dictionaries as a simple way to represent structured data:"
      ]
    },
    {
      "cell_type": "code",
      "metadata": {
        "id": "HaOgK9KlYKrD"
      },
      "source": [
        "tweet = {\n",
        "    \"user\" : \"joelgrus\",\n",
        "    \"text\" : \"Data Science is Awesome\",\n",
        "    \"retweet_count\" : 100,\n",
        "    \"hashtags\" : [\"#data\", \"#science\", \"#datascience\", \"#awesome\", \"#yolo\"]\n",
        "}"
      ],
      "execution_count": null,
      "outputs": []
    },
    {
      "cell_type": "markdown",
      "metadata": {
        "id": "nv4dsdzQYKrF"
      },
      "source": [
        "Some nifty functions can help us list down all keys and/or values:"
      ]
    },
    {
      "cell_type": "code",
      "metadata": {
        "id": "1VeygphLYKrF",
        "colab": {
          "base_uri": "https://localhost:8080/"
        },
        "outputId": "45faa767-8f36-4713-cbf0-20fd7aab5f15"
      },
      "source": [
        "tweet_keys =tweet.keys()\n",
        "tweet_values = tweet.values()\n",
        "tweet_items = tweet.items()\n",
        "print(tweet_keys)\n",
        "print(tweet_values)\n",
        "print(tweet_items)"
      ],
      "execution_count": null,
      "outputs": [
        {
          "output_type": "stream",
          "name": "stdout",
          "text": [
            "dict_keys(['user', 'text', 'retweet_count', 'hashtags'])\n",
            "dict_values(['joelgrus', 'Data Science is Awesome', 100, ['#data', '#science', '#datascience', '#awesome', '#yolo']])\n",
            "dict_items([('user', 'joelgrus'), ('text', 'Data Science is Awesome'), ('retweet_count', 100), ('hashtags', ['#data', '#science', '#datascience', '#awesome', '#yolo'])])\n"
          ]
        }
      ]
    },
    {
      "cell_type": "markdown",
      "metadata": {
        "id": "eyHvlPSKYKrI"
      },
      "source": [
        "It is easy to iterate over the keys in a dictionary:"
      ]
    },
    {
      "cell_type": "code",
      "metadata": {
        "id": "dihzIP27YKrI",
        "colab": {
          "base_uri": "https://localhost:8080/"
        },
        "outputId": "8f76801c-d4c9-40f6-d887-f0e58086624d"
      },
      "source": [
        "d = {'person': 2, 'cat': 4, 'spider': 8}\n",
        "for animal in d:\n",
        "    legs = d[animal]\n",
        "    print ('A %s has %d legs' % (animal, legs))"
      ],
      "execution_count": null,
      "outputs": [
        {
          "output_type": "stream",
          "name": "stdout",
          "text": [
            "A person has 2 legs\n",
            "A cat has 4 legs\n",
            "A spider has 8 legs\n"
          ]
        }
      ]
    },
    {
      "cell_type": "markdown",
      "metadata": {
        "id": "PlOURgsUYKrL"
      },
      "source": [
        "If you want access to keys and their corresponding values, use the iteritems method:"
      ]
    },
    {
      "cell_type": "code",
      "metadata": {
        "id": "c2UFyQrfYKrL",
        "colab": {
          "base_uri": "https://localhost:8080/"
        },
        "outputId": "c9256101-3d8b-43b3-c106-7a12c890fcbe"
      },
      "source": [
        "d = {'person': 2, 'cat': 4, 'spider': 8}\n",
        "for animal, legs in d.items():\n",
        "    print ('A %s has %d legs' % (animal, legs))"
      ],
      "execution_count": null,
      "outputs": [
        {
          "output_type": "stream",
          "name": "stdout",
          "text": [
            "A person has 2 legs\n",
            "A cat has 4 legs\n",
            "A spider has 8 legs\n"
          ]
        }
      ]
    },
    {
      "cell_type": "markdown",
      "metadata": {
        "id": "LdyhP146YKrO"
      },
      "source": [
        "Dictionary comprehensions: These are similar to list comprehensions, but allow you to easily construct dictionaries. For example:"
      ]
    },
    {
      "cell_type": "code",
      "metadata": {
        "id": "I4cMsgujYKrO",
        "colab": {
          "base_uri": "https://localhost:8080/"
        },
        "outputId": "0fbf1667-fab7-4fe2-c8b5-cd5b61aff6a3"
      },
      "source": [
        "nums = [0, 1, 2, 3, 4]\n",
        "even_num_to_square = {x: x ** 2 for x in nums if x % 2 == 0}\n",
        "print (even_num_to_square)"
      ],
      "execution_count": null,
      "outputs": [
        {
          "output_type": "stream",
          "name": "stdout",
          "text": [
            "{0: 0, 2: 4, 4: 16}\n"
          ]
        }
      ]
    },
    {
      "cell_type": "markdown",
      "metadata": {
        "id": "reKni__9YKrQ"
      },
      "source": [
        "You can find all you need to know about dictionaries in the [documentation](https://docs.python.org/3.8/library/stdtypes.html#dict).\n",
        "\n",
        "**Note**: List and dictionaries are most crucial if you are to work with Numpy and Pandas, two very powerful Python libraries."
      ]
    },
    {
      "cell_type": "markdown",
      "metadata": {
        "id": "Hp0RKZSFYKrQ"
      },
      "source": [
        "### Tuples"
      ]
    },
    {
      "cell_type": "markdown",
      "metadata": {
        "id": "JCkOAEmrYKrQ"
      },
      "source": [
        "A tuple is an (immutable) ordered list of values. You specify a tuple by using parentheses (or nothing) instead of square brackets. A tuple is in many ways similar to a list; one of the most important differences is that tuples can be used as keys in dictionaries, while lists cannot. Here is a trivial example:"
      ]
    },
    {
      "cell_type": "code",
      "metadata": {
        "id": "hvFMMT1TYKrR",
        "colab": {
          "base_uri": "https://localhost:8080/"
        },
        "outputId": "7d107714-a471-4e3b-8482-c451ef8d078d"
      },
      "source": [
        "d = {(x, x + 1): x for x in range(10)}  # Create a dictionary with tuple keys\n",
        "t = (5, 6)       # Create a tuple\n",
        "print(type(t))\n",
        "print (d[t])\n",
        "print (d[(1, 2)])"
      ],
      "execution_count": null,
      "outputs": [
        {
          "output_type": "stream",
          "name": "stdout",
          "text": [
            "<class 'tuple'>\n",
            "5\n",
            "1\n"
          ]
        }
      ]
    },
    {
      "cell_type": "markdown",
      "metadata": {
        "id": "uXuIovKKYKrS"
      },
      "source": [
        "You cannot modify a tuple."
      ]
    },
    {
      "cell_type": "code",
      "metadata": {
        "id": "EguEPiwsYKrS"
      },
      "source": [
        "t[0] = 1"
      ],
      "execution_count": null,
      "outputs": []
    },
    {
      "cell_type": "markdown",
      "metadata": {
        "id": "NnYL8kD_YKrU"
      },
      "source": [
        "Tuples are a convenient way to return multiple values from functions:"
      ]
    },
    {
      "cell_type": "code",
      "metadata": {
        "id": "Qoum237KYKrU",
        "colab": {
          "base_uri": "https://localhost:8080/"
        },
        "outputId": "d1cf74c6-e253-4a28-f0e5-83becd07fea3"
      },
      "source": [
        "def sum_and_product(x, y):\n",
        "    return (x + y),(x * y)\n",
        "\n",
        "sp = sum_and_product(2, 3)\n",
        "s, p = sum_and_product(5, 10)\n",
        "print(sp)\n",
        "print(s)\n",
        "print(p)"
      ],
      "execution_count": null,
      "outputs": [
        {
          "output_type": "stream",
          "name": "stdout",
          "text": [
            "(5, 6)\n",
            "15\n",
            "50\n"
          ]
        }
      ]
    },
    {
      "cell_type": "markdown",
      "metadata": {
        "id": "AATV1WpsYKrV"
      },
      "source": [
        "### Other features\n",
        "\n",
        "Jupyter notebooks are kinda cool. You can easily embed YouTube videos."
      ]
    },
    {
      "cell_type": "code",
      "metadata": {
        "scrolled": true,
        "id": "-SEMrsBoYKrW",
        "colab": {
          "base_uri": "https://localhost:8080/",
          "height": 321
        },
        "outputId": "e5bf78f8-45ed-4ac8-ef55-139181a116b2"
      },
      "source": [
        "from IPython.display import YouTubeVideo\n",
        "YouTubeVideo('https://www.youtube.com/watch?v=1Pb5mVFCo7k&list=PLerBKHAB5wgrO4WeDVN1QoxuFGBx069MA')"
      ],
      "execution_count": null,
      "outputs": [
        {
          "output_type": "execute_result",
          "data": {
            "text/plain": [
              "<IPython.lib.display.YouTubeVideo at 0x7d3a0da22830>"
            ],
            "text/html": [
              "\n",
              "        <iframe\n",
              "            width=\"400\"\n",
              "            height=\"300\"\n",
              "            src=\"https://www.youtube.com/embed/https://www.youtube.com/watch?v=1Pb5mVFCo7k&list=PLerBKHAB5wgrO4WeDVN1QoxuFGBx069MA\"\n",
              "            frameborder=\"0\"\n",
              "            allowfullscreen\n",
              "            \n",
              "        ></iframe>\n",
              "        "
            ]
          },
          "metadata": {},
          "execution_count": 62
        }
      ]
    },
    {
      "cell_type": "markdown",
      "metadata": {
        "id": "awDFUzgWYKrY"
      },
      "source": [
        "## 4. Additional Exercises"
      ]
    },
    {
      "cell_type": "markdown",
      "metadata": {
        "id": "u6UVw0MfYKrY"
      },
      "source": [
        "**AE1**: Print a string a number of times equal to the length of the string."
      ]
    },
    {
      "cell_type": "code",
      "metadata": {
        "id": "KzLZ5be8YKrZ",
        "colab": {
          "base_uri": "https://localhost:8080/"
        },
        "outputId": "da731df5-b16b-4f58-b97e-c6f31e6a4c11"
      },
      "source": [
        "def loop_string(s):\n",
        "  for l in range(len(s)):\n",
        "    print(s)\n",
        "\n",
        "loop_string('Ayu Amira')"
      ],
      "execution_count": null,
      "outputs": [
        {
          "output_type": "stream",
          "name": "stdout",
          "text": [
            "Ayu Amira\n",
            "Ayu Amira\n",
            "Ayu Amira\n",
            "Ayu Amira\n",
            "Ayu Amira\n",
            "Ayu Amira\n",
            "Ayu Amira\n",
            "Ayu Amira\n",
            "Ayu Amira\n"
          ]
        }
      ]
    },
    {
      "cell_type": "markdown",
      "metadata": {
        "id": "jGiA40DtYKrb"
      },
      "source": [
        "**AE2**: Write a function **`Rome2Now`** that converts a Roman numeral (e.g. IV, XVII, MMXIX) to its decimal number form (corresponding e.g. 4, 17, 2019)."
      ]
    },
    {
      "cell_type": "code",
      "metadata": {
        "colab": {
          "base_uri": "https://localhost:8080/"
        },
        "outputId": "a74c52f1-3396-4d79-849c-23a9bbc969f1",
        "id": "l0ggfXsRlx7b"
      },
      "source": [
        "def Rome2Now(roman):\n",
        "    symbols = ['I','V','X','L','C','D','M']   ###Define list of numerals and corresponding values\n",
        "    values = [1,5,10,50,100,500,1000]\n",
        "    v = values[symbols.index(roman[0])]\n",
        "    s1 = roman[0]\n",
        "    for s2 in roman[1:]: ###Loop the numerals\n",
        "        v1 = values[symbols.index(s1)]\n",
        "        #print(s1,v1)\n",
        "        v2 = values[symbols.index(s2)]\n",
        "        #print(s2,v2)\n",
        "        if v2 <= v1:\n",
        "            v += v2     ###Incrementally add the corresponding values\n",
        "        else:\n",
        "            v = v - v1 + (v2-v1)   ###Condition to subtract values\n",
        "        s1 = s2\n",
        "    return v\n",
        "\n",
        "print(Rome2Now('MMXIX'))\n",
        "print(Rome2Now('MDCCCLXXXVIII'))\n",
        "print(Rome2Now('CMXCIX'))"
      ],
      "execution_count": null,
      "outputs": [
        {
          "output_type": "stream",
          "name": "stdout",
          "text": [
            "2019\n",
            "1888\n",
            "999\n"
          ]
        }
      ]
    },
    {
      "cell_type": "markdown",
      "metadata": {
        "id": "rjCfWgwNYKri"
      },
      "source": [
        "**AE3**: Write two functions to compute the factorial of an integer number: one uses a normal loop, another uses recursive function calls."
      ]
    },
    {
      "cell_type": "code",
      "metadata": {
        "id": "iD5P62RgYKrj",
        "outputId": "994c5703-fc45-402b-a913-ed090f93ebb7",
        "colab": {
          "base_uri": "https://localhost:8080/"
        }
      },
      "source": [
        "# Define a function called factorial(n)\n",
        "def factorial(n):\n",
        "    # fill in here\n",
        "    f = 1\n",
        "    for i in range(n,1,-1):    ###syntax\n",
        "        f *= i\n",
        "        #print(f)\n",
        "    return f\n",
        "\n",
        "def recursive_factorial(n):\n",
        "    # fill in here\n",
        "    if n>1:\n",
        "        n = n*recursive_factorial(n-1)  ###recursive call\n",
        "    else:\n",
        "        n = 1\n",
        "    return n\n",
        "\n",
        "answer = factorial(5)\n",
        "print(answer)\n",
        "\n",
        "answer2 = recursive_factorial(5)\n",
        "print(answer2)"
      ],
      "execution_count": null,
      "outputs": [
        {
          "output_type": "stream",
          "name": "stdout",
          "text": [
            "120\n",
            "120\n"
          ]
        }
      ]
    },
    {
      "cell_type": "markdown",
      "metadata": {
        "id": "wcvj78bLYKrm"
      },
      "source": [
        "**AE4**: Define a function that print the list of a specified list after removing even numbers from it."
      ]
    },
    {
      "cell_type": "code",
      "metadata": {
        "id": "yru_joxgYKrn",
        "colab": {
          "base_uri": "https://localhost:8080/"
        },
        "outputId": "4547f5a1-2110-4cc2-d11c-79417db015af"
      },
      "source": [
        "# Note: this function will not return any values\n",
        "num = [7, 8, 120, 25, 44, 20, 27]\n",
        "def remove_even(x): ###normal:loops and conditions\n",
        "    # fill in here\n",
        "    ### basic answer\n",
        "    #ans = []\n",
        "    #for i in x:\n",
        "    #    if i%2 != 0:\n",
        "    #        ans.append(i)\n",
        "    #    else:\n",
        "    #        continue\n",
        "\n",
        "    ###advanced answer: filter + lambda function\n",
        "    ans = list(filter(lambda y:(y%2!=0), x))\n",
        "    print(ans)\n",
        "\n",
        "remove_even(num)\n",
        "\n"
      ],
      "execution_count": null,
      "outputs": [
        {
          "output_type": "stream",
          "name": "stdout",
          "text": [
            "[7, 25, 27]\n"
          ]
        }
      ]
    }
  ]
}