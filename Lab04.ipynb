{
  "nbformat": 4,
  "nbformat_minor": 0,
  "metadata": {
    "kernelspec": {
      "display_name": "Python 3",
      "language": "python",
      "name": "python3"
    },
    "language_info": {
      "codemirror_mode": {
        "name": "ipython",
        "version": 3
      },
      "file_extension": ".py",
      "mimetype": "text/x-python",
      "name": "python",
      "nbconvert_exporter": "python",
      "pygments_lexer": "ipython3",
      "version": "3.6.5"
    },
    "colab": {
      "provenance": []
    }
  },
  "cells": [
    {
      "cell_type": "markdown",
      "metadata": {
        "id": "DPlDDFMH-vYk"
      },
      "source": [
        "# **Lab 4**"
      ]
    },
    {
      "cell_type": "markdown",
      "metadata": {
        "id": "EQj7TOt5-KZm"
      },
      "source": [
        "## Data Wrangling\n",
        "\n",
        "In this lab, you will learn various ways of manipulating (including some cleaning) data such as merging data, duplicate removal, addressing missing data and transformation functions and mappings. You will also go through two sample use cases using car price data and minimum wage data, and proceed to apply some of these techniques learned earlier. Finally, the processed data is turned into some simple descriptive analytics to churn out meaningful insights from visualizations.\n",
        "\n",
        "> **Credit note:** A portion of this lab was adapted from [this fantastic tutorial](https://lectures.quantecon.org/py/pandas_panel.html) from QuantEcon and `prakharrathi25`'s [Kaggle kernel](https://www.kaggle.com/prakharrathi25/data-wrangling/) on data wrangling."
      ]
    },
    {
      "cell_type": "code",
      "metadata": {
        "id": "X5r5FM4R-KZp"
      },
      "source": [
        "import numpy as np\n",
        "import pandas as pd"
      ],
      "execution_count": null,
      "outputs": []
    },
    {
      "cell_type": "markdown",
      "metadata": {
        "id": "BMt_qZ0bBfs3"
      },
      "source": [
        "**Preparation**: Go ahead and upload all the data files needed in this lab to the Colab session.\n"
      ]
    },
    {
      "cell_type": "markdown",
      "metadata": {
        "id": "IkqwYf5v-KZ2"
      },
      "source": [
        "<hr>\n",
        "\n",
        "Let's have a look at a classic dataset from UCI Machine Learning called the [Automobile Dataset](https://archive.ics.uci.edu/ml/datasets/automobile) which was later re-shared at Kaggle [here](https://www.kaggle.com/rickyrrii/old-car-price-data). This dataset is notoriously famous for being incomplete and noisy at best. In order for this data to be used for building a decent regression model (that is, a model that can predict car prices given a bunch of attributes), the data needs to be properly cleaned.\n",
        "\n",
        "The dataset is in the `.txt` file while the other `.names` file (open in any text editor) contains information of what are the attributes (columns) of the dataset."
      ]
    },
    {
      "cell_type": "code",
      "metadata": {
        "scrolled": true,
        "id": "z4OhB28R-KZ4",
        "colab": {
          "base_uri": "https://localhost:8080/",
          "height": 322
        },
        "outputId": "b929e3d8-984d-4b88-85a1-d0ab58bf3998"
      },
      "source": [
        "cols = ['symboling', 'normalized-losses', 'make', 'fuel-type', 'aspiration', 'num-of-doors', 'body-style', 'drive-wheels', 'engine-location', 'wheel-base', 'length', 'width', 'height', 'curb-weight', 'engine-type', 'num-of-cylinders', 'engine-size', 'fuel-system', 'bore', 'stroke', 'compression-ratio', 'horsepower', 'peak-rpm', 'city-mpg', 'highway-mpg', 'price']\n",
        "cars = pd.read_csv('imports-85.data.txt', names=cols)\n",
        "print(cars.shape)\n",
        "cars.head()"
      ],
      "execution_count": null,
      "outputs": [
        {
          "output_type": "stream",
          "name": "stdout",
          "text": [
            "(205, 26)\n"
          ]
        },
        {
          "output_type": "execute_result",
          "data": {
            "text/plain": [
              "   symboling normalized-losses         make fuel-type aspiration num-of-doors  \\\n",
              "0          3                 ?  alfa-romero       gas        std          two   \n",
              "1          3                 ?  alfa-romero       gas        std          two   \n",
              "2          1                 ?  alfa-romero       gas        std          two   \n",
              "3          2               164         audi       gas        std         four   \n",
              "4          2               164         audi       gas        std         four   \n",
              "\n",
              "    body-style drive-wheels engine-location  wheel-base  ...  engine-size  \\\n",
              "0  convertible          rwd           front        88.6  ...          130   \n",
              "1  convertible          rwd           front        88.6  ...          130   \n",
              "2    hatchback          rwd           front        94.5  ...          152   \n",
              "3        sedan          fwd           front        99.8  ...          109   \n",
              "4        sedan          4wd           front        99.4  ...          136   \n",
              "\n",
              "   fuel-system  bore  stroke compression-ratio horsepower  peak-rpm city-mpg  \\\n",
              "0         mpfi  3.47    2.68               9.0        111      5000       21   \n",
              "1         mpfi  3.47    2.68               9.0        111      5000       21   \n",
              "2         mpfi  2.68    3.47               9.0        154      5000       19   \n",
              "3         mpfi  3.19    3.40              10.0        102      5500       24   \n",
              "4         mpfi  3.19    3.40               8.0        115      5500       18   \n",
              "\n",
              "  highway-mpg  price  \n",
              "0          27  13495  \n",
              "1          27  16500  \n",
              "2          26  16500  \n",
              "3          30  13950  \n",
              "4          22  17450  \n",
              "\n",
              "[5 rows x 26 columns]"
            ],
            "text/html": [
              "\n",
              "  <div id=\"df-d0dc7e54-e0c8-4543-8614-1f8dab16775c\" class=\"colab-df-container\">\n",
              "    <div>\n",
              "<style scoped>\n",
              "    .dataframe tbody tr th:only-of-type {\n",
              "        vertical-align: middle;\n",
              "    }\n",
              "\n",
              "    .dataframe tbody tr th {\n",
              "        vertical-align: top;\n",
              "    }\n",
              "\n",
              "    .dataframe thead th {\n",
              "        text-align: right;\n",
              "    }\n",
              "</style>\n",
              "<table border=\"1\" class=\"dataframe\">\n",
              "  <thead>\n",
              "    <tr style=\"text-align: right;\">\n",
              "      <th></th>\n",
              "      <th>symboling</th>\n",
              "      <th>normalized-losses</th>\n",
              "      <th>make</th>\n",
              "      <th>fuel-type</th>\n",
              "      <th>aspiration</th>\n",
              "      <th>num-of-doors</th>\n",
              "      <th>body-style</th>\n",
              "      <th>drive-wheels</th>\n",
              "      <th>engine-location</th>\n",
              "      <th>wheel-base</th>\n",
              "      <th>...</th>\n",
              "      <th>engine-size</th>\n",
              "      <th>fuel-system</th>\n",
              "      <th>bore</th>\n",
              "      <th>stroke</th>\n",
              "      <th>compression-ratio</th>\n",
              "      <th>horsepower</th>\n",
              "      <th>peak-rpm</th>\n",
              "      <th>city-mpg</th>\n",
              "      <th>highway-mpg</th>\n",
              "      <th>price</th>\n",
              "    </tr>\n",
              "  </thead>\n",
              "  <tbody>\n",
              "    <tr>\n",
              "      <th>0</th>\n",
              "      <td>3</td>\n",
              "      <td>?</td>\n",
              "      <td>alfa-romero</td>\n",
              "      <td>gas</td>\n",
              "      <td>std</td>\n",
              "      <td>two</td>\n",
              "      <td>convertible</td>\n",
              "      <td>rwd</td>\n",
              "      <td>front</td>\n",
              "      <td>88.6</td>\n",
              "      <td>...</td>\n",
              "      <td>130</td>\n",
              "      <td>mpfi</td>\n",
              "      <td>3.47</td>\n",
              "      <td>2.68</td>\n",
              "      <td>9.0</td>\n",
              "      <td>111</td>\n",
              "      <td>5000</td>\n",
              "      <td>21</td>\n",
              "      <td>27</td>\n",
              "      <td>13495</td>\n",
              "    </tr>\n",
              "    <tr>\n",
              "      <th>1</th>\n",
              "      <td>3</td>\n",
              "      <td>?</td>\n",
              "      <td>alfa-romero</td>\n",
              "      <td>gas</td>\n",
              "      <td>std</td>\n",
              "      <td>two</td>\n",
              "      <td>convertible</td>\n",
              "      <td>rwd</td>\n",
              "      <td>front</td>\n",
              "      <td>88.6</td>\n",
              "      <td>...</td>\n",
              "      <td>130</td>\n",
              "      <td>mpfi</td>\n",
              "      <td>3.47</td>\n",
              "      <td>2.68</td>\n",
              "      <td>9.0</td>\n",
              "      <td>111</td>\n",
              "      <td>5000</td>\n",
              "      <td>21</td>\n",
              "      <td>27</td>\n",
              "      <td>16500</td>\n",
              "    </tr>\n",
              "    <tr>\n",
              "      <th>2</th>\n",
              "      <td>1</td>\n",
              "      <td>?</td>\n",
              "      <td>alfa-romero</td>\n",
              "      <td>gas</td>\n",
              "      <td>std</td>\n",
              "      <td>two</td>\n",
              "      <td>hatchback</td>\n",
              "      <td>rwd</td>\n",
              "      <td>front</td>\n",
              "      <td>94.5</td>\n",
              "      <td>...</td>\n",
              "      <td>152</td>\n",
              "      <td>mpfi</td>\n",
              "      <td>2.68</td>\n",
              "      <td>3.47</td>\n",
              "      <td>9.0</td>\n",
              "      <td>154</td>\n",
              "      <td>5000</td>\n",
              "      <td>19</td>\n",
              "      <td>26</td>\n",
              "      <td>16500</td>\n",
              "    </tr>\n",
              "    <tr>\n",
              "      <th>3</th>\n",
              "      <td>2</td>\n",
              "      <td>164</td>\n",
              "      <td>audi</td>\n",
              "      <td>gas</td>\n",
              "      <td>std</td>\n",
              "      <td>four</td>\n",
              "      <td>sedan</td>\n",
              "      <td>fwd</td>\n",
              "      <td>front</td>\n",
              "      <td>99.8</td>\n",
              "      <td>...</td>\n",
              "      <td>109</td>\n",
              "      <td>mpfi</td>\n",
              "      <td>3.19</td>\n",
              "      <td>3.40</td>\n",
              "      <td>10.0</td>\n",
              "      <td>102</td>\n",
              "      <td>5500</td>\n",
              "      <td>24</td>\n",
              "      <td>30</td>\n",
              "      <td>13950</td>\n",
              "    </tr>\n",
              "    <tr>\n",
              "      <th>4</th>\n",
              "      <td>2</td>\n",
              "      <td>164</td>\n",
              "      <td>audi</td>\n",
              "      <td>gas</td>\n",
              "      <td>std</td>\n",
              "      <td>four</td>\n",
              "      <td>sedan</td>\n",
              "      <td>4wd</td>\n",
              "      <td>front</td>\n",
              "      <td>99.4</td>\n",
              "      <td>...</td>\n",
              "      <td>136</td>\n",
              "      <td>mpfi</td>\n",
              "      <td>3.19</td>\n",
              "      <td>3.40</td>\n",
              "      <td>8.0</td>\n",
              "      <td>115</td>\n",
              "      <td>5500</td>\n",
              "      <td>18</td>\n",
              "      <td>22</td>\n",
              "      <td>17450</td>\n",
              "    </tr>\n",
              "  </tbody>\n",
              "</table>\n",
              "<p>5 rows × 26 columns</p>\n",
              "</div>\n",
              "    <div class=\"colab-df-buttons\">\n",
              "\n",
              "  <div class=\"colab-df-container\">\n",
              "    <button class=\"colab-df-convert\" onclick=\"convertToInteractive('df-d0dc7e54-e0c8-4543-8614-1f8dab16775c')\"\n",
              "            title=\"Convert this dataframe to an interactive table.\"\n",
              "            style=\"display:none;\">\n",
              "\n",
              "  <svg xmlns=\"http://www.w3.org/2000/svg\" height=\"24px\" viewBox=\"0 -960 960 960\">\n",
              "    <path d=\"M120-120v-720h720v720H120Zm60-500h600v-160H180v160Zm220 220h160v-160H400v160Zm0 220h160v-160H400v160ZM180-400h160v-160H180v160Zm440 0h160v-160H620v160ZM180-180h160v-160H180v160Zm440 0h160v-160H620v160Z\"/>\n",
              "  </svg>\n",
              "    </button>\n",
              "\n",
              "  <style>\n",
              "    .colab-df-container {\n",
              "      display:flex;\n",
              "      gap: 12px;\n",
              "    }\n",
              "\n",
              "    .colab-df-convert {\n",
              "      background-color: #E8F0FE;\n",
              "      border: none;\n",
              "      border-radius: 50%;\n",
              "      cursor: pointer;\n",
              "      display: none;\n",
              "      fill: #1967D2;\n",
              "      height: 32px;\n",
              "      padding: 0 0 0 0;\n",
              "      width: 32px;\n",
              "    }\n",
              "\n",
              "    .colab-df-convert:hover {\n",
              "      background-color: #E2EBFA;\n",
              "      box-shadow: 0px 1px 2px rgba(60, 64, 67, 0.3), 0px 1px 3px 1px rgba(60, 64, 67, 0.15);\n",
              "      fill: #174EA6;\n",
              "    }\n",
              "\n",
              "    .colab-df-buttons div {\n",
              "      margin-bottom: 4px;\n",
              "    }\n",
              "\n",
              "    [theme=dark] .colab-df-convert {\n",
              "      background-color: #3B4455;\n",
              "      fill: #D2E3FC;\n",
              "    }\n",
              "\n",
              "    [theme=dark] .colab-df-convert:hover {\n",
              "      background-color: #434B5C;\n",
              "      box-shadow: 0px 1px 3px 1px rgba(0, 0, 0, 0.15);\n",
              "      filter: drop-shadow(0px 1px 2px rgba(0, 0, 0, 0.3));\n",
              "      fill: #FFFFFF;\n",
              "    }\n",
              "  </style>\n",
              "\n",
              "    <script>\n",
              "      const buttonEl =\n",
              "        document.querySelector('#df-d0dc7e54-e0c8-4543-8614-1f8dab16775c button.colab-df-convert');\n",
              "      buttonEl.style.display =\n",
              "        google.colab.kernel.accessAllowed ? 'block' : 'none';\n",
              "\n",
              "      async function convertToInteractive(key) {\n",
              "        const element = document.querySelector('#df-d0dc7e54-e0c8-4543-8614-1f8dab16775c');\n",
              "        const dataTable =\n",
              "          await google.colab.kernel.invokeFunction('convertToInteractive',\n",
              "                                                    [key], {});\n",
              "        if (!dataTable) return;\n",
              "\n",
              "        const docLinkHtml = 'Like what you see? Visit the ' +\n",
              "          '<a target=\"_blank\" href=https://colab.research.google.com/notebooks/data_table.ipynb>data table notebook</a>'\n",
              "          + ' to learn more about interactive tables.';\n",
              "        element.innerHTML = '';\n",
              "        dataTable['output_type'] = 'display_data';\n",
              "        await google.colab.output.renderOutput(dataTable, element);\n",
              "        const docLink = document.createElement('div');\n",
              "        docLink.innerHTML = docLinkHtml;\n",
              "        element.appendChild(docLink);\n",
              "      }\n",
              "    </script>\n",
              "  </div>\n",
              "\n",
              "\n",
              "<div id=\"df-e4b78020-ef63-4087-97c1-70767dd52cc1\">\n",
              "  <button class=\"colab-df-quickchart\" onclick=\"quickchart('df-e4b78020-ef63-4087-97c1-70767dd52cc1')\"\n",
              "            title=\"Suggest charts.\"\n",
              "            style=\"display:none;\">\n",
              "\n",
              "<svg xmlns=\"http://www.w3.org/2000/svg\" height=\"24px\"viewBox=\"0 0 24 24\"\n",
              "     width=\"24px\">\n",
              "    <g>\n",
              "        <path d=\"M19 3H5c-1.1 0-2 .9-2 2v14c0 1.1.9 2 2 2h14c1.1 0 2-.9 2-2V5c0-1.1-.9-2-2-2zM9 17H7v-7h2v7zm4 0h-2V7h2v10zm4 0h-2v-4h2v4z\"/>\n",
              "    </g>\n",
              "</svg>\n",
              "  </button>\n",
              "\n",
              "<style>\n",
              "  .colab-df-quickchart {\n",
              "    background-color: #E8F0FE;\n",
              "    border: none;\n",
              "    border-radius: 50%;\n",
              "    cursor: pointer;\n",
              "    display: none;\n",
              "    fill: #1967D2;\n",
              "    height: 32px;\n",
              "    padding: 0 0 0 0;\n",
              "    width: 32px;\n",
              "  }\n",
              "\n",
              "  .colab-df-quickchart:hover {\n",
              "    background-color: #E2EBFA;\n",
              "    box-shadow: 0px 1px 2px rgba(60, 64, 67, 0.3), 0px 1px 3px 1px rgba(60, 64, 67, 0.15);\n",
              "    fill: #174EA6;\n",
              "  }\n",
              "\n",
              "  [theme=dark] .colab-df-quickchart {\n",
              "    background-color: #3B4455;\n",
              "    fill: #D2E3FC;\n",
              "  }\n",
              "\n",
              "  [theme=dark] .colab-df-quickchart:hover {\n",
              "    background-color: #434B5C;\n",
              "    box-shadow: 0px 1px 3px 1px rgba(0, 0, 0, 0.15);\n",
              "    filter: drop-shadow(0px 1px 2px rgba(0, 0, 0, 0.3));\n",
              "    fill: #FFFFFF;\n",
              "  }\n",
              "</style>\n",
              "\n",
              "  <script>\n",
              "    async function quickchart(key) {\n",
              "      const charts = await google.colab.kernel.invokeFunction(\n",
              "          'suggestCharts', [key], {});\n",
              "    }\n",
              "    (() => {\n",
              "      let quickchartButtonEl =\n",
              "        document.querySelector('#df-e4b78020-ef63-4087-97c1-70767dd52cc1 button');\n",
              "      quickchartButtonEl.style.display =\n",
              "        google.colab.kernel.accessAllowed ? 'block' : 'none';\n",
              "    })();\n",
              "  </script>\n",
              "</div>\n",
              "    </div>\n",
              "  </div>\n"
            ]
          },
          "metadata": {},
          "execution_count": 48
        }
      ]
    },
    {
      "cell_type": "markdown",
      "metadata": {
        "id": "7QCCae9d-KaA"
      },
      "source": [
        "As we can see, there are some question marks appearing in the dataframe, and those are basically missing data that may hinder our further analysis."
      ]
    },
    {
      "cell_type": "markdown",
      "metadata": {
        "id": "ragSDiM9-KaD"
      },
      "source": [
        "### Cleaning Missing Data\n",
        "\n",
        "Pandas uses the floating point value '**NaN**' (Not a Number) to represent missing data in both floating and non-floating point arrays. It also has its use as a sentinel that can be easily detected:"
      ]
    },
    {
      "cell_type": "code",
      "metadata": {
        "id": "WiHBjsEO-KaF",
        "colab": {
          "base_uri": "https://localhost:8080/"
        },
        "outputId": "796012b0-8b93-43be-89a3-1f03e3e14561"
      },
      "source": [
        "string_data = pd.Series(['aardvark', 'artichoke', np.nan, 'avocado'])\n",
        "print(string_data)\n",
        "print(string_data.isnull())     # isnull() checks for values that are NaN"
      ],
      "execution_count": null,
      "outputs": [
        {
          "output_type": "stream",
          "name": "stdout",
          "text": [
            "0     aardvark\n",
            "1    artichoke\n",
            "2          NaN\n",
            "3      avocado\n",
            "dtype: object\n",
            "0    False\n",
            "1    False\n",
            "2     True\n",
            "3    False\n",
            "dtype: bool\n"
          ]
        }
      ]
    },
    {
      "cell_type": "markdown",
      "metadata": {
        "id": "3t1aFvHc-KaM"
      },
      "source": [
        "Here are some NaN handling methods: `dropna`, `fillna`, `isnull`, `notnull`\n",
        "\n",
        "On a Series, it returns the Series with only the non-null data and index values:"
      ]
    },
    {
      "cell_type": "code",
      "metadata": {
        "id": "bDeIXnTC-KaN",
        "colab": {
          "base_uri": "https://localhost:8080/"
        },
        "outputId": "077088ec-902d-4cdd-8fd4-4e0c24bd1f11"
      },
      "source": [
        "data = pd.Series([1, np.nan, 3.5, np.nan, 7])\n",
        "print(data)"
      ],
      "execution_count": null,
      "outputs": [
        {
          "output_type": "stream",
          "name": "stdout",
          "text": [
            "0    1.0\n",
            "1    NaN\n",
            "2    3.5\n",
            "3    NaN\n",
            "4    7.0\n",
            "dtype: float64\n"
          ]
        }
      ]
    },
    {
      "cell_type": "markdown",
      "metadata": {
        "id": "K-pHyLTq-KaV"
      },
      "source": [
        "To simplify the use of `np.nan`, we can fix an alias `NA` for easy use:"
      ]
    },
    {
      "cell_type": "code",
      "metadata": {
        "id": "qQSjscLU-KaX",
        "colab": {
          "base_uri": "https://localhost:8080/"
        },
        "outputId": "d2d328cc-0160-43c1-9367-23c5e18f8fb3"
      },
      "source": [
        "from numpy import nan as NA\n",
        "\n",
        "data = pd.Series([1, NA, 3.5, NA, 7])\n",
        "print(data)"
      ],
      "execution_count": null,
      "outputs": [
        {
          "output_type": "stream",
          "name": "stdout",
          "text": [
            "0    1.0\n",
            "1    NaN\n",
            "2    3.5\n",
            "3    NaN\n",
            "4    7.0\n",
            "dtype: float64\n"
          ]
        }
      ]
    },
    {
      "cell_type": "code",
      "metadata": {
        "id": "Er5dhkhj-Kav",
        "colab": {
          "base_uri": "https://localhost:8080/"
        },
        "outputId": "9e7cc839-0066-4d2b-ea04-348ba6cea385"
      },
      "source": [
        "print(data[data.notnull()])     # notnull() acts as a boolean index for data"
      ],
      "execution_count": null,
      "outputs": [
        {
          "output_type": "stream",
          "name": "stdout",
          "text": [
            "0    1.0\n",
            "2    3.5\n",
            "4    7.0\n",
            "dtype: float64\n"
          ]
        }
      ]
    },
    {
      "cell_type": "markdown",
      "metadata": {
        "id": "HW8eYjW7-Ka3"
      },
      "source": [
        "With DataFrames, you may want to drop rows or columns which are all NA or just those containing any NAs. `dropna` by default drops any row containing a missing value:"
      ]
    },
    {
      "cell_type": "code",
      "metadata": {
        "id": "P4r6uQyq-Ka4",
        "colab": {
          "base_uri": "https://localhost:8080/"
        },
        "outputId": "b09c0949-6266-4ada-f53d-53ca8d2b3e9e"
      },
      "source": [
        "data = pd.DataFrame([[1., 6.5, 3.], [1., NA, NA], [NA, NA, NA], [NA, 6.5, 3.]])\n",
        "print(data)"
      ],
      "execution_count": null,
      "outputs": [
        {
          "output_type": "stream",
          "name": "stdout",
          "text": [
            "     0    1    2\n",
            "0  1.0  6.5  3.0\n",
            "1  1.0  NaN  NaN\n",
            "2  NaN  NaN  NaN\n",
            "3  NaN  6.5  3.0\n"
          ]
        }
      ]
    },
    {
      "cell_type": "code",
      "metadata": {
        "id": "4J3LLWtI-Ka-",
        "colab": {
          "base_uri": "https://localhost:8080/"
        },
        "outputId": "8b2376dc-9fb6-4bc4-dca9-bec155044f63"
      },
      "source": [
        "print(data.dropna())"
      ],
      "execution_count": null,
      "outputs": [
        {
          "output_type": "stream",
          "name": "stdout",
          "text": [
            "     0    1    2\n",
            "0  1.0  6.5  3.0\n"
          ]
        }
      ]
    },
    {
      "cell_type": "markdown",
      "metadata": {
        "id": "RJKxHQ2V-KbH"
      },
      "source": [
        "This seems so \"strict\"... As long as there is a single NaN, the row will be dropped.\n",
        "\n",
        "Passing `how='all'` will only drop rows that are all NA (watch row 2):"
      ]
    },
    {
      "cell_type": "code",
      "metadata": {
        "id": "dgroIR7s-KbI",
        "colab": {
          "base_uri": "https://localhost:8080/"
        },
        "outputId": "e98b4442-61c3-4cec-ec0f-0c94d4894208"
      },
      "source": [
        "print(data.dropna(how='all'))"
      ],
      "execution_count": null,
      "outputs": [
        {
          "output_type": "stream",
          "name": "stdout",
          "text": [
            "     0    1    2\n",
            "0  1.0  6.5  3.0\n",
            "1  1.0  NaN  NaN\n",
            "3  NaN  6.5  3.0\n"
          ]
        }
      ]
    },
    {
      "cell_type": "markdown",
      "metadata": {
        "id": "BFMaHaCF-KbO"
      },
      "source": [
        "> **Note**: `axis=0` is default, that is row-wise, using `axis=1` indicate column-wise. Dropping columns in the same way is only a matter of passing `axis=1`."
      ]
    },
    {
      "cell_type": "code",
      "metadata": {
        "id": "WZ-_QJRL-KbP",
        "colab": {
          "base_uri": "https://localhost:8080/"
        },
        "outputId": "176f477b-b64c-43b2-c0bd-2cf6ce818e72"
      },
      "source": [
        "data[4] = NA\n",
        "print(data)"
      ],
      "execution_count": null,
      "outputs": [
        {
          "output_type": "stream",
          "name": "stdout",
          "text": [
            "     0    1    2   4\n",
            "0  1.0  6.5  3.0 NaN\n",
            "1  1.0  NaN  NaN NaN\n",
            "2  NaN  NaN  NaN NaN\n",
            "3  NaN  6.5  3.0 NaN\n"
          ]
        }
      ]
    },
    {
      "cell_type": "code",
      "metadata": {
        "id": "NJFEhUfU-Kbd",
        "colab": {
          "base_uri": "https://localhost:8080/"
        },
        "outputId": "690de9d7-1c05-4db3-840f-0dfe2251a25a"
      },
      "source": [
        "print(data.dropna(axis=1, how='all'))"
      ],
      "execution_count": null,
      "outputs": [
        {
          "output_type": "stream",
          "name": "stdout",
          "text": [
            "     0    1    2\n",
            "0  1.0  6.5  3.0\n",
            "1  1.0  NaN  NaN\n",
            "2  NaN  NaN  NaN\n",
            "3  NaN  6.5  3.0\n"
          ]
        }
      ]
    },
    {
      "cell_type": "markdown",
      "metadata": {
        "id": "h9-QnxsL-Kbr"
      },
      "source": [
        "Rather than filtering out missing data (and potentially discarding other data along with it), you may want to fill in the \"holes\" in several ways.\n",
        "\n",
        "Calling `fillna` with a constant replaces missing values with that value:"
      ]
    },
    {
      "cell_type": "code",
      "metadata": {
        "id": "3GSD7pLq-Kbu",
        "colab": {
          "base_uri": "https://localhost:8080/"
        },
        "outputId": "dbb70169-72ac-46c3-eabf-4bd8e614b755"
      },
      "source": [
        "data = pd.DataFrame([[1., 6.5, 3.], [1., NA, NA], [NA, NA, NA], [NA, 6.5, 3.]])\n",
        "print(data)\n",
        "print()\n",
        "print(data.fillna(0))   # fill with 0"
      ],
      "execution_count": null,
      "outputs": [
        {
          "output_type": "stream",
          "name": "stdout",
          "text": [
            "     0    1    2\n",
            "0  1.0  6.5  3.0\n",
            "1  1.0  NaN  NaN\n",
            "2  NaN  NaN  NaN\n",
            "3  NaN  6.5  3.0\n",
            "\n",
            "     0    1    2\n",
            "0  1.0  6.5  3.0\n",
            "1  1.0  0.0  0.0\n",
            "2  0.0  0.0  0.0\n",
            "3  0.0  6.5  3.0\n"
          ]
        }
      ]
    },
    {
      "cell_type": "markdown",
      "metadata": {
        "id": "bX6HPCF4-Kb3"
      },
      "source": [
        "Calling `fillna` with a dictionary, you can use a different fill value for each column. The keys in the dict denotes the column index, while its corresponding value denotes the replacement value."
      ]
    },
    {
      "cell_type": "code",
      "metadata": {
        "id": "1Xp4SxAw-Kb3",
        "colab": {
          "base_uri": "https://localhost:8080/"
        },
        "outputId": "95222b21-a47a-465b-9893-4ce9bdefeaf5"
      },
      "source": [
        "data = pd.DataFrame([[1., 6.5, 3.], [1., NA, NA], [NA, NA, NA], [NA, 6.5, 3.]])\n",
        "print(data)\n",
        "print()\n",
        "print(data.fillna({1: 0.5, 2: -1}))   # fill in column 1 with 0.5 and column 2 with -1"
      ],
      "execution_count": null,
      "outputs": [
        {
          "output_type": "stream",
          "name": "stdout",
          "text": [
            "     0    1    2\n",
            "0  1.0  6.5  3.0\n",
            "1  1.0  NaN  NaN\n",
            "2  NaN  NaN  NaN\n",
            "3  NaN  6.5  3.0\n",
            "\n",
            "     0    1    2\n",
            "0  1.0  6.5  3.0\n",
            "1  1.0  0.5 -1.0\n",
            "2  NaN  0.5 -1.0\n",
            "3  NaN  6.5  3.0\n"
          ]
        }
      ]
    },
    {
      "cell_type": "markdown",
      "metadata": {
        "id": "ZYY__sMk-Kb9"
      },
      "source": [
        "You can fill NA with the mean value of the data (can be either a good intuitive approach or a totally bad approach sometimes...)"
      ]
    },
    {
      "cell_type": "code",
      "metadata": {
        "id": "XRy8jwzr-Kb-",
        "colab": {
          "base_uri": "https://localhost:8080/"
        },
        "outputId": "ceb44b57-f264-4c74-97e3-fc84879ad449"
      },
      "source": [
        "data = pd.Series([1., NA, 3.5, NA, 7])\n",
        "print(data.fillna(data.mean()))"
      ],
      "execution_count": null,
      "outputs": [
        {
          "output_type": "stream",
          "name": "stdout",
          "text": [
            "0    1.000000\n",
            "1    3.833333\n",
            "2    3.500000\n",
            "3    3.833333\n",
            "4    7.000000\n",
            "dtype: float64\n"
          ]
        }
      ]
    },
    {
      "cell_type": "markdown",
      "metadata": {
        "id": "q45s5gWN-KcG"
      },
      "source": [
        "Check out `fillna`'s function arguments: `value`, `method`, `axis`, `inplace`, `limit`"
      ]
    },
    {
      "cell_type": "code",
      "metadata": {
        "id": "tv4L041S-KcH",
        "colab": {
          "base_uri": "https://localhost:8080/"
        },
        "outputId": "40e703d5-416c-4180-c161-79f09f533faf"
      },
      "source": [
        "?data.fillna()"
      ],
      "execution_count": null,
      "outputs": [
        {
          "output_type": "stream",
          "name": "stdout",
          "text": [
            "Object `data.fillna()` not found.\n"
          ]
        }
      ]
    },
    {
      "cell_type": "markdown",
      "metadata": {
        "id": "SQdEsbfm-KcO"
      },
      "source": [
        "### Cleaning Duplicated Data\n",
        "\n",
        "The DataFrame method `duplicated()` returns a boolean Series indicating whether each row is a duplicate or not. Relatedly, `drop_duplicates()` returns a DataFrame without the duplicated entries (which are True)."
      ]
    },
    {
      "cell_type": "code",
      "metadata": {
        "id": "T8vHlPck-KcO",
        "colab": {
          "base_uri": "https://localhost:8080/"
        },
        "outputId": "46a81fd4-b947-4577-df72-26a1ddfe54af"
      },
      "source": [
        "#remove duplicates\n",
        "data = pd.DataFrame({'k1': ['one'] * 3 + ['two'] * 4,\n",
        "'k2': [1, 1, 2, 3, 3, 4, 4]})\n",
        "\n",
        "print(data)\n",
        "print(data.duplicated())\n",
        "print()\n",
        "print(data.drop_duplicates())"
      ],
      "execution_count": null,
      "outputs": [
        {
          "output_type": "stream",
          "name": "stdout",
          "text": [
            "    k1  k2\n",
            "0  one   1\n",
            "1  one   1\n",
            "2  one   2\n",
            "3  two   3\n",
            "4  two   3\n",
            "5  two   4\n",
            "6  two   4\n",
            "0    False\n",
            "1     True\n",
            "2    False\n",
            "3    False\n",
            "4     True\n",
            "5    False\n",
            "6     True\n",
            "dtype: bool\n",
            "\n",
            "    k1  k2\n",
            "0  one   1\n",
            "2  one   2\n",
            "3  two   3\n",
            "5  two   4\n"
          ]
        }
      ]
    },
    {
      "cell_type": "markdown",
      "metadata": {
        "id": "5xPXJdL5-KcR"
      },
      "source": [
        "You can specify additional criteria to detect for duplicates. Suppose we had an additional column of values and we want to filter duplicates only based on the 'k1' column:"
      ]
    },
    {
      "cell_type": "code",
      "metadata": {
        "id": "D9a1mBcW-KcS",
        "colab": {
          "base_uri": "https://localhost:8080/"
        },
        "outputId": "8a244136-189b-4094-86d9-a2e976e79e30"
      },
      "source": [
        "data['v1'] = range(7)    # add another column just to know which row is kept\n",
        "print(data)\n",
        "print()\n",
        "print(data.drop_duplicates(['k1']))"
      ],
      "execution_count": null,
      "outputs": [
        {
          "output_type": "stream",
          "name": "stdout",
          "text": [
            "    k1  k2  v1\n",
            "0  one   1   0\n",
            "1  one   1   1\n",
            "2  one   2   2\n",
            "3  two   3   3\n",
            "4  two   3   4\n",
            "5  two   4   5\n",
            "6  two   4   6\n",
            "\n",
            "    k1  k2  v1\n",
            "0  one   1   0\n",
            "3  two   3   3\n"
          ]
        }
      ]
    },
    {
      "cell_type": "markdown",
      "metadata": {
        "id": "8C7Dbcap-KcV"
      },
      "source": [
        "---\n",
        "OK. Going back to the Automobile data, you can choose to convert the \"?\" symbols to NaN (which allow us to use those functions just now)"
      ]
    },
    {
      "cell_type": "code",
      "metadata": {
        "id": "tEr8WtF7-KcW",
        "colab": {
          "base_uri": "https://localhost:8080/",
          "height": 305
        },
        "outputId": "305ede6f-fbaa-4f81-9e1f-eaf01eb23a4d"
      },
      "source": [
        "cars = cars.replace(\"?\", NA)\n",
        "cars.head()"
      ],
      "execution_count": null,
      "outputs": [
        {
          "output_type": "execute_result",
          "data": {
            "text/plain": [
              "   symboling normalized-losses         make fuel-type aspiration num-of-doors  \\\n",
              "0          3               NaN  alfa-romero       gas        std          two   \n",
              "1          3               NaN  alfa-romero       gas        std          two   \n",
              "2          1               NaN  alfa-romero       gas        std          two   \n",
              "3          2               164         audi       gas        std         four   \n",
              "4          2               164         audi       gas        std         four   \n",
              "\n",
              "    body-style drive-wheels engine-location  wheel-base  ...  engine-size  \\\n",
              "0  convertible          rwd           front        88.6  ...          130   \n",
              "1  convertible          rwd           front        88.6  ...          130   \n",
              "2    hatchback          rwd           front        94.5  ...          152   \n",
              "3        sedan          fwd           front        99.8  ...          109   \n",
              "4        sedan          4wd           front        99.4  ...          136   \n",
              "\n",
              "   fuel-system  bore  stroke compression-ratio horsepower  peak-rpm city-mpg  \\\n",
              "0         mpfi  3.47    2.68               9.0        111      5000       21   \n",
              "1         mpfi  3.47    2.68               9.0        111      5000       21   \n",
              "2         mpfi  2.68    3.47               9.0        154      5000       19   \n",
              "3         mpfi  3.19    3.40              10.0        102      5500       24   \n",
              "4         mpfi  3.19    3.40               8.0        115      5500       18   \n",
              "\n",
              "  highway-mpg  price  \n",
              "0          27  13495  \n",
              "1          27  16500  \n",
              "2          26  16500  \n",
              "3          30  13950  \n",
              "4          22  17450  \n",
              "\n",
              "[5 rows x 26 columns]"
            ],
            "text/html": [
              "\n",
              "  <div id=\"df-03d3d9dc-08c8-4068-b3b7-9f4bc001824a\" class=\"colab-df-container\">\n",
              "    <div>\n",
              "<style scoped>\n",
              "    .dataframe tbody tr th:only-of-type {\n",
              "        vertical-align: middle;\n",
              "    }\n",
              "\n",
              "    .dataframe tbody tr th {\n",
              "        vertical-align: top;\n",
              "    }\n",
              "\n",
              "    .dataframe thead th {\n",
              "        text-align: right;\n",
              "    }\n",
              "</style>\n",
              "<table border=\"1\" class=\"dataframe\">\n",
              "  <thead>\n",
              "    <tr style=\"text-align: right;\">\n",
              "      <th></th>\n",
              "      <th>symboling</th>\n",
              "      <th>normalized-losses</th>\n",
              "      <th>make</th>\n",
              "      <th>fuel-type</th>\n",
              "      <th>aspiration</th>\n",
              "      <th>num-of-doors</th>\n",
              "      <th>body-style</th>\n",
              "      <th>drive-wheels</th>\n",
              "      <th>engine-location</th>\n",
              "      <th>wheel-base</th>\n",
              "      <th>...</th>\n",
              "      <th>engine-size</th>\n",
              "      <th>fuel-system</th>\n",
              "      <th>bore</th>\n",
              "      <th>stroke</th>\n",
              "      <th>compression-ratio</th>\n",
              "      <th>horsepower</th>\n",
              "      <th>peak-rpm</th>\n",
              "      <th>city-mpg</th>\n",
              "      <th>highway-mpg</th>\n",
              "      <th>price</th>\n",
              "    </tr>\n",
              "  </thead>\n",
              "  <tbody>\n",
              "    <tr>\n",
              "      <th>0</th>\n",
              "      <td>3</td>\n",
              "      <td>NaN</td>\n",
              "      <td>alfa-romero</td>\n",
              "      <td>gas</td>\n",
              "      <td>std</td>\n",
              "      <td>two</td>\n",
              "      <td>convertible</td>\n",
              "      <td>rwd</td>\n",
              "      <td>front</td>\n",
              "      <td>88.6</td>\n",
              "      <td>...</td>\n",
              "      <td>130</td>\n",
              "      <td>mpfi</td>\n",
              "      <td>3.47</td>\n",
              "      <td>2.68</td>\n",
              "      <td>9.0</td>\n",
              "      <td>111</td>\n",
              "      <td>5000</td>\n",
              "      <td>21</td>\n",
              "      <td>27</td>\n",
              "      <td>13495</td>\n",
              "    </tr>\n",
              "    <tr>\n",
              "      <th>1</th>\n",
              "      <td>3</td>\n",
              "      <td>NaN</td>\n",
              "      <td>alfa-romero</td>\n",
              "      <td>gas</td>\n",
              "      <td>std</td>\n",
              "      <td>two</td>\n",
              "      <td>convertible</td>\n",
              "      <td>rwd</td>\n",
              "      <td>front</td>\n",
              "      <td>88.6</td>\n",
              "      <td>...</td>\n",
              "      <td>130</td>\n",
              "      <td>mpfi</td>\n",
              "      <td>3.47</td>\n",
              "      <td>2.68</td>\n",
              "      <td>9.0</td>\n",
              "      <td>111</td>\n",
              "      <td>5000</td>\n",
              "      <td>21</td>\n",
              "      <td>27</td>\n",
              "      <td>16500</td>\n",
              "    </tr>\n",
              "    <tr>\n",
              "      <th>2</th>\n",
              "      <td>1</td>\n",
              "      <td>NaN</td>\n",
              "      <td>alfa-romero</td>\n",
              "      <td>gas</td>\n",
              "      <td>std</td>\n",
              "      <td>two</td>\n",
              "      <td>hatchback</td>\n",
              "      <td>rwd</td>\n",
              "      <td>front</td>\n",
              "      <td>94.5</td>\n",
              "      <td>...</td>\n",
              "      <td>152</td>\n",
              "      <td>mpfi</td>\n",
              "      <td>2.68</td>\n",
              "      <td>3.47</td>\n",
              "      <td>9.0</td>\n",
              "      <td>154</td>\n",
              "      <td>5000</td>\n",
              "      <td>19</td>\n",
              "      <td>26</td>\n",
              "      <td>16500</td>\n",
              "    </tr>\n",
              "    <tr>\n",
              "      <th>3</th>\n",
              "      <td>2</td>\n",
              "      <td>164</td>\n",
              "      <td>audi</td>\n",
              "      <td>gas</td>\n",
              "      <td>std</td>\n",
              "      <td>four</td>\n",
              "      <td>sedan</td>\n",
              "      <td>fwd</td>\n",
              "      <td>front</td>\n",
              "      <td>99.8</td>\n",
              "      <td>...</td>\n",
              "      <td>109</td>\n",
              "      <td>mpfi</td>\n",
              "      <td>3.19</td>\n",
              "      <td>3.40</td>\n",
              "      <td>10.0</td>\n",
              "      <td>102</td>\n",
              "      <td>5500</td>\n",
              "      <td>24</td>\n",
              "      <td>30</td>\n",
              "      <td>13950</td>\n",
              "    </tr>\n",
              "    <tr>\n",
              "      <th>4</th>\n",
              "      <td>2</td>\n",
              "      <td>164</td>\n",
              "      <td>audi</td>\n",
              "      <td>gas</td>\n",
              "      <td>std</td>\n",
              "      <td>four</td>\n",
              "      <td>sedan</td>\n",
              "      <td>4wd</td>\n",
              "      <td>front</td>\n",
              "      <td>99.4</td>\n",
              "      <td>...</td>\n",
              "      <td>136</td>\n",
              "      <td>mpfi</td>\n",
              "      <td>3.19</td>\n",
              "      <td>3.40</td>\n",
              "      <td>8.0</td>\n",
              "      <td>115</td>\n",
              "      <td>5500</td>\n",
              "      <td>18</td>\n",
              "      <td>22</td>\n",
              "      <td>17450</td>\n",
              "    </tr>\n",
              "  </tbody>\n",
              "</table>\n",
              "<p>5 rows × 26 columns</p>\n",
              "</div>\n",
              "    <div class=\"colab-df-buttons\">\n",
              "\n",
              "  <div class=\"colab-df-container\">\n",
              "    <button class=\"colab-df-convert\" onclick=\"convertToInteractive('df-03d3d9dc-08c8-4068-b3b7-9f4bc001824a')\"\n",
              "            title=\"Convert this dataframe to an interactive table.\"\n",
              "            style=\"display:none;\">\n",
              "\n",
              "  <svg xmlns=\"http://www.w3.org/2000/svg\" height=\"24px\" viewBox=\"0 -960 960 960\">\n",
              "    <path d=\"M120-120v-720h720v720H120Zm60-500h600v-160H180v160Zm220 220h160v-160H400v160Zm0 220h160v-160H400v160ZM180-400h160v-160H180v160Zm440 0h160v-160H620v160ZM180-180h160v-160H180v160Zm440 0h160v-160H620v160Z\"/>\n",
              "  </svg>\n",
              "    </button>\n",
              "\n",
              "  <style>\n",
              "    .colab-df-container {\n",
              "      display:flex;\n",
              "      gap: 12px;\n",
              "    }\n",
              "\n",
              "    .colab-df-convert {\n",
              "      background-color: #E8F0FE;\n",
              "      border: none;\n",
              "      border-radius: 50%;\n",
              "      cursor: pointer;\n",
              "      display: none;\n",
              "      fill: #1967D2;\n",
              "      height: 32px;\n",
              "      padding: 0 0 0 0;\n",
              "      width: 32px;\n",
              "    }\n",
              "\n",
              "    .colab-df-convert:hover {\n",
              "      background-color: #E2EBFA;\n",
              "      box-shadow: 0px 1px 2px rgba(60, 64, 67, 0.3), 0px 1px 3px 1px rgba(60, 64, 67, 0.15);\n",
              "      fill: #174EA6;\n",
              "    }\n",
              "\n",
              "    .colab-df-buttons div {\n",
              "      margin-bottom: 4px;\n",
              "    }\n",
              "\n",
              "    [theme=dark] .colab-df-convert {\n",
              "      background-color: #3B4455;\n",
              "      fill: #D2E3FC;\n",
              "    }\n",
              "\n",
              "    [theme=dark] .colab-df-convert:hover {\n",
              "      background-color: #434B5C;\n",
              "      box-shadow: 0px 1px 3px 1px rgba(0, 0, 0, 0.15);\n",
              "      filter: drop-shadow(0px 1px 2px rgba(0, 0, 0, 0.3));\n",
              "      fill: #FFFFFF;\n",
              "    }\n",
              "  </style>\n",
              "\n",
              "    <script>\n",
              "      const buttonEl =\n",
              "        document.querySelector('#df-03d3d9dc-08c8-4068-b3b7-9f4bc001824a button.colab-df-convert');\n",
              "      buttonEl.style.display =\n",
              "        google.colab.kernel.accessAllowed ? 'block' : 'none';\n",
              "\n",
              "      async function convertToInteractive(key) {\n",
              "        const element = document.querySelector('#df-03d3d9dc-08c8-4068-b3b7-9f4bc001824a');\n",
              "        const dataTable =\n",
              "          await google.colab.kernel.invokeFunction('convertToInteractive',\n",
              "                                                    [key], {});\n",
              "        if (!dataTable) return;\n",
              "\n",
              "        const docLinkHtml = 'Like what you see? Visit the ' +\n",
              "          '<a target=\"_blank\" href=https://colab.research.google.com/notebooks/data_table.ipynb>data table notebook</a>'\n",
              "          + ' to learn more about interactive tables.';\n",
              "        element.innerHTML = '';\n",
              "        dataTable['output_type'] = 'display_data';\n",
              "        await google.colab.output.renderOutput(dataTable, element);\n",
              "        const docLink = document.createElement('div');\n",
              "        docLink.innerHTML = docLinkHtml;\n",
              "        element.appendChild(docLink);\n",
              "      }\n",
              "    </script>\n",
              "  </div>\n",
              "\n",
              "\n",
              "<div id=\"df-0fa40c07-ca0e-44ba-9238-a4449d477664\">\n",
              "  <button class=\"colab-df-quickchart\" onclick=\"quickchart('df-0fa40c07-ca0e-44ba-9238-a4449d477664')\"\n",
              "            title=\"Suggest charts.\"\n",
              "            style=\"display:none;\">\n",
              "\n",
              "<svg xmlns=\"http://www.w3.org/2000/svg\" height=\"24px\"viewBox=\"0 0 24 24\"\n",
              "     width=\"24px\">\n",
              "    <g>\n",
              "        <path d=\"M19 3H5c-1.1 0-2 .9-2 2v14c0 1.1.9 2 2 2h14c1.1 0 2-.9 2-2V5c0-1.1-.9-2-2-2zM9 17H7v-7h2v7zm4 0h-2V7h2v10zm4 0h-2v-4h2v4z\"/>\n",
              "    </g>\n",
              "</svg>\n",
              "  </button>\n",
              "\n",
              "<style>\n",
              "  .colab-df-quickchart {\n",
              "    background-color: #E8F0FE;\n",
              "    border: none;\n",
              "    border-radius: 50%;\n",
              "    cursor: pointer;\n",
              "    display: none;\n",
              "    fill: #1967D2;\n",
              "    height: 32px;\n",
              "    padding: 0 0 0 0;\n",
              "    width: 32px;\n",
              "  }\n",
              "\n",
              "  .colab-df-quickchart:hover {\n",
              "    background-color: #E2EBFA;\n",
              "    box-shadow: 0px 1px 2px rgba(60, 64, 67, 0.3), 0px 1px 3px 1px rgba(60, 64, 67, 0.15);\n",
              "    fill: #174EA6;\n",
              "  }\n",
              "\n",
              "  [theme=dark] .colab-df-quickchart {\n",
              "    background-color: #3B4455;\n",
              "    fill: #D2E3FC;\n",
              "  }\n",
              "\n",
              "  [theme=dark] .colab-df-quickchart:hover {\n",
              "    background-color: #434B5C;\n",
              "    box-shadow: 0px 1px 3px 1px rgba(0, 0, 0, 0.15);\n",
              "    filter: drop-shadow(0px 1px 2px rgba(0, 0, 0, 0.3));\n",
              "    fill: #FFFFFF;\n",
              "  }\n",
              "</style>\n",
              "\n",
              "  <script>\n",
              "    async function quickchart(key) {\n",
              "      const charts = await google.colab.kernel.invokeFunction(\n",
              "          'suggestCharts', [key], {});\n",
              "    }\n",
              "    (() => {\n",
              "      let quickchartButtonEl =\n",
              "        document.querySelector('#df-0fa40c07-ca0e-44ba-9238-a4449d477664 button');\n",
              "      quickchartButtonEl.style.display =\n",
              "        google.colab.kernel.accessAllowed ? 'block' : 'none';\n",
              "    })();\n",
              "  </script>\n",
              "</div>\n",
              "    </div>\n",
              "  </div>\n"
            ]
          },
          "metadata": {},
          "execution_count": 63
        }
      ]
    },
    {
      "cell_type": "markdown",
      "metadata": {
        "id": "Rtl97XDq-Kcb"
      },
      "source": [
        "Now, to quickly get the big picture of the condition of the data, we can try to find out how many NaNs are there in each of these columns. Remember: indices of a dataframe refer to the columns, so applying a function to a dataframe will be effective on the columns first."
      ]
    },
    {
      "cell_type": "code",
      "metadata": {
        "id": "6MVTJkuF-Kcc",
        "colab": {
          "base_uri": "https://localhost:8080/"
        },
        "outputId": "a9d7cea3-eecb-4895-feb9-4ceda4349bd6"
      },
      "source": [
        "cars.isnull().sum()"
      ],
      "execution_count": null,
      "outputs": [
        {
          "output_type": "execute_result",
          "data": {
            "text/plain": [
              "symboling             0\n",
              "normalized-losses    41\n",
              "make                  0\n",
              "fuel-type             0\n",
              "aspiration            0\n",
              "num-of-doors          2\n",
              "body-style            0\n",
              "drive-wheels          0\n",
              "engine-location       0\n",
              "wheel-base            0\n",
              "length                0\n",
              "width                 0\n",
              "height                0\n",
              "curb-weight           0\n",
              "engine-type           0\n",
              "num-of-cylinders      0\n",
              "engine-size           0\n",
              "fuel-system           0\n",
              "bore                  4\n",
              "stroke                4\n",
              "compression-ratio     0\n",
              "horsepower            2\n",
              "peak-rpm              2\n",
              "city-mpg              0\n",
              "highway-mpg           0\n",
              "price                 4\n",
              "dtype: int64"
            ]
          },
          "metadata": {},
          "execution_count": 64
        }
      ]
    },
    {
      "cell_type": "markdown",
      "metadata": {
        "id": "4Ja1VDBV3lc3"
      },
      "source": [
        "Based on this summary, we can see that `normalized-loss` attribute has the most NaN values, while there are a few others also have incomplete data."
      ]
    },
    {
      "cell_type": "code",
      "metadata": {
        "id": "lpZBpGJ83S_h",
        "colab": {
          "base_uri": "https://localhost:8080/"
        },
        "outputId": "5578cce8-aabf-45e6-e0f9-e8abfbbd62bc"
      },
      "source": [
        "cars.dtypes     # this shows all the data types within the dataframe"
      ],
      "execution_count": null,
      "outputs": [
        {
          "output_type": "execute_result",
          "data": {
            "text/plain": [
              "symboling              int64\n",
              "normalized-losses     object\n",
              "make                  object\n",
              "fuel-type             object\n",
              "aspiration            object\n",
              "num-of-doors          object\n",
              "body-style            object\n",
              "drive-wheels          object\n",
              "engine-location       object\n",
              "wheel-base           float64\n",
              "length               float64\n",
              "width                float64\n",
              "height               float64\n",
              "curb-weight            int64\n",
              "engine-type           object\n",
              "num-of-cylinders      object\n",
              "engine-size            int64\n",
              "fuel-system           object\n",
              "bore                  object\n",
              "stroke                object\n",
              "compression-ratio    float64\n",
              "horsepower            object\n",
              "peak-rpm              object\n",
              "city-mpg               int64\n",
              "highway-mpg            int64\n",
              "price                 object\n",
              "dtype: object"
            ]
          },
          "metadata": {},
          "execution_count": 65
        }
      ]
    },
    {
      "cell_type": "markdown",
      "metadata": {
        "id": "ulpmzD_g-Kce"
      },
      "source": [
        "Numeric operations such as mean or max cannot be applied to object types. Take this example:"
      ]
    },
    {
      "cell_type": "code",
      "metadata": {
        "id": "h4dotaeQ3CYj"
      },
      "source": [
        "cars[\"horsepower\"].mean()\n",
        "# try this as well:\n",
        "# cars[\"horsepower\"].max()"
      ],
      "execution_count": null,
      "outputs": []
    },
    {
      "cell_type": "markdown",
      "metadata": {
        "id": "3451jkWZ36TR"
      },
      "source": [
        "The right way to handle this is to force the conversion to numeric on a specific series."
      ]
    },
    {
      "cell_type": "code",
      "metadata": {
        "id": "l-1mxsdR33kU",
        "colab": {
          "base_uri": "https://localhost:8080/"
        },
        "outputId": "3285efb2-a512-481b-8300-3ef1e2873afe"
      },
      "source": [
        "print(cars[\"horsepower\"].dtype)\n",
        "hp_num = pd.to_numeric(cars[\"horsepower\"], errors='coerce')\n",
        "print(hp_num.dtype)\n",
        "print(hp_num.mean())\n",
        "\n",
        "\n",
        "\n"
      ],
      "execution_count": null,
      "outputs": [
        {
          "output_type": "stream",
          "name": "stdout",
          "text": [
            "object\n",
            "float64\n",
            "104.25615763546799\n"
          ]
        }
      ]
    },
    {
      "cell_type": "markdown",
      "metadata": {
        "id": "zYUtvHIh3DVw"
      },
      "source": [
        "Replace the NaN data in `normalized-loss`, `peak-rpm`, `horsepower`, `bore`, `stroke` with their respective mean values."
      ]
    },
    {
      "cell_type": "code",
      "metadata": {
        "id": "yx1qnOSI-Kcf"
      },
      "source": [
        "hp_num1 = pd.to_numeric(cars['normalized-losses'], errors='coerce')\n",
        "cars['normalized-losses'] = cars['normalized-losses'].fillna(hp_num1.mean())\n",
        "\n",
        "hp_num2 = pd.to_numeric(cars['peak-rpm'], errors='coerce')\n",
        "cars['peak-rpm'] = cars['peak-rpm'].fillna(hp_num2.mean())\n",
        "\n",
        "hp_num3 = pd.to_numeric(cars['horsepower'], errors='coerce')\n",
        "cars['horsepower'] = cars['horsepower'].fillna(hp_num3.mean())\n",
        "\n",
        "hp_num4 = pd.to_numeric(cars['bore'], errors='coerce')\n",
        "cars['bore'] = cars['bore'].fillna(hp_num4.mean())\n",
        "\n",
        "hp_num5 = pd.to_numeric(cars['stroke'], errors='coerce')\n",
        "cars['stroke'] = cars['stroke'].fillna(hp_num5.mean())\n",
        "\n",
        "# note: Pandas cannot convert NaN to integer or floats, so to solve this\n",
        "# we need to convert the dataframe to numeric with errors=coerce option\n",
        "# after that, we can safely compute the mean, ignoring those"
      ],
      "execution_count": null,
      "outputs": []
    },
    {
      "cell_type": "markdown",
      "metadata": {
        "id": "qteUfEIy-Kcl"
      },
      "source": [
        "Check again..."
      ]
    },
    {
      "cell_type": "code",
      "metadata": {
        "id": "Su0XtpL2-Kco",
        "colab": {
          "base_uri": "https://localhost:8080/"
        },
        "outputId": "6876b1fa-77ca-4861-fe6c-c4c644788c28"
      },
      "source": [
        "cars.isnull().sum()"
      ],
      "execution_count": null,
      "outputs": [
        {
          "output_type": "execute_result",
          "data": {
            "text/plain": [
              "symboling            0\n",
              "normalized-losses    0\n",
              "make                 0\n",
              "fuel-type            0\n",
              "aspiration           0\n",
              "num-of-doors         2\n",
              "body-style           0\n",
              "drive-wheels         0\n",
              "engine-location      0\n",
              "wheel-base           0\n",
              "length               0\n",
              "width                0\n",
              "height               0\n",
              "curb-weight          0\n",
              "engine-type          0\n",
              "num-of-cylinders     0\n",
              "engine-size          0\n",
              "fuel-system          0\n",
              "bore                 0\n",
              "stroke               0\n",
              "compression-ratio    0\n",
              "horsepower           0\n",
              "peak-rpm             0\n",
              "city-mpg             0\n",
              "highway-mpg          0\n",
              "price                4\n",
              "dtype: int64"
            ]
          },
          "metadata": {},
          "execution_count": 68
        }
      ]
    },
    {
      "cell_type": "markdown",
      "metadata": {
        "id": "UibFgmkf-Kcx"
      },
      "source": [
        "So we have not tackled the missing values in `num-of-doors` which appears to be a category, which is a string.\n",
        "\n",
        "Naively, we can replace the missing values with the most frequently appearing category."
      ]
    },
    {
      "cell_type": "code",
      "metadata": {
        "id": "PShBJChz-Kcy",
        "colab": {
          "base_uri": "https://localhost:8080/"
        },
        "outputId": "a6e38d48-8d44-4d4c-ca01-4adba55a1083"
      },
      "source": [
        "cars[\"num-of-doors\"].value_counts()"
      ],
      "execution_count": null,
      "outputs": [
        {
          "output_type": "execute_result",
          "data": {
            "text/plain": [
              "four    114\n",
              "two      89\n",
              "Name: num-of-doors, dtype: int64"
            ]
          },
          "metadata": {},
          "execution_count": 69
        }
      ]
    },
    {
      "cell_type": "markdown",
      "metadata": {
        "id": "GmmrbFnK-Kc1"
      },
      "source": [
        "Use the `idxmax()` function to directly pull out the value that corresponds to the item with the max value count."
      ]
    },
    {
      "cell_type": "code",
      "metadata": {
        "id": "LyXFaCuz-Kc1",
        "colab": {
          "base_uri": "https://localhost:8080/",
          "height": 35
        },
        "outputId": "c8654eb7-b302-42e3-f3d5-a81920df34ec"
      },
      "source": [
        "cars[\"num-of-doors\"].value_counts().idxmax()"
      ],
      "execution_count": null,
      "outputs": [
        {
          "output_type": "execute_result",
          "data": {
            "text/plain": [
              "'four'"
            ],
            "application/vnd.google.colaboratory.intrinsic+json": {
              "type": "string"
            }
          },
          "metadata": {},
          "execution_count": 70
        }
      ]
    },
    {
      "cell_type": "markdown",
      "metadata": {
        "id": "6QPQrmd3-Kc4"
      },
      "source": [
        "Then, go ahead and replace the missing `num-of-doors` value by the most frequent value \"four\"."
      ]
    },
    {
      "cell_type": "code",
      "metadata": {
        "scrolled": true,
        "id": "KkKzK3ZP-Kc4",
        "colab": {
          "base_uri": "https://localhost:8080/"
        },
        "outputId": "4f75cd73-d0ac-46f6-ae48-e2c747d0653a"
      },
      "source": [
        "cars[\"num-of-doors\"].replace(NA, \"four\", inplace=True)\n",
        "# inplace=True allows replacement to take place in the dataframe itself\n",
        "\n",
        "cars.isnull().sum()    # check again"
      ],
      "execution_count": null,
      "outputs": [
        {
          "output_type": "execute_result",
          "data": {
            "text/plain": [
              "symboling            0\n",
              "normalized-losses    0\n",
              "make                 0\n",
              "fuel-type            0\n",
              "aspiration           0\n",
              "num-of-doors         0\n",
              "body-style           0\n",
              "drive-wheels         0\n",
              "engine-location      0\n",
              "wheel-base           0\n",
              "length               0\n",
              "width                0\n",
              "height               0\n",
              "curb-weight          0\n",
              "engine-type          0\n",
              "num-of-cylinders     0\n",
              "engine-size          0\n",
              "fuel-system          0\n",
              "bore                 0\n",
              "stroke               0\n",
              "compression-ratio    0\n",
              "horsepower           0\n",
              "peak-rpm             0\n",
              "city-mpg             0\n",
              "highway-mpg          0\n",
              "price                4\n",
              "dtype: int64"
            ]
          },
          "metadata": {},
          "execution_count": 71
        }
      ]
    },
    {
      "cell_type": "markdown",
      "metadata": {
        "id": "gUXRe8aK-Kc7"
      },
      "source": [
        "**Q1**: Drop all rows that do not have the price data. **Hint**: Use dropna(), specify which column to operate on with `subset` parameter"
      ]
    },
    {
      "cell_type": "code",
      "execution_count": null,
      "metadata": {
        "id": "qCSNmylM-Kc7"
      },
      "outputs": [],
      "source": [
        "# fill in here\n"
      ]
    },
    {
      "cell_type": "markdown",
      "metadata": {
        "id": "dxE-9R1w-Kc_"
      },
      "source": [
        "**Verify**: The data should have 201 rows after all the cleaning is done."
      ]
    },
    {
      "cell_type": "code",
      "metadata": {
        "id": "s0cp_0ie-Kc_",
        "colab": {
          "base_uri": "https://localhost:8080/"
        },
        "outputId": "328e6b17-2b98-4bcc-f367-ca6ad911ae21"
      },
      "source": [
        "cars.shape"
      ],
      "execution_count": null,
      "outputs": [
        {
          "output_type": "execute_result",
          "data": {
            "text/plain": [
              "(205, 26)"
            ]
          },
          "metadata": {},
          "execution_count": 72
        }
      ]
    },
    {
      "cell_type": "code",
      "metadata": {
        "id": "rJUojJbF-KdC",
        "colab": {
          "base_uri": "https://localhost:8080/"
        },
        "outputId": "e0ed76fb-2a44-43d1-b867-3e58ebf5708b"
      },
      "source": [
        "cars.dtypes"
      ],
      "execution_count": null,
      "outputs": [
        {
          "output_type": "execute_result",
          "data": {
            "text/plain": [
              "symboling              int64\n",
              "normalized-losses     object\n",
              "make                  object\n",
              "fuel-type             object\n",
              "aspiration            object\n",
              "num-of-doors          object\n",
              "body-style            object\n",
              "drive-wheels          object\n",
              "engine-location       object\n",
              "wheel-base           float64\n",
              "length               float64\n",
              "width                float64\n",
              "height               float64\n",
              "curb-weight            int64\n",
              "engine-type           object\n",
              "num-of-cylinders      object\n",
              "engine-size            int64\n",
              "fuel-system           object\n",
              "bore                  object\n",
              "stroke                object\n",
              "compression-ratio    float64\n",
              "horsepower            object\n",
              "peak-rpm              object\n",
              "city-mpg               int64\n",
              "highway-mpg            int64\n",
              "price                 object\n",
              "dtype: object"
            ]
          },
          "metadata": {},
          "execution_count": 73
        }
      ]
    },
    {
      "cell_type": "markdown",
      "metadata": {
        "id": "Ovk9w0Bw-KdF"
      },
      "source": [
        "Notice from the data type printout above, some attributes have incorrect data types. For example, `bore` and `stroke` should both be numeric values (int or float), but they are assigned to be an object instead (such as a string) when the data was read earlier. This will cause problems in further processing that requires values to be numerical.\n",
        "\n",
        "To convert them into the appropriate data types:"
      ]
    },
    {
      "cell_type": "code",
      "metadata": {
        "id": "PYKR1RPc-KdF",
        "colab": {
          "base_uri": "https://localhost:8080/"
        },
        "outputId": "8fdb8926-e8e3-43d5-b742-ca1ef651c710"
      },
      "source": [
        "cars[[\"bore\", \"stroke\"]] = cars[[\"bore\", \"stroke\"]].astype(\"float\")\n",
        "cars[[\"normalized-losses\"]] = cars[[\"normalized-losses\"]].astype(\"int\")\n",
        "cars[[\"price\"]] = cars[[\"price\"]].astype(\"float\")\n",
        "cars[[\"peak-rpm\"]] = cars[[\"peak-rpm\"]].astype(\"float\")\n",
        "cars[[\"horsepower\"]] = cars[[\"horsepower\"]].astype(\"int\")\n",
        "cars.dtypes"
      ],
      "execution_count": null,
      "outputs": [
        {
          "output_type": "execute_result",
          "data": {
            "text/plain": [
              "symboling              int64\n",
              "normalized-losses      int64\n",
              "make                  object\n",
              "fuel-type             object\n",
              "aspiration            object\n",
              "num-of-doors          object\n",
              "body-style            object\n",
              "drive-wheels          object\n",
              "engine-location       object\n",
              "wheel-base           float64\n",
              "length               float64\n",
              "width                float64\n",
              "height               float64\n",
              "curb-weight            int64\n",
              "engine-type           object\n",
              "num-of-cylinders      object\n",
              "engine-size            int64\n",
              "fuel-system           object\n",
              "bore                 float64\n",
              "stroke               float64\n",
              "compression-ratio    float64\n",
              "horsepower             int64\n",
              "peak-rpm             float64\n",
              "city-mpg               int64\n",
              "highway-mpg            int64\n",
              "price                float64\n",
              "dtype: object"
            ]
          },
          "metadata": {},
          "execution_count": 74
        }
      ]
    },
    {
      "cell_type": "markdown",
      "metadata": {
        "id": "3o672XML-KdI"
      },
      "source": [
        "With all these steps, the data should now be clean and ready for further processing!"
      ]
    },
    {
      "cell_type": "markdown",
      "metadata": {
        "id": "_q23ytV7-KdJ"
      },
      "source": [
        "### Data Normalization\n",
        "\n",
        "Sometimes, you may want to normalize numeric data to reap its benefits during data modeling. Pandas does not have a normalize function, so you can either compute a normalization operation on the column itself, or you get Numpy's help to normalize values in the column. Typically, most normalizations want to scale the numeric values to a standard range (between 0 and 1 for e.g.), or to scale values according to the distribution such that the variance = 1 and average = 0.\n",
        "\n",
        "The car lengths looked like this:"
      ]
    },
    {
      "cell_type": "code",
      "metadata": {
        "id": "hwxR2x3q-KdJ",
        "colab": {
          "base_uri": "https://localhost:8080/"
        },
        "outputId": "0a8700e4-57ad-44fc-aaf6-028d10504b69"
      },
      "source": [
        "cars['length']"
      ],
      "execution_count": null,
      "outputs": [
        {
          "output_type": "execute_result",
          "data": {
            "text/plain": [
              "0      168.8\n",
              "1      168.8\n",
              "2      171.2\n",
              "3      176.6\n",
              "4      176.6\n",
              "       ...  \n",
              "200    188.8\n",
              "201    188.8\n",
              "202    188.8\n",
              "203    188.8\n",
              "204    188.8\n",
              "Name: length, Length: 205, dtype: float64"
            ]
          },
          "metadata": {},
          "execution_count": 75
        }
      ]
    },
    {
      "cell_type": "markdown",
      "metadata": {
        "id": "ZL-BdgQm-KdP"
      },
      "source": [
        "Normalizing by the maximum value is quite easy. Just divide all values by the max!"
      ]
    },
    {
      "cell_type": "code",
      "metadata": {
        "id": "UEfppit9-KdQ",
        "colab": {
          "base_uri": "https://localhost:8080/"
        },
        "outputId": "11c7a787-e9f1-4d35-defc-1108dc34d802"
      },
      "source": [
        "cars['length']/cars['length'].max()"
      ],
      "execution_count": null,
      "outputs": [
        {
          "output_type": "execute_result",
          "data": {
            "text/plain": [
              "0      0.811148\n",
              "1      0.811148\n",
              "2      0.822681\n",
              "3      0.848630\n",
              "4      0.848630\n",
              "         ...   \n",
              "200    0.907256\n",
              "201    0.907256\n",
              "202    0.907256\n",
              "203    0.907256\n",
              "204    0.907256\n",
              "Name: length, Length: 205, dtype: float64"
            ]
          },
          "metadata": {},
          "execution_count": 76
        }
      ]
    },
    {
      "cell_type": "markdown",
      "metadata": {
        "id": "KtLzE1ro-KdT"
      },
      "source": [
        "This gives us an idea of how far is the relative length of each car from the length of the longest car.\n",
        "\n",
        "To directly replace the values in that column and also in the `width` and `height` columns:"
      ]
    },
    {
      "cell_type": "code",
      "metadata": {
        "id": "aHk5Hd5l-KdT"
      },
      "source": [
        "# make a deep copy - separate copy from the original cars2 = cars would not work, it's a shallow copy\n",
        "cars2 = cars.copy()"
      ],
      "execution_count": null,
      "outputs": []
    },
    {
      "cell_type": "code",
      "metadata": {
        "id": "SvHpdOWA-KdX"
      },
      "source": [
        "cars2['length'] = cars['length']/cars['length'].max()\n",
        "cars2['width'] = cars['width']/cars['width'].max()\n",
        "cars2['height'] = cars['height']/cars['height'].max()"
      ],
      "execution_count": null,
      "outputs": []
    },
    {
      "cell_type": "code",
      "metadata": {
        "id": "UeJShJWK-Kdb"
      },
      "source": [
        "# check\n",
        "cars2[[\"length\", \"width\", \"height\"]]"
      ],
      "execution_count": null,
      "outputs": []
    },
    {
      "cell_type": "markdown",
      "metadata": {
        "id": "pJI1HGFDKtvQ"
      },
      "source": [
        "A more common way of normalizing is to use both the minimum and maximum to adjust the values. This is called a min-max normalization.\n",
        "\n",
        "$$\\hat{x} = \\frac{x-x_{min}}{x_{max}-x_{min}}$$"
      ]
    },
    {
      "cell_type": "markdown",
      "metadata": {
        "id": "0YCLt2mR-Kdh"
      },
      "source": [
        "**Q2**: Compute the z-normalized value for `engine-size` and replace its values in `cars2` dataframe.\n",
        "\n",
        "$$\\hat{x} = \\frac{x-\\mu}{\\sigma}$$"
      ]
    },
    {
      "cell_type": "code",
      "metadata": {
        "id": "gquYXFps-Kdi",
        "colab": {
          "base_uri": "https://localhost:8080/"
        },
        "outputId": "d6f6442d-b81e-43c1-e8ee-eebc35df81de"
      },
      "source": [
        "# fill in here\n",
        "#print(cars2.mean())\n",
        "#print(cars2.std())\n",
        "numeric_cols = cars2.select_dtypes(include=[np.number]).columns\n",
        "cars3 = cars.copy()\n",
        "cars3[numeric_cols] = (cars3[numeric_cols] - cars[numeric_cols].mean())/cars[numeric_cols].std()\n",
        "print(cars3[numeric_cols])\n",
        "\n",
        "# there are 2 other ways to do this: using pandas apply() with lambda function, use scipy.stats zscore function\n",
        "from scipy.stats import zscore\n",
        "numeric_cols = cars2.select_dtypes(include=[np.number]).columns\n",
        "print(cars2[numeric_cols].apply(zscore))"
      ],
      "execution_count": null,
      "outputs": [
        {
          "output_type": "stream",
          "name": "stdout",
          "text": [
            "     symboling  normalized-losses  wheel-base    length     width    height  \\\n",
            "0     1.739213           0.000000   -1.686643 -0.425480 -0.842719 -2.015483   \n",
            "1     1.739213           0.000000   -1.686643 -0.425480 -0.842719 -2.015483   \n",
            "2     0.133183           0.000000   -0.706865 -0.230948 -0.190101 -0.542200   \n",
            "3     0.936198           1.325715    0.173274  0.206750  0.136209  0.235366   \n",
            "4     0.936198           1.325715    0.106848  0.206750  0.229440  0.235366   \n",
            "..         ...                ...         ...       ...       ...       ...   \n",
            "200  -1.472847          -0.852246    1.717669  1.195622  1.394830  0.726460   \n",
            "201  -1.472847          -0.852246    1.717669  1.195622  1.348215  0.726460   \n",
            "202  -1.472847          -0.852246    1.717669  1.195622  1.394830  0.726460   \n",
            "203  -1.472847          -0.852246    1.717669  1.195622  1.394830  0.726460   \n",
            "204  -1.472847          -0.852246    1.717669  1.195622  1.394830  0.726460   \n",
            "\n",
            "     curb-weight  engine-size      bore    stroke  compression-ratio  \\\n",
            "0      -0.014531     0.074267  0.517822 -1.834912          -0.287645   \n",
            "1      -0.014531     0.074267  0.517822 -1.834912          -0.287645   \n",
            "2       0.513625     0.602571 -2.398990  0.684245          -0.287645   \n",
            "3      -0.419770    -0.430023 -0.515985  0.461028          -0.035885   \n",
            "4       0.515545     0.218350 -0.515985  0.461028          -0.539405   \n",
            "..           ...          ...       ...       ...                ...   \n",
            "200     0.761377     0.338419  1.662393 -0.336173          -0.161765   \n",
            "201     0.947672     0.338419  1.662393 -0.336173          -0.363173   \n",
            "202     0.876611     1.106861  0.923960 -1.229039          -0.337997   \n",
            "203     1.270327     0.434474 -1.180575  0.461028           3.236992   \n",
            "204     0.972640     0.338419  1.662393 -0.336173          -0.161765   \n",
            "\n",
            "     horsepower  peak-rpm  city-mpg  highway-mpg     price  \n",
            "0      0.170710 -0.262841 -0.644974    -0.544725  0.036224  \n",
            "1      0.170710 -0.262841 -0.644974    -0.544725  0.414350  \n",
            "2      1.258789 -0.262841 -0.950684    -0.689938  0.414350  \n",
            "3     -0.057027  0.785423 -0.186409    -0.109087  0.093477  \n",
            "4      0.271927  0.785423 -1.103540    -1.270789  0.533891  \n",
            "..          ...       ...       ...          ...       ...  \n",
            "200    0.246623  0.575771 -0.339264    -0.399512  0.457763  \n",
            "201    1.410613  0.366118 -0.950684    -0.835151  0.734594  \n",
            "202    0.752706  0.785423 -1.103540    -1.125577  1.041626  \n",
            "203    0.044190 -0.682146  0.119302    -0.544725  1.165571  \n",
            "204    0.246623  0.575771 -0.950684    -0.835151  1.185075  \n",
            "\n",
            "[205 rows x 16 columns]\n",
            "     symboling  normalized-losses  wheel-base    length     width    height  \\\n",
            "0     1.743470           0.000000   -1.690772 -0.426521 -0.844782 -2.020417   \n",
            "1     1.743470           0.000000   -1.690772 -0.426521 -0.844782 -2.020417   \n",
            "2     0.133509           0.000000   -0.708596 -0.231513 -0.190566 -0.543527   \n",
            "3     0.938490           1.328961    0.173698  0.207256  0.136542  0.235942   \n",
            "4     0.938490           1.328961    0.107110  0.207256  0.230001  0.235942   \n",
            "..         ...                ...         ...       ...       ...       ...   \n",
            "200  -1.476452          -0.854332    1.721873  1.198549  1.398245  0.728239   \n",
            "201  -1.476452          -0.854332    1.721873  1.198549  1.351515  0.728239   \n",
            "202  -1.476452          -0.854332    1.721873  1.198549  1.398245  0.728239   \n",
            "203  -1.476452          -0.854332    1.721873  1.198549  1.398245  0.728239   \n",
            "204  -1.476452          -0.854332    1.721873  1.198549  1.398245  0.728239   \n",
            "\n",
            "     curb-weight  engine-size      bore    stroke  compression-ratio  \\\n",
            "0      -0.014566     0.074449  0.519089 -1.839404          -0.288349   \n",
            "1      -0.014566     0.074449  0.519089 -1.839404          -0.288349   \n",
            "2       0.514882     0.604046 -2.404862  0.685920          -0.288349   \n",
            "3      -0.420797    -0.431076 -0.517248  0.462157          -0.035973   \n",
            "4       0.516807     0.218885 -0.517248  0.462157          -0.540725   \n",
            "..           ...          ...       ...       ...                ...   \n",
            "200     0.763241     0.339248  1.666463 -0.336996          -0.162161   \n",
            "201     0.949992     0.339248  1.666463 -0.336996          -0.364062   \n",
            "202     0.878757     1.109571  0.926222 -1.232047          -0.338824   \n",
            "203     1.273437     0.435538 -1.183465  0.462157           3.244916   \n",
            "204     0.975021     0.339248  1.666463 -0.336996          -0.162161   \n",
            "\n",
            "     horsepower  peak-rpm  city-mpg  highway-mpg  price  \n",
            "0      0.171128 -0.263484 -0.646553    -0.546059    NaN  \n",
            "1      0.171128 -0.263484 -0.646553    -0.546059    NaN  \n",
            "2      1.261870 -0.263484 -0.953012    -0.691627    NaN  \n",
            "3     -0.057167  0.787346 -0.186865    -0.109354    NaN  \n",
            "4      0.272593  0.787346 -1.106241    -1.273900    NaN  \n",
            "..          ...       ...       ...          ...    ...  \n",
            "200    0.247227  0.577180 -0.340094    -0.400490    NaN  \n",
            "201    1.414067  0.367014 -0.953012    -0.837195    NaN  \n",
            "202    0.754548  0.787346 -1.106241    -1.128332    NaN  \n",
            "203    0.044298 -0.683816  0.119594    -0.546059    NaN  \n",
            "204    0.247227  0.577180 -0.953012    -0.837195    NaN  \n",
            "\n",
            "[205 rows x 16 columns]\n"
          ]
        }
      ]
    },
    {
      "cell_type": "code",
      "source": [
        "def minMaxNormalize(data):\n",
        "    min_val = min(data)\n",
        "    max_val = max(data)\n",
        "    normalize = [(x-min_val)/(max_val-min_val) for x in data]\n",
        "    return normalize\n",
        "\n",
        "normalize = minMaxNormalize(cars2['length'])\n",
        "print (normalize)\n"
      ],
      "metadata": {
        "colab": {
          "base_uri": "https://localhost:8080/"
        },
        "id": "-uiRdc-z-TUx",
        "outputId": "44387844-acb3-4bb6-9f1c-3d7d8da3601e"
      },
      "execution_count": null,
      "outputs": [
        {
          "output_type": "stream",
          "name": "stdout",
          "text": [
            "[0.4134328358208958, 0.4134328358208958, 0.4492537313432836, 0.5298507462686568, 0.5298507462686568, 0.5402985074626869, 0.7701492537313431, 0.7701492537313431, 0.7701492537313431, 0.5537313432835819, 0.5328358208955226, 0.5328358208955226, 0.5328358208955226, 0.5328358208955226, 0.7149253731343282, 0.7149253731343282, 0.7865671641791047, 0.8343283582089551, 0.0, 0.22089552238806, 0.2641791044776121, 0.2417910447761196, 0.2417910447761196, 0.2417910447761196, 0.2417910447761196, 0.2417910447761196, 0.2417910447761196, 0.2417910447761196, 0.5, 0.4791044776119401, 0.05223880597014932, 0.05223880597014932, 0.1328358208955225, 0.1328358208955225, 0.1328358208955225, 0.3328358208955226, 0.23880597014925375, 0.3940298507462688, 0.3940298507462688, 0.5119402985074627, 0.5119402985074627, 0.5119402985074627, 0.41791044776119385, 0.4417910447761193, 0.22089552238806, 0.22089552238806, 0.4701492537313432, 0.8731343283582088, 0.8731343283582088, 0.755223880597015, 0.26865671641791056, 0.26865671641791056, 0.26865671641791056, 0.383582089552239, 0.383582089552239, 0.4164179104477613, 0.4164179104477613, 0.4164179104477613, 0.4164179104477613, 0.5477611940298509, 0.5477611940298509, 0.5477611940298509, 0.5477611940298509, 0.5477611940298509, 0.5477611940298509, 0.5059701492537314, 0.5059701492537314, 0.7432835820895525, 0.7432835820895525, 0.6925373134328358, 0.9179104477611939, 0.9179104477611939, 0.585074626865672, 1.0, 0.8671641791044775, 0.5567164179104481, 0.2417910447761196, 0.2417910447761196, 0.2417910447761196, 0.2417910447761196, 0.47611940298507455, 0.47611940298507455, 0.4791044776119401, 0.4791044776119401, 0.4791044776119401, 0.46716417910447766, 0.46716417910447766, 0.46716417910447766, 0.46716417910447766, 0.36119402985074645, 0.36119402985074645, 0.36119402985074645, 0.36119402985074645, 0.43432835820895505, 0.36119402985074645, 0.3656716417910449, 0.36119402985074645, 0.43432835820895505, 0.31791044776119437, 0.4820895522388063, 0.4820895522388063, 0.6059701492537313, 0.6492537313432837, 0.6492537313432837, 0.4417910447761193, 0.4417910447761193, 0.5582089552238807, 0.6805970149253731, 0.6805970149253731, 0.8626865671641794, 0.8626865671641794, 0.6805970149253731, 0.6805970149253731, 0.8626865671641794, 0.8626865671641794, 0.6805970149253731, 0.6805970149253731, 0.6805970149253731, 0.2417910447761196, 0.2417910447761196, 0.2417910447761196, 0.39104477611940325, 0.39104477611940325, 0.5, 0.4791044776119401, 0.41492537313432837, 0.41492537313432837, 0.41492537313432837, 0.41492537313432837, 0.5164179104477612, 0.6029850746268657, 0.5328358208955226, 0.6791044776119401, 0.6791044776119401, 0.6791044776119401, 0.6791044776119401, 0.6791044776119401, 0.6791044776119401, 0.23582089552238825, 0.25074626865671645, 0.2417910447761196, 0.4611940298507463, 0.4611940298507463, 0.4611940298507463, 0.4611940298507463, 0.4611940298507463, 0.48358208955223886, 0.48358208955223886, 0.48507462686567177, 0.48507462686567177, 0.2626865671641792, 0.2626865671641792, 0.2626865671641792, 0.42686567164179107, 0.42686567164179107, 0.42686567164179107, 0.376119402985075, 0.376119402985075, 0.376119402985075, 0.376119402985075, 0.376119402985075, 0.376119402985075, 0.376119402985075, 0.4119402985074625, 0.4119402985074625, 0.4119402985074625, 0.4119402985074625, 0.5238805970149254, 0.5238805970149254, 0.5238805970149254, 0.5238805970149254, 0.5238805970149254, 0.5238805970149254, 0.5149253731343282, 0.5149253731343282, 0.5149253731343282, 0.5149253731343282, 0.5149253731343282, 0.6328358208955225, 0.6328358208955225, 0.6970149253731346, 0.6970149253731346, 0.45671641791044754, 0.45671641791044754, 0.45671641791044754, 0.45671641791044754, 0.45671641791044754, 0.45671641791044754, 0.45671641791044754, 0.27164179104477637, 0.36716417910447746, 0.5835820895522387, 0.5835820895522387, 0.6268656716417912, 0.7119402985074628, 0.7119402985074628, 0.7119402985074628, 0.7119402985074628, 0.7119402985074628, 0.7119402985074628, 0.7119402985074628, 0.7119402985074628, 0.7119402985074628, 0.7119402985074628, 0.7119402985074628]\n"
          ]
        }
      ]
    },
    {
      "cell_type": "markdown",
      "metadata": {
        "id": "JbJmjM2--Kdp"
      },
      "source": [
        "### Data Transformation\n",
        "\n",
        "One of the methods that we have learned is **binning**, a process of grouping or categorizing numeric data into discrete \"bins\" or distinct baskets, which is one of the ways of dealing with noisy data.\n",
        "\n",
        "In this data, `horsepower` is a real valued variable ranging from 48 to 288, it has 57 unique values in total. What if we only care about the price difference between cars with \"high\" horsepower, \"medium\" horsepower, and \"low\" horsepower (3 types)? Can we rearrange them into three ‘bins' to simplify analysis?"
      ]
    },
    {
      "cell_type": "code",
      "metadata": {
        "id": "tvhRiF5J-Kdq",
        "colab": {
          "base_uri": "https://localhost:8080/"
        },
        "outputId": "884f23f0-33c6-44ad-e04a-1061fb88ed9c"
      },
      "source": [
        "cars2[\"horsepower\"].dtype"
      ],
      "execution_count": null,
      "outputs": [
        {
          "output_type": "execute_result",
          "data": {
            "text/plain": [
              "dtype('int64')"
            ]
          },
          "metadata": {},
          "execution_count": 89
        }
      ]
    },
    {
      "cell_type": "markdown",
      "metadata": {
        "id": "LrJGwibK-Kdy"
      },
      "source": [
        "To get an idea of how the values are distributed, use matplotlib library to plot its histogram:"
      ]
    },
    {
      "cell_type": "code",
      "metadata": {
        "id": "_kZeZj09-Kdz",
        "colab": {
          "base_uri": "https://localhost:8080/",
          "height": 489
        },
        "outputId": "2fe5fe05-d532-469f-db51-0a9f31a8a916"
      },
      "source": [
        "%matplotlib inline\n",
        "import matplotlib.pyplot as plt\n",
        "\n",
        "plt.hist(cars2[\"horsepower\"])\n",
        "\n",
        "# set x/y labels and plot title\n",
        "plt.xlabel(\"horsepower\")\n",
        "plt.ylabel(\"count\")\n",
        "plt.title(\"horsepower bins\")"
      ],
      "execution_count": null,
      "outputs": [
        {
          "output_type": "execute_result",
          "data": {
            "text/plain": [
              "Text(0.5, 1.0, 'horsepower bins')"
            ]
          },
          "metadata": {},
          "execution_count": 90
        },
        {
          "output_type": "display_data",
          "data": {
            "text/plain": [
              "<Figure size 640x480 with 1 Axes>"
            ],
            "image/png": "[encoded data removed]"
          },
          "metadata": {}
        }
      ]
    },
    {
      "cell_type": "markdown",
      "metadata": {
        "id": "sPHvc46C-Kd4"
      },
      "source": [
        "We want 3 bins of equal size so we can use Numpy's `linspace(start_value, end_value, numbers_generated)` function. To build 3 bins, we need to define 4 dividers or boundaries:"
      ]
    },
    {
      "cell_type": "code",
      "metadata": {
        "id": "mYYIYxK7-Kd4"
      },
      "source": [
        "bins = np.linspace(min(cars2[\"horsepower\"]), max(cars2[\"horsepower\"]), 4)\n",
        "print(bins)\n"
      ],
      "execution_count": null,
      "outputs": []
    },
    {
      "cell_type": "markdown",
      "metadata": {
        "id": "Bts-r0ph-Kd8"
      },
      "source": [
        "So these are the dividers of the 3 bins, if we were to give it the starting value, ending value, and the number of values to be generated at equal intervals.\n",
        "\n",
        "Let's create the bin group names."
      ]
    },
    {
      "cell_type": "code",
      "metadata": {
        "id": "owa8dSdM-Kd9"
      },
      "source": [
        "group_names = ['Low', 'Medium', 'High']\n"
      ],
      "execution_count": null,
      "outputs": []
    },
    {
      "cell_type": "markdown",
      "metadata": {
        "id": "jeoemvuO-KeB"
      },
      "source": [
        "We can now apply the pandas function `cut` to determine what each value of horsepower belongs to:"
      ]
    },
    {
      "cell_type": "code",
      "metadata": {
        "id": "3wbSLsxs-KeB"
      },
      "source": [
        "\n",
        "cars2['horsepower-binned'] = pd.cut(cars2['horsepower'], bins, labels=group_names, include_lowest=True )"
      ],
      "execution_count": null,
      "outputs": []
    },
    {
      "cell_type": "code",
      "metadata": {
        "id": "RrCHz23z-KeE"
      },
      "source": [
        "cars2[['horsepower','horsepower-binned']].head(15)"
      ],
      "execution_count": null,
      "outputs": []
    },
    {
      "cell_type": "code",
      "metadata": {
        "id": "cRwKSc5w-KeH"
      },
      "source": [
        "cars2[\"horsepower-binned\"].value_counts()"
      ],
      "execution_count": null,
      "outputs": []
    },
    {
      "cell_type": "markdown",
      "metadata": {
        "id": "8Hx2oBX--KeN"
      },
      "source": [
        "Let's plot the distribution of the bins."
      ]
    },
    {
      "cell_type": "code",
      "metadata": {
        "id": "GKYLwG7--KeN"
      },
      "source": [
        "plt.bar(group_names, cars2[\"horsepower-binned\"].value_counts())\n",
        "\n",
        "# set x/y labels and plot title\n",
        "plt.xlabel('Horsepower')\n",
        "plt.ylabel(\"Count\")\n",
        "plt.title(\"Horsepower Bins\")"
      ],
      "execution_count": null,
      "outputs": []
    },
    {
      "cell_type": "code",
      "metadata": {
        "scrolled": false,
        "id": "qK1yOovA-KeQ"
      },
      "source": [
        "# check the dataframe again, you should see the new horsepower-binned column right at the end\n",
        "cars2.head()"
      ],
      "execution_count": null,
      "outputs": []
    },
    {
      "cell_type": "markdown",
      "metadata": {
        "id": "Qz0KAnpn-KeR"
      },
      "source": [
        "If you are satisfied with the data you have cleaned so far, you can save it into a CSV file and store it away for later use."
      ]
    },
    {
      "cell_type": "code",
      "metadata": {
        "id": "KCNu5oS5-KeT"
      },
      "source": [
        "# Convert to CSV file\n",
        "cars2.to_csv('car_data_CLEANED.csv')"
      ],
      "execution_count": null,
      "outputs": []
    },
    {
      "cell_type": "markdown",
      "metadata": {
        "id": "jtYLBtqn-KeX"
      },
      "source": [
        "### Combining Data\n",
        "\n",
        "Sometimes we may encounter a situation where we have data coming in from multiple sources, and we want to combine the data into a single consolidated dataframe.\n",
        "\n",
        "Data contained in pandas objects can be combined together using a number of built-in functions. Among them are:\n",
        "\n",
        "* **`merge()`** connects rows in DataFrames based on one or more keys. Similar to *inner join* (intersection of keys) operation in RDBMS. Here's some visuals to refresh your memory...\n",
        "![DB joins](https://i.stack.imgur.com/1UKp7.png)"
      ]
    },
    {
      "cell_type": "code",
      "metadata": {
        "id": "VoVHiKUn-KeY",
        "colab": {
          "base_uri": "https://localhost:8080/"
        },
        "outputId": "2eca3392-2b3c-4068-b5f8-83ca448b96fd"
      },
      "source": [
        "# we have two DataFrames here,\n",
        "df1 = pd.DataFrame({'key': ['b', 'b', 'a', 'c', 'a', 'a', 'b'], 'data1': range(7)})\n",
        "df2 = pd.DataFrame({'key': ['a', 'b', 'd'], 'data2': range(3)})\n",
        "print(df1)\n",
        "print(df2)"
      ],
      "execution_count": null,
      "outputs": [
        {
          "output_type": "stream",
          "name": "stdout",
          "text": [
            "  key  data1\n",
            "0   b      0\n",
            "1   b      1\n",
            "2   a      2\n",
            "3   c      3\n",
            "4   a      4\n",
            "5   a      5\n",
            "6   b      6\n",
            "  key  data2\n",
            "0   a      0\n",
            "1   b      1\n",
            "2   d      2\n"
          ]
        }
      ]
    },
    {
      "cell_type": "code",
      "metadata": {
        "id": "UFsfsQIf-Kee",
        "colab": {
          "base_uri": "https://localhost:8080/"
        },
        "outputId": "f8db5366-a101-40b7-9d80-243666741f44"
      },
      "source": [
        "dfMerged = pd.DataFrame.merge(df1,df2)\n",
        "print(dfMerged)"
      ],
      "execution_count": null,
      "outputs": [
        {
          "output_type": "stream",
          "name": "stdout",
          "text": [
            "  key  data1  data2\n",
            "0   b      0      1\n",
            "1   b      1      1\n",
            "2   b      6      1\n",
            "3   a      2      0\n",
            "4   a      4      0\n",
            "5   a      5      0\n"
          ]
        }
      ]
    },
    {
      "cell_type": "markdown",
      "metadata": {
        "id": "1d8LPRJK-Keg"
      },
      "source": [
        "Obviously, doing an *inner join* or a merging of two DataFrames by virtue of the intersection of the two makes sense if we have partial data coming from both sets of data. We can only be sure to preserve keys (and their respective values) that appear on *both* sets of data. An inner join discards data that only appear on one set of data -- for the case of data with key 'c' and 'd'.\n",
        "\n",
        "However, if you choose to trust all possible data coming from both Dataframes, you may opt for an \"outer\" merge. Incomplete data will automatically be assigned with a NaN."
      ]
    },
    {
      "cell_type": "code",
      "metadata": {
        "id": "uWD95W4h-Kei",
        "colab": {
          "base_uri": "https://localhost:8080/"
        },
        "outputId": "af38b6c4-f186-4729-cb71-dcd6722f71ba"
      },
      "source": [
        "dfmergedOuter = pd.merge(df1, df2, how=\"outer\")\n",
        "print(dfmergedOuter)\n",
        "\n",
        "# you can also try 'left' and 'right' merge options"
      ],
      "execution_count": null,
      "outputs": [
        {
          "output_type": "stream",
          "name": "stdout",
          "text": [
            "  key  data1  data2\n",
            "0   b    0.0    1.0\n",
            "1   b    1.0    1.0\n",
            "2   b    6.0    1.0\n",
            "3   a    2.0    0.0\n",
            "4   a    4.0    0.0\n",
            "5   a    5.0    0.0\n",
            "6   c    3.0    NaN\n",
            "7   d    NaN    2.0\n"
          ]
        }
      ]
    },
    {
      "cell_type": "markdown",
      "metadata": {
        "id": "w5gCE5Yv-Kek"
      },
      "source": [
        "`concat()` glues or stacks together objects along an axis. DataFrames can be grouped along its rows (axis=0) or its columns (axis=1) (take note of the convention used in python in axis numbering). Compare the difference between a numpy concat and a pandas concat."
      ]
    },
    {
      "cell_type": "code",
      "metadata": {
        "scrolled": true,
        "id": "NUTLeMhn-Kel"
      },
      "source": [
        "# using numpy concatenate\n",
        "arr = np.arange(12).reshape((3, 4))\n",
        "print(arr)\n",
        "arrN=np.concatenate([arr, arr], axis=1)     # change to axis=0\n",
        "print(arrN)\n",
        "\n",
        "# pandas concat\n",
        "s1 = pd.Series([0, 1], index=['a', 'b'])\n",
        "s2 = pd.Series([2, 3, 4], index=['c', 'd', 'e'])\n",
        "s3 = pd.Series([5, 6], index=['f', 'g'])\n",
        "\n",
        "concatSeries=pd.concat([s1, s2, s3], axis=1)  # change to axis=0\n",
        "print(s1)\n",
        "print(s2)\n",
        "print(s3)\n",
        "print(concatSeries)"
      ],
      "execution_count": null,
      "outputs": []
    },
    {
      "cell_type": "markdown",
      "metadata": {
        "id": "XGU7MP14-Keo"
      },
      "source": [
        "By default, pandas concat works along axis=0 if unspecified.\n",
        "\n",
        "To provide column names for DataFrames, use the parameter `columns` to specify a list of corresponding column names. Upon combination multiple DataFrames, you can also specify keys for the merged subsets. This allows you to quickly access back the previously concatenated subsets."
      ]
    },
    {
      "cell_type": "code",
      "metadata": {
        "scrolled": true,
        "id": "N2NPArKY-Keo"
      },
      "source": [
        "#data frames and column names\n",
        "df1 = pd.DataFrame(np.arange(6).reshape(3, 2), index=['a', 'b', 'c'], columns=['one', 'two'])\n",
        "print(df1)\n",
        "df2 = pd. DataFrame(5 + np.arange(4).reshape(2, 2), index=['a', 'c'], columns=['three', 'four'])\n",
        "print(df2)\n",
        "dfConcat=pd.concat([df1, df2], axis=1, keys=['level1', 'level2'])\n",
        "print(dfConcat)"
      ],
      "execution_count": null,
      "outputs": []
    },
    {
      "cell_type": "code",
      "metadata": {
        "id": "hCoQBm-5-Keq"
      },
      "source": [
        "dfConcat['level2']"
      ],
      "execution_count": null,
      "outputs": []
    },
    {
      "cell_type": "markdown",
      "metadata": {
        "id": "Eophr3Qu-Kev"
      },
      "source": [
        "## Use Case: OECD Minimum Wage Data"
      ]
    },
    {
      "cell_type": "markdown",
      "metadata": {
        "id": "z4GXpIkL-Kev"
      },
      "source": [
        "Let's try our hand at another dataset containing the minimum wages collected from the [OECD](https://en.wikipedia.org/wiki/OECD) group of 32 countries.  \n",
        "\n",
        "The dataset in CSV has been provided: `oecd_minwage.csv`."
      ]
    },
    {
      "cell_type": "code",
      "metadata": {
        "id": "X25DEjPU-Kew"
      },
      "source": [
        "wage = pd.read_csv('oecd_minwage.csv')"
      ],
      "execution_count": null,
      "outputs": []
    },
    {
      "cell_type": "markdown",
      "metadata": {
        "id": "fkjOf0tZ-Key"
      },
      "source": [
        "Let's have a look at the dataframe (show first 5 frames):"
      ]
    },
    {
      "cell_type": "code",
      "metadata": {
        "id": "-agdURui-Kez",
        "colab": {
          "base_uri": "https://localhost:8080/",
          "height": 990
        },
        "outputId": "4495e7a2-2e7e-4e2f-b1be-c5cd8255f1ed"
      },
      "source": [
        "wage.head(30)"
      ],
      "execution_count": null,
      "outputs": [
        {
          "output_type": "execute_result",
          "data": {
            "text/plain": [
              "    Unnamed: 0        Time  Country  \\\n",
              "0            0  2006-01-01  Ireland   \n",
              "1            1  2007-01-01  Ireland   \n",
              "2            2  2008-01-01  Ireland   \n",
              "3            3  2009-01-01  Ireland   \n",
              "4            4  2010-01-01  Ireland   \n",
              "5            5  2011-01-01  Ireland   \n",
              "6            6  2012-01-01  Ireland   \n",
              "7            7  2013-01-01  Ireland   \n",
              "8            8  2014-01-01  Ireland   \n",
              "9            9  2015-01-01  Ireland   \n",
              "10          10  2016-01-01  Ireland   \n",
              "11          11  2006-01-01  Ireland   \n",
              "12          12  2007-01-01  Ireland   \n",
              "13          13  2008-01-01  Ireland   \n",
              "14          14  2009-01-01  Ireland   \n",
              "15          15  2010-01-01  Ireland   \n",
              "16          16  2011-01-01  Ireland   \n",
              "17          17  2012-01-01  Ireland   \n",
              "18          18  2013-01-01  Ireland   \n",
              "19          19  2014-01-01  Ireland   \n",
              "20          20  2015-01-01  Ireland   \n",
              "21          21  2016-01-01  Ireland   \n",
              "22          22  2006-01-01  Ireland   \n",
              "23          23  2007-01-01  Ireland   \n",
              "24          24  2008-01-01  Ireland   \n",
              "25          25  2009-01-01  Ireland   \n",
              "26          26  2010-01-01  Ireland   \n",
              "27          27  2011-01-01  Ireland   \n",
              "28          28  2012-01-01  Ireland   \n",
              "29          29  2013-01-01  Ireland   \n",
              "\n",
              "                                               Series Pay period        value  \n",
              "0            In 2015 constant prices at 2015 USD PPPs     Annual  17132.44300  \n",
              "1            In 2015 constant prices at 2015 USD PPPs     Annual  18100.91800  \n",
              "2            In 2015 constant prices at 2015 USD PPPs     Annual  17747.40600  \n",
              "3            In 2015 constant prices at 2015 USD PPPs     Annual  18580.13900  \n",
              "4            In 2015 constant prices at 2015 USD PPPs     Annual  18755.83200  \n",
              "5            In 2015 constant prices at 2015 USD PPPs     Annual  18284.29900  \n",
              "6            In 2015 constant prices at 2015 USD PPPs     Annual  17979.94300  \n",
              "7            In 2015 constant prices at 2015 USD PPPs     Annual  17890.01000  \n",
              "8            In 2015 constant prices at 2015 USD PPPs     Annual  17854.87500  \n",
              "9            In 2015 constant prices at 2015 USD PPPs     Annual  17907.63700  \n",
              "10           In 2015 constant prices at 2015 USD PPPs     Annual  18942.76200  \n",
              "11           In 2015 constant prices at 2015 USD PPPs     Hourly      8.23675  \n",
              "12           In 2015 constant prices at 2015 USD PPPs     Hourly      8.70236  \n",
              "13           In 2015 constant prices at 2015 USD PPPs     Hourly      8.53241  \n",
              "14           In 2015 constant prices at 2015 USD PPPs     Hourly      8.93276  \n",
              "15           In 2015 constant prices at 2015 USD PPPs     Hourly      9.01723  \n",
              "16           In 2015 constant prices at 2015 USD PPPs     Hourly      8.79053  \n",
              "17           In 2015 constant prices at 2015 USD PPPs     Hourly      8.64420  \n",
              "18           In 2015 constant prices at 2015 USD PPPs     Hourly      8.60097  \n",
              "19           In 2015 constant prices at 2015 USD PPPs     Hourly      8.58407  \n",
              "20           In 2015 constant prices at 2015 USD PPPs     Hourly      8.60944  \n",
              "21           In 2015 constant prices at 2015 USD PPPs     Hourly      9.10710  \n",
              "22  In 2015 constant prices at 2015 USD exchange r...     Annual  19090.53700  \n",
              "23  In 2015 constant prices at 2015 USD exchange r...     Annual  20169.69900  \n",
              "24  In 2015 constant prices at 2015 USD exchange r...     Annual  19775.78500  \n",
              "25  In 2015 constant prices at 2015 USD exchange r...     Annual  20703.69100  \n",
              "26  In 2015 constant prices at 2015 USD exchange r...     Annual  20899.46500  \n",
              "27  In 2015 constant prices at 2015 USD exchange r...     Annual  20374.03900  \n",
              "28  In 2015 constant prices at 2015 USD exchange r...     Annual  20034.89800  \n",
              "29  In 2015 constant prices at 2015 USD exchange r...     Annual  19934.68600  "
            ],
            "text/html": [
              "\n",
              "  <div id=\"df-0004bc04-cee0-40d8-a267-f1b92c359495\" class=\"colab-df-container\">\n",
              "    <div>\n",
              "<style scoped>\n",
              "    .dataframe tbody tr th:only-of-type {\n",
              "        vertical-align: middle;\n",
              "    }\n",
              "\n",
              "    .dataframe tbody tr th {\n",
              "        vertical-align: top;\n",
              "    }\n",
              "\n",
              "    .dataframe thead th {\n",
              "        text-align: right;\n",
              "    }\n",
              "</style>\n",
              "<table border=\"1\" class=\"dataframe\">\n",
              "  <thead>\n",
              "    <tr style=\"text-align: right;\">\n",
              "      <th></th>\n",
              "      <th>Unnamed: 0</th>\n",
              "      <th>Time</th>\n",
              "      <th>Country</th>\n",
              "      <th>Series</th>\n",
              "      <th>Pay period</th>\n",
              "      <th>value</th>\n",
              "    </tr>\n",
              "  </thead>\n",
              "  <tbody>\n",
              "    <tr>\n",
              "      <th>0</th>\n",
              "      <td>0</td>\n",
              "      <td>2006-01-01</td>\n",
              "      <td>Ireland</td>\n",
              "      <td>In 2015 constant prices at 2015 USD PPPs</td>\n",
              "      <td>Annual</td>\n",
              "      <td>17132.44300</td>\n",
              "    </tr>\n",
              "    <tr>\n",
              "      <th>1</th>\n",
              "      <td>1</td>\n",
              "      <td>2007-01-01</td>\n",
              "      <td>Ireland</td>\n",
              "      <td>In 2015 constant prices at 2015 USD PPPs</td>\n",
              "      <td>Annual</td>\n",
              "      <td>18100.91800</td>\n",
              "    </tr>\n",
              "    <tr>\n",
              "      <th>2</th>\n",
              "      <td>2</td>\n",
              "      <td>2008-01-01</td>\n",
              "      <td>Ireland</td>\n",
              "      <td>In 2015 constant prices at 2015 USD PPPs</td>\n",
              "      <td>Annual</td>\n",
              "      <td>17747.40600</td>\n",
              "    </tr>\n",
              "    <tr>\n",
              "      <th>3</th>\n",
              "      <td>3</td>\n",
              "      <td>2009-01-01</td>\n",
              "      <td>Ireland</td>\n",
              "      <td>In 2015 constant prices at 2015 USD PPPs</td>\n",
              "      <td>Annual</td>\n",
              "      <td>18580.13900</td>\n",
              "    </tr>\n",
              "    <tr>\n",
              "      <th>4</th>\n",
              "      <td>4</td>\n",
              "      <td>2010-01-01</td>\n",
              "      <td>Ireland</td>\n",
              "      <td>In 2015 constant prices at 2015 USD PPPs</td>\n",
              "      <td>Annual</td>\n",
              "      <td>18755.83200</td>\n",
              "    </tr>\n",
              "    <tr>\n",
              "      <th>5</th>\n",
              "      <td>5</td>\n",
              "      <td>2011-01-01</td>\n",
              "      <td>Ireland</td>\n",
              "      <td>In 2015 constant prices at 2015 USD PPPs</td>\n",
              "      <td>Annual</td>\n",
              "      <td>18284.29900</td>\n",
              "    </tr>\n",
              "    <tr>\n",
              "      <th>6</th>\n",
              "      <td>6</td>\n",
              "      <td>2012-01-01</td>\n",
              "      <td>Ireland</td>\n",
              "      <td>In 2015 constant prices at 2015 USD PPPs</td>\n",
              "      <td>Annual</td>\n",
              "      <td>17979.94300</td>\n",
              "    </tr>\n",
              "    <tr>\n",
              "      <th>7</th>\n",
              "      <td>7</td>\n",
              "      <td>2013-01-01</td>\n",
              "      <td>Ireland</td>\n",
              "      <td>In 2015 constant prices at 2015 USD PPPs</td>\n",
              "      <td>Annual</td>\n",
              "      <td>17890.01000</td>\n",
              "    </tr>\n",
              "    <tr>\n",
              "      <th>8</th>\n",
              "      <td>8</td>\n",
              "      <td>2014-01-01</td>\n",
              "      <td>Ireland</td>\n",
              "      <td>In 2015 constant prices at 2015 USD PPPs</td>\n",
              "      <td>Annual</td>\n",
              "      <td>17854.87500</td>\n",
              "    </tr>\n",
              "    <tr>\n",
              "      <th>9</th>\n",
              "      <td>9</td>\n",
              "      <td>2015-01-01</td>\n",
              "      <td>Ireland</td>\n",
              "      <td>In 2015 constant prices at 2015 USD PPPs</td>\n",
              "      <td>Annual</td>\n",
              "      <td>17907.63700</td>\n",
              "    </tr>\n",
              "    <tr>\n",
              "      <th>10</th>\n",
              "      <td>10</td>\n",
              "      <td>2016-01-01</td>\n",
              "      <td>Ireland</td>\n",
              "      <td>In 2015 constant prices at 2015 USD PPPs</td>\n",
              "      <td>Annual</td>\n",
              "      <td>18942.76200</td>\n",
              "    </tr>\n",
              "    <tr>\n",
              "      <th>11</th>\n",
              "      <td>11</td>\n",
              "      <td>2006-01-01</td>\n",
              "      <td>Ireland</td>\n",
              "      <td>In 2015 constant prices at 2015 USD PPPs</td>\n",
              "      <td>Hourly</td>\n",
              "      <td>8.23675</td>\n",
              "    </tr>\n",
              "    <tr>\n",
              "      <th>12</th>\n",
              "      <td>12</td>\n",
              "      <td>2007-01-01</td>\n",
              "      <td>Ireland</td>\n",
              "      <td>In 2015 constant prices at 2015 USD PPPs</td>\n",
              "      <td>Hourly</td>\n",
              "      <td>8.70236</td>\n",
              "    </tr>\n",
              "    <tr>\n",
              "      <th>13</th>\n",
              "      <td>13</td>\n",
              "      <td>2008-01-01</td>\n",
              "      <td>Ireland</td>\n",
              "      <td>In 2015 constant prices at 2015 USD PPPs</td>\n",
              "      <td>Hourly</td>\n",
              "      <td>8.53241</td>\n",
              "    </tr>\n",
              "    <tr>\n",
              "      <th>14</th>\n",
              "      <td>14</td>\n",
              "      <td>2009-01-01</td>\n",
              "      <td>Ireland</td>\n",
              "      <td>In 2015 constant prices at 2015 USD PPPs</td>\n",
              "      <td>Hourly</td>\n",
              "      <td>8.93276</td>\n",
              "    </tr>\n",
              "    <tr>\n",
              "      <th>15</th>\n",
              "      <td>15</td>\n",
              "      <td>2010-01-01</td>\n",
              "      <td>Ireland</td>\n",
              "      <td>In 2015 constant prices at 2015 USD PPPs</td>\n",
              "      <td>Hourly</td>\n",
              "      <td>9.01723</td>\n",
              "    </tr>\n",
              "    <tr>\n",
              "      <th>16</th>\n",
              "      <td>16</td>\n",
              "      <td>2011-01-01</td>\n",
              "      <td>Ireland</td>\n",
              "      <td>In 2015 constant prices at 2015 USD PPPs</td>\n",
              "      <td>Hourly</td>\n",
              "      <td>8.79053</td>\n",
              "    </tr>\n",
              "    <tr>\n",
              "      <th>17</th>\n",
              "      <td>17</td>\n",
              "      <td>2012-01-01</td>\n",
              "      <td>Ireland</td>\n",
              "      <td>In 2015 constant prices at 2015 USD PPPs</td>\n",
              "      <td>Hourly</td>\n",
              "      <td>8.64420</td>\n",
              "    </tr>\n",
              "    <tr>\n",
              "      <th>18</th>\n",
              "      <td>18</td>\n",
              "      <td>2013-01-01</td>\n",
              "      <td>Ireland</td>\n",
              "      <td>In 2015 constant prices at 2015 USD PPPs</td>\n",
              "      <td>Hourly</td>\n",
              "      <td>8.60097</td>\n",
              "    </tr>\n",
              "    <tr>\n",
              "      <th>19</th>\n",
              "      <td>19</td>\n",
              "      <td>2014-01-01</td>\n",
              "      <td>Ireland</td>\n",
              "      <td>In 2015 constant prices at 2015 USD PPPs</td>\n",
              "      <td>Hourly</td>\n",
              "      <td>8.58407</td>\n",
              "    </tr>\n",
              "    <tr>\n",
              "      <th>20</th>\n",
              "      <td>20</td>\n",
              "      <td>2015-01-01</td>\n",
              "      <td>Ireland</td>\n",
              "      <td>In 2015 constant prices at 2015 USD PPPs</td>\n",
              "      <td>Hourly</td>\n",
              "      <td>8.60944</td>\n",
              "    </tr>\n",
              "    <tr>\n",
              "      <th>21</th>\n",
              "      <td>21</td>\n",
              "      <td>2016-01-01</td>\n",
              "      <td>Ireland</td>\n",
              "      <td>In 2015 constant prices at 2015 USD PPPs</td>\n",
              "      <td>Hourly</td>\n",
              "      <td>9.10710</td>\n",
              "    </tr>\n",
              "    <tr>\n",
              "      <th>22</th>\n",
              "      <td>22</td>\n",
              "      <td>2006-01-01</td>\n",
              "      <td>Ireland</td>\n",
              "      <td>In 2015 constant prices at 2015 USD exchange r...</td>\n",
              "      <td>Annual</td>\n",
              "      <td>19090.53700</td>\n",
              "    </tr>\n",
              "    <tr>\n",
              "      <th>23</th>\n",
              "      <td>23</td>\n",
              "      <td>2007-01-01</td>\n",
              "      <td>Ireland</td>\n",
              "      <td>In 2015 constant prices at 2015 USD exchange r...</td>\n",
              "      <td>Annual</td>\n",
              "      <td>20169.69900</td>\n",
              "    </tr>\n",
              "    <tr>\n",
              "      <th>24</th>\n",
              "      <td>24</td>\n",
              "      <td>2008-01-01</td>\n",
              "      <td>Ireland</td>\n",
              "      <td>In 2015 constant prices at 2015 USD exchange r...</td>\n",
              "      <td>Annual</td>\n",
              "      <td>19775.78500</td>\n",
              "    </tr>\n",
              "    <tr>\n",
              "      <th>25</th>\n",
              "      <td>25</td>\n",
              "      <td>2009-01-01</td>\n",
              "      <td>Ireland</td>\n",
              "      <td>In 2015 constant prices at 2015 USD exchange r...</td>\n",
              "      <td>Annual</td>\n",
              "      <td>20703.69100</td>\n",
              "    </tr>\n",
              "    <tr>\n",
              "      <th>26</th>\n",
              "      <td>26</td>\n",
              "      <td>2010-01-01</td>\n",
              "      <td>Ireland</td>\n",
              "      <td>In 2015 constant prices at 2015 USD exchange r...</td>\n",
              "      <td>Annual</td>\n",
              "      <td>20899.46500</td>\n",
              "    </tr>\n",
              "    <tr>\n",
              "      <th>27</th>\n",
              "      <td>27</td>\n",
              "      <td>2011-01-01</td>\n",
              "      <td>Ireland</td>\n",
              "      <td>In 2015 constant prices at 2015 USD exchange r...</td>\n",
              "      <td>Annual</td>\n",
              "      <td>20374.03900</td>\n",
              "    </tr>\n",
              "    <tr>\n",
              "      <th>28</th>\n",
              "      <td>28</td>\n",
              "      <td>2012-01-01</td>\n",
              "      <td>Ireland</td>\n",
              "      <td>In 2015 constant prices at 2015 USD exchange r...</td>\n",
              "      <td>Annual</td>\n",
              "      <td>20034.89800</td>\n",
              "    </tr>\n",
              "    <tr>\n",
              "      <th>29</th>\n",
              "      <td>29</td>\n",
              "      <td>2013-01-01</td>\n",
              "      <td>Ireland</td>\n",
              "      <td>In 2015 constant prices at 2015 USD exchange r...</td>\n",
              "      <td>Annual</td>\n",
              "      <td>19934.68600</td>\n",
              "    </tr>\n",
              "  </tbody>\n",
              "</table>\n",
              "</div>\n",
              "    <div class=\"colab-df-buttons\">\n",
              "\n",
              "  <div class=\"colab-df-container\">\n",
              "    <button class=\"colab-df-convert\" onclick=\"convertToInteractive('df-0004bc04-cee0-40d8-a267-f1b92c359495')\"\n",
              "            title=\"Convert this dataframe to an interactive table.\"\n",
              "            style=\"display:none;\">\n",
              "\n",
              "  <svg xmlns=\"http://www.w3.org/2000/svg\" height=\"24px\" viewBox=\"0 -960 960 960\">\n",
              "    <path d=\"M120-120v-720h720v720H120Zm60-500h600v-160H180v160Zm220 220h160v-160H400v160Zm0 220h160v-160H400v160ZM180-400h160v-160H180v160Zm440 0h160v-160H620v160ZM180-180h160v-160H180v160Zm440 0h160v-160H620v160Z\"/>\n",
              "  </svg>\n",
              "    </button>\n",
              "\n",
              "  <style>\n",
              "    .colab-df-container {\n",
              "      display:flex;\n",
              "      gap: 12px;\n",
              "    }\n",
              "\n",
              "    .colab-df-convert {\n",
              "      background-color: #E8F0FE;\n",
              "      border: none;\n",
              "      border-radius: 50%;\n",
              "      cursor: pointer;\n",
              "      display: none;\n",
              "      fill: #1967D2;\n",
              "      height: 32px;\n",
              "      padding: 0 0 0 0;\n",
              "      width: 32px;\n",
              "    }\n",
              "\n",
              "    .colab-df-convert:hover {\n",
              "      background-color: #E2EBFA;\n",
              "      box-shadow: 0px 1px 2px rgba(60, 64, 67, 0.3), 0px 1px 3px 1px rgba(60, 64, 67, 0.15);\n",
              "      fill: #174EA6;\n",
              "    }\n",
              "\n",
              "    .colab-df-buttons div {\n",
              "      margin-bottom: 4px;\n",
              "    }\n",
              "\n",
              "    [theme=dark] .colab-df-convert {\n",
              "      background-color: #3B4455;\n",
              "      fill: #D2E3FC;\n",
              "    }\n",
              "\n",
              "    [theme=dark] .colab-df-convert:hover {\n",
              "      background-color: #434B5C;\n",
              "      box-shadow: 0px 1px 3px 1px rgba(0, 0, 0, 0.15);\n",
              "      filter: drop-shadow(0px 1px 2px rgba(0, 0, 0, 0.3));\n",
              "      fill: #FFFFFF;\n",
              "    }\n",
              "  </style>\n",
              "\n",
              "    <script>\n",
              "      const buttonEl =\n",
              "        document.querySelector('#df-0004bc04-cee0-40d8-a267-f1b92c359495 button.colab-df-convert');\n",
              "      buttonEl.style.display =\n",
              "        google.colab.kernel.accessAllowed ? 'block' : 'none';\n",
              "\n",
              "      async function convertToInteractive(key) {\n",
              "        const element = document.querySelector('#df-0004bc04-cee0-40d8-a267-f1b92c359495');\n",
              "        const dataTable =\n",
              "          await google.colab.kernel.invokeFunction('convertToInteractive',\n",
              "                                                    [key], {});\n",
              "        if (!dataTable) return;\n",
              "\n",
              "        const docLinkHtml = 'Like what you see? Visit the ' +\n",
              "          '<a target=\"_blank\" href=https://colab.research.google.com/notebooks/data_table.ipynb>data table notebook</a>'\n",
              "          + ' to learn more about interactive tables.';\n",
              "        element.innerHTML = '';\n",
              "        dataTable['output_type'] = 'display_data';\n",
              "        await google.colab.output.renderOutput(dataTable, element);\n",
              "        const docLink = document.createElement('div');\n",
              "        docLink.innerHTML = docLinkHtml;\n",
              "        element.appendChild(docLink);\n",
              "      }\n",
              "    </script>\n",
              "  </div>\n",
              "\n",
              "\n",
              "<div id=\"df-0007e3c2-ed2b-4739-a82f-9550398247dc\">\n",
              "  <button class=\"colab-df-quickchart\" onclick=\"quickchart('df-0007e3c2-ed2b-4739-a82f-9550398247dc')\"\n",
              "            title=\"Suggest charts.\"\n",
              "            style=\"display:none;\">\n",
              "\n",
              "<svg xmlns=\"http://www.w3.org/2000/svg\" height=\"24px\"viewBox=\"0 0 24 24\"\n",
              "     width=\"24px\">\n",
              "    <g>\n",
              "        <path d=\"M19 3H5c-1.1 0-2 .9-2 2v14c0 1.1.9 2 2 2h14c1.1 0 2-.9 2-2V5c0-1.1-.9-2-2-2zM9 17H7v-7h2v7zm4 0h-2V7h2v10zm4 0h-2v-4h2v4z\"/>\n",
              "    </g>\n",
              "</svg>\n",
              "  </button>\n",
              "\n",
              "<style>\n",
              "  .colab-df-quickchart {\n",
              "    background-color: #E8F0FE;\n",
              "    border: none;\n",
              "    border-radius: 50%;\n",
              "    cursor: pointer;\n",
              "    display: none;\n",
              "    fill: #1967D2;\n",
              "    height: 32px;\n",
              "    padding: 0 0 0 0;\n",
              "    width: 32px;\n",
              "  }\n",
              "\n",
              "  .colab-df-quickchart:hover {\n",
              "    background-color: #E2EBFA;\n",
              "    box-shadow: 0px 1px 2px rgba(60, 64, 67, 0.3), 0px 1px 3px 1px rgba(60, 64, 67, 0.15);\n",
              "    fill: #174EA6;\n",
              "  }\n",
              "\n",
              "  [theme=dark] .colab-df-quickchart {\n",
              "    background-color: #3B4455;\n",
              "    fill: #D2E3FC;\n",
              "  }\n",
              "\n",
              "  [theme=dark] .colab-df-quickchart:hover {\n",
              "    background-color: #434B5C;\n",
              "    box-shadow: 0px 1px 3px 1px rgba(0, 0, 0, 0.15);\n",
              "    filter: drop-shadow(0px 1px 2px rgba(0, 0, 0, 0.3));\n",
              "    fill: #FFFFFF;\n",
              "  }\n",
              "</style>\n",
              "\n",
              "  <script>\n",
              "    async function quickchart(key) {\n",
              "      const charts = await google.colab.kernel.invokeFunction(\n",
              "          'suggestCharts', [key], {});\n",
              "    }\n",
              "    (() => {\n",
              "      let quickchartButtonEl =\n",
              "        document.querySelector('#df-0007e3c2-ed2b-4739-a82f-9550398247dc button');\n",
              "      quickchartButtonEl.style.display =\n",
              "        google.colab.kernel.accessAllowed ? 'block' : 'none';\n",
              "    })();\n",
              "  </script>\n",
              "</div>\n",
              "    </div>\n",
              "  </div>\n"
            ]
          },
          "metadata": {},
          "execution_count": 96
        }
      ]
    },
    {
      "cell_type": "markdown",
      "metadata": {
        "id": "TGgU3_ss-Ke7"
      },
      "source": [
        "If we were to analyze all these data based on the 'Time' (in other words, the year of the data), then we need to re-organize the data a little. This is where a **pivot table** comes into play. A pivot table performs some summarization or re-organization of the data into a more compact looking table so that it can be meaningfully interpreted or used further for visualization purposes.\n",
        "\n",
        "We will use `pivot_table` to create a wide format panel, with a `MultiIndex` to handle higher dimensional data. `pivot_table` arguments should specify the data (values), the index, and the columns we want in our resulting dataframe\n",
        "\n",
        "By passing a list in columns, we can create a MultiIndex in our column axis."
      ]
    },
    {
      "cell_type": "code",
      "metadata": {
        "id": "ZsNZsU7L-Ke7",
        "colab": {
          "base_uri": "https://localhost:8080/",
          "height": 503
        },
        "outputId": "f8cdd736-87d9-4b6f-a448-c43199bfb7c4"
      },
      "source": [
        "wage_pt = wage.pivot_table(values='value',\n",
        "                        index='Time',                                 # this is the new index of the pivot table\n",
        "                        columns=['Country', 'Series', 'Pay period'])  # this specifies grouped columns with multiple indices\n",
        "wage_pt.head()"
      ],
      "execution_count": null,
      "outputs": [
        {
          "output_type": "execute_result",
          "data": {
            "text/plain": [
              "Country                                   Australia            \\\n",
              "Series     In 2015 constant prices at 2015 USD PPPs             \n",
              "Pay period                                   Annual    Hourly   \n",
              "Time                                                            \n",
              "2006-01-01                                20410.652  10.33073   \n",
              "2007-01-01                                21087.568  10.67106   \n",
              "2008-01-01                                20718.238  10.48298   \n",
              "2009-01-01                                20984.768  10.61966   \n",
              "2010-01-01                                20879.332  10.57090   \n",
              "\n",
              "Country                                                                \\\n",
              "Series     In 2015 constant prices at 2015 USD exchange rates           \n",
              "Pay period                                             Annual  Hourly   \n",
              "Time                                                                    \n",
              "2006-01-01                                          23826.637  12.060   \n",
              "2007-01-01                                          24616.844  12.457   \n",
              "2008-01-01                                          24185.703  12.237   \n",
              "2009-01-01                                          24496.838  12.397   \n",
              "2010-01-01                                          24373.756  12.340   \n",
              "\n",
              "Country                                     Belgium            \\\n",
              "Series     In 2015 constant prices at 2015 USD PPPs             \n",
              "Pay period                                   Annual    Hourly   \n",
              "Time                                                            \n",
              "2006-01-01                                21042.279  10.08859   \n",
              "2007-01-01                                21310.053  10.21730   \n",
              "2008-01-01                                21416.957  10.26877   \n",
              "2009-01-01                                22140.191  10.61538   \n",
              "2010-01-01                                21810.281  10.45718   \n",
              "\n",
              "Country                                                                \\\n",
              "Series     In 2015 constant prices at 2015 USD exchange rates           \n",
              "Pay period                                             Annual  Hourly   \n",
              "Time                                                                    \n",
              "2006-01-01                                          20228.742   9.699   \n",
              "2007-01-01                                          20486.162   9.822   \n",
              "2008-01-01                                          20588.934   9.872   \n",
              "2009-01-01                                          21284.205  10.205   \n",
              "2010-01-01                                          20967.053  10.053   \n",
              "\n",
              "Country                                      Brazil         ...  \\\n",
              "Series     In 2015 constant prices at 2015 USD PPPs         ...   \n",
              "Pay period                                   Annual Hourly  ...   \n",
              "Time                                                        ...   \n",
              "2006-01-01                                3310.5120   1.41  ...   \n",
              "2007-01-01                                3525.4519   1.50  ...   \n",
              "2008-01-01                                3664.3911   1.56  ...   \n",
              "2009-01-01                                3934.7710   1.68  ...   \n",
              "2010-01-01                                4145.6851   1.80  ...   \n",
              "\n",
              "Country                                                Turkey         \\\n",
              "Series     In 2015 constant prices at 2015 USD exchange rates          \n",
              "Pay period                                             Annual Hourly   \n",
              "Time                                                                   \n",
              "2006-01-01                                          4741.1650  2.273   \n",
              "2007-01-01                                          4710.4160  2.258   \n",
              "2008-01-01                                          4635.1650  2.222   \n",
              "2009-01-01                                          4753.9048  2.279   \n",
              "2010-01-01                                          4799.2778  2.301   \n",
              "\n",
              "Country                              United Kingdom           \\\n",
              "Series     In 2015 constant prices at 2015 USD PPPs            \n",
              "Pay period                                   Annual   Hourly   \n",
              "Time                                                           \n",
              "2006-01-01                                16764.969  8.06794   \n",
              "2007-01-01                                17240.371  8.28509   \n",
              "2008-01-01                                17198.191  8.26451   \n",
              "2009-01-01                                17359.232  8.34928   \n",
              "2010-01-01                                17053.221  8.19488   \n",
              "\n",
              "Country                                                                \\\n",
              "Series     In 2015 constant prices at 2015 USD exchange rates           \n",
              "Pay period                                             Annual  Hourly   \n",
              "Time                                                                    \n",
              "2006-01-01                                          20376.320   9.806   \n",
              "2007-01-01                                          20954.133  10.070   \n",
              "2008-01-01                                          20902.865  10.045   \n",
              "2009-01-01                                          21098.598  10.148   \n",
              "2010-01-01                                          20726.668   9.960   \n",
              "\n",
              "Country                               United States           \\\n",
              "Series     In 2015 constant prices at 2015 USD PPPs            \n",
              "Pay period                                   Annual   Hourly   \n",
              "Time                                                           \n",
              "2006-01-01                                12594.397  6.05500   \n",
              "2007-01-01                                12974.395  6.24143   \n",
              "2008-01-01                                14097.556  6.78127   \n",
              "2009-01-01                                15756.423  7.57882   \n",
              "2010-01-01                                16391.313  7.88044   \n",
              "\n",
              "Country                                                               \n",
              "Series     In 2015 constant prices at 2015 USD exchange rates         \n",
              "Pay period                                             Annual Hourly  \n",
              "Time                                                                  \n",
              "2006-01-01                                          12594.397  6.055  \n",
              "2007-01-01                                          12974.395  6.241  \n",
              "2008-01-01                                          14097.556  6.781  \n",
              "2009-01-01                                          15756.423  7.579  \n",
              "2010-01-01                                          16391.313  7.880  \n",
              "\n",
              "[5 rows x 128 columns]"
            ],
            "text/html": [
              "\n",
              "  <div id=\"df-3fb2cdf3-6e73-4eb8-b080-e92f0e65b0e8\" class=\"colab-df-container\">\n",
              "    <div>\n",
              "<style scoped>\n",
              "    .dataframe tbody tr th:only-of-type {\n",
              "        vertical-align: middle;\n",
              "    }\n",
              "\n",
              "    .dataframe tbody tr th {\n",
              "        vertical-align: top;\n",
              "    }\n",
              "\n",
              "    .dataframe thead tr th {\n",
              "        text-align: left;\n",
              "    }\n",
              "\n",
              "    .dataframe thead tr:last-of-type th {\n",
              "        text-align: right;\n",
              "    }\n",
              "</style>\n",
              "<table border=\"1\" class=\"dataframe\">\n",
              "  <thead>\n",
              "    <tr>\n",
              "      <th>Country</th>\n",
              "      <th colspan=\"4\" halign=\"left\">Australia</th>\n",
              "      <th colspan=\"4\" halign=\"left\">Belgium</th>\n",
              "      <th colspan=\"2\" halign=\"left\">Brazil</th>\n",
              "      <th>...</th>\n",
              "      <th colspan=\"2\" halign=\"left\">Turkey</th>\n",
              "      <th colspan=\"4\" halign=\"left\">United Kingdom</th>\n",
              "      <th colspan=\"4\" halign=\"left\">United States</th>\n",
              "    </tr>\n",
              "    <tr>\n",
              "      <th>Series</th>\n",
              "      <th colspan=\"2\" halign=\"left\">In 2015 constant prices at 2015 USD PPPs</th>\n",
              "      <th colspan=\"2\" halign=\"left\">In 2015 constant prices at 2015 USD exchange rates</th>\n",
              "      <th colspan=\"2\" halign=\"left\">In 2015 constant prices at 2015 USD PPPs</th>\n",
              "      <th colspan=\"2\" halign=\"left\">In 2015 constant prices at 2015 USD exchange rates</th>\n",
              "      <th colspan=\"2\" halign=\"left\">In 2015 constant prices at 2015 USD PPPs</th>\n",
              "      <th>...</th>\n",
              "      <th colspan=\"2\" halign=\"left\">In 2015 constant prices at 2015 USD exchange rates</th>\n",
              "      <th colspan=\"2\" halign=\"left\">In 2015 constant prices at 2015 USD PPPs</th>\n",
              "      <th colspan=\"2\" halign=\"left\">In 2015 constant prices at 2015 USD exchange rates</th>\n",
              "      <th colspan=\"2\" halign=\"left\">In 2015 constant prices at 2015 USD PPPs</th>\n",
              "      <th colspan=\"2\" halign=\"left\">In 2015 constant prices at 2015 USD exchange rates</th>\n",
              "    </tr>\n",
              "    <tr>\n",
              "      <th>Pay period</th>\n",
              "      <th>Annual</th>\n",
              "      <th>Hourly</th>\n",
              "      <th>Annual</th>\n",
              "      <th>Hourly</th>\n",
              "      <th>Annual</th>\n",
              "      <th>Hourly</th>\n",
              "      <th>Annual</th>\n",
              "      <th>Hourly</th>\n",
              "      <th>Annual</th>\n",
              "      <th>Hourly</th>\n",
              "      <th>...</th>\n",
              "      <th>Annual</th>\n",
              "      <th>Hourly</th>\n",
              "      <th>Annual</th>\n",
              "      <th>Hourly</th>\n",
              "      <th>Annual</th>\n",
              "      <th>Hourly</th>\n",
              "      <th>Annual</th>\n",
              "      <th>Hourly</th>\n",
              "      <th>Annual</th>\n",
              "      <th>Hourly</th>\n",
              "    </tr>\n",
              "    <tr>\n",
              "      <th>Time</th>\n",
              "      <th></th>\n",
              "      <th></th>\n",
              "      <th></th>\n",
              "      <th></th>\n",
              "      <th></th>\n",
              "      <th></th>\n",
              "      <th></th>\n",
              "      <th></th>\n",
              "      <th></th>\n",
              "      <th></th>\n",
              "      <th></th>\n",
              "      <th></th>\n",
              "      <th></th>\n",
              "      <th></th>\n",
              "      <th></th>\n",
              "      <th></th>\n",
              "      <th></th>\n",
              "      <th></th>\n",
              "      <th></th>\n",
              "      <th></th>\n",
              "      <th></th>\n",
              "    </tr>\n",
              "  </thead>\n",
              "  <tbody>\n",
              "    <tr>\n",
              "      <th>2006-01-01</th>\n",
              "      <td>20410.652</td>\n",
              "      <td>10.33073</td>\n",
              "      <td>23826.637</td>\n",
              "      <td>12.060</td>\n",
              "      <td>21042.279</td>\n",
              "      <td>10.08859</td>\n",
              "      <td>20228.742</td>\n",
              "      <td>9.699</td>\n",
              "      <td>3310.5120</td>\n",
              "      <td>1.41</td>\n",
              "      <td>...</td>\n",
              "      <td>4741.1650</td>\n",
              "      <td>2.273</td>\n",
              "      <td>16764.969</td>\n",
              "      <td>8.06794</td>\n",
              "      <td>20376.320</td>\n",
              "      <td>9.806</td>\n",
              "      <td>12594.397</td>\n",
              "      <td>6.05500</td>\n",
              "      <td>12594.397</td>\n",
              "      <td>6.055</td>\n",
              "    </tr>\n",
              "    <tr>\n",
              "      <th>2007-01-01</th>\n",
              "      <td>21087.568</td>\n",
              "      <td>10.67106</td>\n",
              "      <td>24616.844</td>\n",
              "      <td>12.457</td>\n",
              "      <td>21310.053</td>\n",
              "      <td>10.21730</td>\n",
              "      <td>20486.162</td>\n",
              "      <td>9.822</td>\n",
              "      <td>3525.4519</td>\n",
              "      <td>1.50</td>\n",
              "      <td>...</td>\n",
              "      <td>4710.4160</td>\n",
              "      <td>2.258</td>\n",
              "      <td>17240.371</td>\n",
              "      <td>8.28509</td>\n",
              "      <td>20954.133</td>\n",
              "      <td>10.070</td>\n",
              "      <td>12974.395</td>\n",
              "      <td>6.24143</td>\n",
              "      <td>12974.395</td>\n",
              "      <td>6.241</td>\n",
              "    </tr>\n",
              "    <tr>\n",
              "      <th>2008-01-01</th>\n",
              "      <td>20718.238</td>\n",
              "      <td>10.48298</td>\n",
              "      <td>24185.703</td>\n",
              "      <td>12.237</td>\n",
              "      <td>21416.957</td>\n",
              "      <td>10.26877</td>\n",
              "      <td>20588.934</td>\n",
              "      <td>9.872</td>\n",
              "      <td>3664.3911</td>\n",
              "      <td>1.56</td>\n",
              "      <td>...</td>\n",
              "      <td>4635.1650</td>\n",
              "      <td>2.222</td>\n",
              "      <td>17198.191</td>\n",
              "      <td>8.26451</td>\n",
              "      <td>20902.865</td>\n",
              "      <td>10.045</td>\n",
              "      <td>14097.556</td>\n",
              "      <td>6.78127</td>\n",
              "      <td>14097.556</td>\n",
              "      <td>6.781</td>\n",
              "    </tr>\n",
              "    <tr>\n",
              "      <th>2009-01-01</th>\n",
              "      <td>20984.768</td>\n",
              "      <td>10.61966</td>\n",
              "      <td>24496.838</td>\n",
              "      <td>12.397</td>\n",
              "      <td>22140.191</td>\n",
              "      <td>10.61538</td>\n",
              "      <td>21284.205</td>\n",
              "      <td>10.205</td>\n",
              "      <td>3934.7710</td>\n",
              "      <td>1.68</td>\n",
              "      <td>...</td>\n",
              "      <td>4753.9048</td>\n",
              "      <td>2.279</td>\n",
              "      <td>17359.232</td>\n",
              "      <td>8.34928</td>\n",
              "      <td>21098.598</td>\n",
              "      <td>10.148</td>\n",
              "      <td>15756.423</td>\n",
              "      <td>7.57882</td>\n",
              "      <td>15756.423</td>\n",
              "      <td>7.579</td>\n",
              "    </tr>\n",
              "    <tr>\n",
              "      <th>2010-01-01</th>\n",
              "      <td>20879.332</td>\n",
              "      <td>10.57090</td>\n",
              "      <td>24373.756</td>\n",
              "      <td>12.340</td>\n",
              "      <td>21810.281</td>\n",
              "      <td>10.45718</td>\n",
              "      <td>20967.053</td>\n",
              "      <td>10.053</td>\n",
              "      <td>4145.6851</td>\n",
              "      <td>1.80</td>\n",
              "      <td>...</td>\n",
              "      <td>4799.2778</td>\n",
              "      <td>2.301</td>\n",
              "      <td>17053.221</td>\n",
              "      <td>8.19488</td>\n",
              "      <td>20726.668</td>\n",
              "      <td>9.960</td>\n",
              "      <td>16391.313</td>\n",
              "      <td>7.88044</td>\n",
              "      <td>16391.313</td>\n",
              "      <td>7.880</td>\n",
              "    </tr>\n",
              "  </tbody>\n",
              "</table>\n",
              "<p>5 rows × 128 columns</p>\n",
              "</div>\n",
              "    <div class=\"colab-df-buttons\">\n",
              "\n",
              "  <div class=\"colab-df-container\">\n",
              "    <button class=\"colab-df-convert\" onclick=\"convertToInteractive('df-3fb2cdf3-6e73-4eb8-b080-e92f0e65b0e8')\"\n",
              "            title=\"Convert this dataframe to an interactive table.\"\n",
              "            style=\"display:none;\">\n",
              "\n",
              "  <svg xmlns=\"http://www.w3.org/2000/svg\" height=\"24px\" viewBox=\"0 -960 960 960\">\n",
              "    <path d=\"M120-120v-720h720v720H120Zm60-500h600v-160H180v160Zm220 220h160v-160H400v160Zm0 220h160v-160H400v160ZM180-400h160v-160H180v160Zm440 0h160v-160H620v160ZM180-180h160v-160H180v160Zm440 0h160v-160H620v160Z\"/>\n",
              "  </svg>\n",
              "    </button>\n",
              "\n",
              "  <style>\n",
              "    .colab-df-container {\n",
              "      display:flex;\n",
              "      gap: 12px;\n",
              "    }\n",
              "\n",
              "    .colab-df-convert {\n",
              "      background-color: #E8F0FE;\n",
              "      border: none;\n",
              "      border-radius: 50%;\n",
              "      cursor: pointer;\n",
              "      display: none;\n",
              "      fill: #1967D2;\n",
              "      height: 32px;\n",
              "      padding: 0 0 0 0;\n",
              "      width: 32px;\n",
              "    }\n",
              "\n",
              "    .colab-df-convert:hover {\n",
              "      background-color: #E2EBFA;\n",
              "      box-shadow: 0px 1px 2px rgba(60, 64, 67, 0.3), 0px 1px 3px 1px rgba(60, 64, 67, 0.15);\n",
              "      fill: #174EA6;\n",
              "    }\n",
              "\n",
              "    .colab-df-buttons div {\n",
              "      margin-bottom: 4px;\n",
              "    }\n",
              "\n",
              "    [theme=dark] .colab-df-convert {\n",
              "      background-color: #3B4455;\n",
              "      fill: #D2E3FC;\n",
              "    }\n",
              "\n",
              "    [theme=dark] .colab-df-convert:hover {\n",
              "      background-color: #434B5C;\n",
              "      box-shadow: 0px 1px 3px 1px rgba(0, 0, 0, 0.15);\n",
              "      filter: drop-shadow(0px 1px 2px rgba(0, 0, 0, 0.3));\n",
              "      fill: #FFFFFF;\n",
              "    }\n",
              "  </style>\n",
              "\n",
              "    <script>\n",
              "      const buttonEl =\n",
              "        document.querySelector('#df-3fb2cdf3-6e73-4eb8-b080-e92f0e65b0e8 button.colab-df-convert');\n",
              "      buttonEl.style.display =\n",
              "        google.colab.kernel.accessAllowed ? 'block' : 'none';\n",
              "\n",
              "      async function convertToInteractive(key) {\n",
              "        const element = document.querySelector('#df-3fb2cdf3-6e73-4eb8-b080-e92f0e65b0e8');\n",
              "        const dataTable =\n",
              "          await google.colab.kernel.invokeFunction('convertToInteractive',\n",
              "                                                    [key], {});\n",
              "        if (!dataTable) return;\n",
              "\n",
              "        const docLinkHtml = 'Like what you see? Visit the ' +\n",
              "          '<a target=\"_blank\" href=https://colab.research.google.com/notebooks/data_table.ipynb>data table notebook</a>'\n",
              "          + ' to learn more about interactive tables.';\n",
              "        element.innerHTML = '';\n",
              "        dataTable['output_type'] = 'display_data';\n",
              "        await google.colab.output.renderOutput(dataTable, element);\n",
              "        const docLink = document.createElement('div');\n",
              "        docLink.innerHTML = docLinkHtml;\n",
              "        element.appendChild(docLink);\n",
              "      }\n",
              "    </script>\n",
              "  </div>\n",
              "\n",
              "\n",
              "<div id=\"df-493ce846-0ffd-4527-86ed-11c991e9a0a9\">\n",
              "  <button class=\"colab-df-quickchart\" onclick=\"quickchart('df-493ce846-0ffd-4527-86ed-11c991e9a0a9')\"\n",
              "            title=\"Suggest charts.\"\n",
              "            style=\"display:none;\">\n",
              "\n",
              "<svg xmlns=\"http://www.w3.org/2000/svg\" height=\"24px\"viewBox=\"0 0 24 24\"\n",
              "     width=\"24px\">\n",
              "    <g>\n",
              "        <path d=\"M19 3H5c-1.1 0-2 .9-2 2v14c0 1.1.9 2 2 2h14c1.1 0 2-.9 2-2V5c0-1.1-.9-2-2-2zM9 17H7v-7h2v7zm4 0h-2V7h2v10zm4 0h-2v-4h2v4z\"/>\n",
              "    </g>\n",
              "</svg>\n",
              "  </button>\n",
              "\n",
              "<style>\n",
              "  .colab-df-quickchart {\n",
              "    background-color: #E8F0FE;\n",
              "    border: none;\n",
              "    border-radius: 50%;\n",
              "    cursor: pointer;\n",
              "    display: none;\n",
              "    fill: #1967D2;\n",
              "    height: 32px;\n",
              "    padding: 0 0 0 0;\n",
              "    width: 32px;\n",
              "  }\n",
              "\n",
              "  .colab-df-quickchart:hover {\n",
              "    background-color: #E2EBFA;\n",
              "    box-shadow: 0px 1px 2px rgba(60, 64, 67, 0.3), 0px 1px 3px 1px rgba(60, 64, 67, 0.15);\n",
              "    fill: #174EA6;\n",
              "  }\n",
              "\n",
              "  [theme=dark] .colab-df-quickchart {\n",
              "    background-color: #3B4455;\n",
              "    fill: #D2E3FC;\n",
              "  }\n",
              "\n",
              "  [theme=dark] .colab-df-quickchart:hover {\n",
              "    background-color: #434B5C;\n",
              "    box-shadow: 0px 1px 3px 1px rgba(0, 0, 0, 0.15);\n",
              "    filter: drop-shadow(0px 1px 2px rgba(0, 0, 0, 0.3));\n",
              "    fill: #FFFFFF;\n",
              "  }\n",
              "</style>\n",
              "\n",
              "  <script>\n",
              "    async function quickchart(key) {\n",
              "      const charts = await google.colab.kernel.invokeFunction(\n",
              "          'suggestCharts', [key], {});\n",
              "    }\n",
              "    (() => {\n",
              "      let quickchartButtonEl =\n",
              "        document.querySelector('#df-493ce846-0ffd-4527-86ed-11c991e9a0a9 button');\n",
              "      quickchartButtonEl.style.display =\n",
              "        google.colab.kernel.accessAllowed ? 'block' : 'none';\n",
              "    })();\n",
              "  </script>\n",
              "</div>\n",
              "    </div>\n",
              "  </div>\n"
            ]
          },
          "metadata": {},
          "execution_count": 97
        },
        {
          "output_type": "stream",
          "name": "stdout",
          "text": [
            "Error: Runtime no longer has a reference to this dataframe, please re-run this cell and try again.\n",
            "Error: Runtime no longer has a reference to this dataframe, please re-run this cell and try again.\n"
          ]
        }
      ]
    },
    {
      "cell_type": "markdown",
      "metadata": {
        "id": "3E7us-5w-Ke-"
      },
      "source": [
        "To more easily filter our time series data later on, we will convert the index into a [`DateTimeIndex`](https://pandas.pydata.org/pandas-docs/version/0.23.4/generated/pandas.DatetimeIndex.html)."
      ]
    },
    {
      "cell_type": "code",
      "metadata": {
        "id": "li5kIIXS-Ke-",
        "colab": {
          "base_uri": "https://localhost:8080/"
        },
        "outputId": "add82ecc-8c4c-46c8-8b8a-f9d325e6470f"
      },
      "source": [
        "wage_pt.index = pd.to_datetime(wage_pt.index)\n",
        "type(wage_pt.index)"
      ],
      "execution_count": null,
      "outputs": [
        {
          "output_type": "execute_result",
          "data": {
            "text/plain": [
              "pandas.core.indexes.datetimes.DatetimeIndex"
            ]
          },
          "metadata": {},
          "execution_count": 99
        }
      ]
    },
    {
      "cell_type": "markdown",
      "metadata": {
        "id": "uFiMhww6-Ke_"
      },
      "source": [
        "The columns contain multiple levels of indexing, known as a `MultiIndex`, with levels being ordered hierarchically (Country > Series > Pay period). This is known as \"concept hierarchy generation\".\n",
        "\n",
        "A `MultiIndex` is the simplest and most flexible way to manage panel data in pandas"
      ]
    },
    {
      "cell_type": "code",
      "metadata": {
        "id": "owMYoMMO-KfA",
        "colab": {
          "base_uri": "https://localhost:8080/"
        },
        "outputId": "6b8025b2-7215-44f9-c5f8-e1cf9db2b75d"
      },
      "source": [
        "type(wage_pt.columns)"
      ],
      "execution_count": null,
      "outputs": [
        {
          "output_type": "execute_result",
          "data": {
            "text/plain": [
              "pandas.core.indexes.multi.MultiIndex"
            ]
          },
          "metadata": {},
          "execution_count": 100
        }
      ]
    },
    {
      "cell_type": "code",
      "metadata": {
        "id": "4v5hwuKY-KfC",
        "colab": {
          "base_uri": "https://localhost:8080/"
        },
        "outputId": "f2e7964b-123c-4a8e-81fa-6523497aca8c"
      },
      "source": [
        "wage_pt.columns.names"
      ],
      "execution_count": null,
      "outputs": [
        {
          "output_type": "execute_result",
          "data": {
            "text/plain": [
              "FrozenList(['Country', 'Series', 'Pay period'])"
            ]
          },
          "metadata": {},
          "execution_count": 101
        }
      ]
    },
    {
      "cell_type": "markdown",
      "metadata": {
        "id": "nTnK6c-b-KfE"
      },
      "source": [
        "Like before, we can select the country (the top level of our MultiIndex):"
      ]
    },
    {
      "cell_type": "code",
      "metadata": {
        "scrolled": true,
        "id": "zhkoIUKU-KfE",
        "colab": {
          "base_uri": "https://localhost:8080/",
          "height": 269
        },
        "outputId": "04fe4a0d-2d3a-410b-9f00-8162a1dc3f79"
      },
      "source": [
        "wage_pt['Japan'].head()"
      ],
      "execution_count": null,
      "outputs": [
        {
          "output_type": "execute_result",
          "data": {
            "text/plain": [
              "Series     In 2015 constant prices at 2015 USD PPPs           \\\n",
              "Pay period                                   Annual   Hourly   \n",
              "Time                                                           \n",
              "2006-01-01                                13082.115  6.28948   \n",
              "2007-01-01                                13215.890  6.35379   \n",
              "2008-01-01                                13315.404  6.40164   \n",
              "2009-01-01                                13781.248  6.62560   \n",
              "2010-01-01                                14112.379  6.78480   \n",
              "\n",
              "Series     In 2015 constant prices at 2015 USD exchange rates         \n",
              "Pay period                                             Annual Hourly  \n",
              "Time                                                                  \n",
              "2006-01-01                                          11836.640  5.691  \n",
              "2007-01-01                                          11957.679  5.749  \n",
              "2008-01-01                                          12047.718  5.792  \n",
              "2009-01-01                                          12469.213  5.995  \n",
              "2010-01-01                                          12768.818  6.139  "
            ],
            "text/html": [
              "\n",
              "  <div id=\"df-baec5409-3180-4fde-ac75-4a2c61372cb8\" class=\"colab-df-container\">\n",
              "    <div>\n",
              "<style scoped>\n",
              "    .dataframe tbody tr th:only-of-type {\n",
              "        vertical-align: middle;\n",
              "    }\n",
              "\n",
              "    .dataframe tbody tr th {\n",
              "        vertical-align: top;\n",
              "    }\n",
              "\n",
              "    .dataframe thead tr th {\n",
              "        text-align: left;\n",
              "    }\n",
              "\n",
              "    .dataframe thead tr:last-of-type th {\n",
              "        text-align: right;\n",
              "    }\n",
              "</style>\n",
              "<table border=\"1\" class=\"dataframe\">\n",
              "  <thead>\n",
              "    <tr>\n",
              "      <th>Series</th>\n",
              "      <th colspan=\"2\" halign=\"left\">In 2015 constant prices at 2015 USD PPPs</th>\n",
              "      <th colspan=\"2\" halign=\"left\">In 2015 constant prices at 2015 USD exchange rates</th>\n",
              "    </tr>\n",
              "    <tr>\n",
              "      <th>Pay period</th>\n",
              "      <th>Annual</th>\n",
              "      <th>Hourly</th>\n",
              "      <th>Annual</th>\n",
              "      <th>Hourly</th>\n",
              "    </tr>\n",
              "    <tr>\n",
              "      <th>Time</th>\n",
              "      <th></th>\n",
              "      <th></th>\n",
              "      <th></th>\n",
              "      <th></th>\n",
              "    </tr>\n",
              "  </thead>\n",
              "  <tbody>\n",
              "    <tr>\n",
              "      <th>2006-01-01</th>\n",
              "      <td>13082.115</td>\n",
              "      <td>6.28948</td>\n",
              "      <td>11836.640</td>\n",
              "      <td>5.691</td>\n",
              "    </tr>\n",
              "    <tr>\n",
              "      <th>2007-01-01</th>\n",
              "      <td>13215.890</td>\n",
              "      <td>6.35379</td>\n",
              "      <td>11957.679</td>\n",
              "      <td>5.749</td>\n",
              "    </tr>\n",
              "    <tr>\n",
              "      <th>2008-01-01</th>\n",
              "      <td>13315.404</td>\n",
              "      <td>6.40164</td>\n",
              "      <td>12047.718</td>\n",
              "      <td>5.792</td>\n",
              "    </tr>\n",
              "    <tr>\n",
              "      <th>2009-01-01</th>\n",
              "      <td>13781.248</td>\n",
              "      <td>6.62560</td>\n",
              "      <td>12469.213</td>\n",
              "      <td>5.995</td>\n",
              "    </tr>\n",
              "    <tr>\n",
              "      <th>2010-01-01</th>\n",
              "      <td>14112.379</td>\n",
              "      <td>6.78480</td>\n",
              "      <td>12768.818</td>\n",
              "      <td>6.139</td>\n",
              "    </tr>\n",
              "  </tbody>\n",
              "</table>\n",
              "</div>\n",
              "    <div class=\"colab-df-buttons\">\n",
              "\n",
              "  <div class=\"colab-df-container\">\n",
              "    <button class=\"colab-df-convert\" onclick=\"convertToInteractive('df-baec5409-3180-4fde-ac75-4a2c61372cb8')\"\n",
              "            title=\"Convert this dataframe to an interactive table.\"\n",
              "            style=\"display:none;\">\n",
              "\n",
              "  <svg xmlns=\"http://www.w3.org/2000/svg\" height=\"24px\" viewBox=\"0 -960 960 960\">\n",
              "    <path d=\"M120-120v-720h720v720H120Zm60-500h600v-160H180v160Zm220 220h160v-160H400v160Zm0 220h160v-160H400v160ZM180-400h160v-160H180v160Zm440 0h160v-160H620v160ZM180-180h160v-160H180v160Zm440 0h160v-160H620v160Z\"/>\n",
              "  </svg>\n",
              "    </button>\n",
              "\n",
              "  <style>\n",
              "    .colab-df-container {\n",
              "      display:flex;\n",
              "      gap: 12px;\n",
              "    }\n",
              "\n",
              "    .colab-df-convert {\n",
              "      background-color: #E8F0FE;\n",
              "      border: none;\n",
              "      border-radius: 50%;\n",
              "      cursor: pointer;\n",
              "      display: none;\n",
              "      fill: #1967D2;\n",
              "      height: 32px;\n",
              "      padding: 0 0 0 0;\n",
              "      width: 32px;\n",
              "    }\n",
              "\n",
              "    .colab-df-convert:hover {\n",
              "      background-color: #E2EBFA;\n",
              "      box-shadow: 0px 1px 2px rgba(60, 64, 67, 0.3), 0px 1px 3px 1px rgba(60, 64, 67, 0.15);\n",
              "      fill: #174EA6;\n",
              "    }\n",
              "\n",
              "    .colab-df-buttons div {\n",
              "      margin-bottom: 4px;\n",
              "    }\n",
              "\n",
              "    [theme=dark] .colab-df-convert {\n",
              "      background-color: #3B4455;\n",
              "      fill: #D2E3FC;\n",
              "    }\n",
              "\n",
              "    [theme=dark] .colab-df-convert:hover {\n",
              "      background-color: #434B5C;\n",
              "      box-shadow: 0px 1px 3px 1px rgba(0, 0, 0, 0.15);\n",
              "      filter: drop-shadow(0px 1px 2px rgba(0, 0, 0, 0.3));\n",
              "      fill: #FFFFFF;\n",
              "    }\n",
              "  </style>\n",
              "\n",
              "    <script>\n",
              "      const buttonEl =\n",
              "        document.querySelector('#df-baec5409-3180-4fde-ac75-4a2c61372cb8 button.colab-df-convert');\n",
              "      buttonEl.style.display =\n",
              "        google.colab.kernel.accessAllowed ? 'block' : 'none';\n",
              "\n",
              "      async function convertToInteractive(key) {\n",
              "        const element = document.querySelector('#df-baec5409-3180-4fde-ac75-4a2c61372cb8');\n",
              "        const dataTable =\n",
              "          await google.colab.kernel.invokeFunction('convertToInteractive',\n",
              "                                                    [key], {});\n",
              "        if (!dataTable) return;\n",
              "\n",
              "        const docLinkHtml = 'Like what you see? Visit the ' +\n",
              "          '<a target=\"_blank\" href=https://colab.research.google.com/notebooks/data_table.ipynb>data table notebook</a>'\n",
              "          + ' to learn more about interactive tables.';\n",
              "        element.innerHTML = '';\n",
              "        dataTable['output_type'] = 'display_data';\n",
              "        await google.colab.output.renderOutput(dataTable, element);\n",
              "        const docLink = document.createElement('div');\n",
              "        docLink.innerHTML = docLinkHtml;\n",
              "        element.appendChild(docLink);\n",
              "      }\n",
              "    </script>\n",
              "  </div>\n",
              "\n",
              "\n",
              "<div id=\"df-6f340186-a2f7-4323-aa88-937e6aab0175\">\n",
              "  <button class=\"colab-df-quickchart\" onclick=\"quickchart('df-6f340186-a2f7-4323-aa88-937e6aab0175')\"\n",
              "            title=\"Suggest charts.\"\n",
              "            style=\"display:none;\">\n",
              "\n",
              "<svg xmlns=\"http://www.w3.org/2000/svg\" height=\"24px\"viewBox=\"0 0 24 24\"\n",
              "     width=\"24px\">\n",
              "    <g>\n",
              "        <path d=\"M19 3H5c-1.1 0-2 .9-2 2v14c0 1.1.9 2 2 2h14c1.1 0 2-.9 2-2V5c0-1.1-.9-2-2-2zM9 17H7v-7h2v7zm4 0h-2V7h2v10zm4 0h-2v-4h2v4z\"/>\n",
              "    </g>\n",
              "</svg>\n",
              "  </button>\n",
              "\n",
              "<style>\n",
              "  .colab-df-quickchart {\n",
              "    background-color: #E8F0FE;\n",
              "    border: none;\n",
              "    border-radius: 50%;\n",
              "    cursor: pointer;\n",
              "    display: none;\n",
              "    fill: #1967D2;\n",
              "    height: 32px;\n",
              "    padding: 0 0 0 0;\n",
              "    width: 32px;\n",
              "  }\n",
              "\n",
              "  .colab-df-quickchart:hover {\n",
              "    background-color: #E2EBFA;\n",
              "    box-shadow: 0px 1px 2px rgba(60, 64, 67, 0.3), 0px 1px 3px 1px rgba(60, 64, 67, 0.15);\n",
              "    fill: #174EA6;\n",
              "  }\n",
              "\n",
              "  [theme=dark] .colab-df-quickchart {\n",
              "    background-color: #3B4455;\n",
              "    fill: #D2E3FC;\n",
              "  }\n",
              "\n",
              "  [theme=dark] .colab-df-quickchart:hover {\n",
              "    background-color: #434B5C;\n",
              "    box-shadow: 0px 1px 3px 1px rgba(0, 0, 0, 0.15);\n",
              "    filter: drop-shadow(0px 1px 2px rgba(0, 0, 0, 0.3));\n",
              "    fill: #FFFFFF;\n",
              "  }\n",
              "</style>\n",
              "\n",
              "  <script>\n",
              "    async function quickchart(key) {\n",
              "      const charts = await google.colab.kernel.invokeFunction(\n",
              "          'suggestCharts', [key], {});\n",
              "    }\n",
              "    (() => {\n",
              "      let quickchartButtonEl =\n",
              "        document.querySelector('#df-6f340186-a2f7-4323-aa88-937e6aab0175 button');\n",
              "      quickchartButtonEl.style.display =\n",
              "        google.colab.kernel.accessAllowed ? 'block' : 'none';\n",
              "    })();\n",
              "  </script>\n",
              "</div>\n",
              "    </div>\n",
              "  </div>\n"
            ]
          },
          "metadata": {},
          "execution_count": 102
        }
      ]
    },
    {
      "cell_type": "markdown",
      "metadata": {
        "id": "cPQ5tSgp-KfI"
      },
      "source": [
        "Here's a nifty trick if you need to look at the pivot table in a different way. \"Stacking\" and \"unstacking\" levels of the `MultiIndex` can be used to reshape the dataframe into a desired format.\n",
        "\n",
        "`stack()` rotates the lowest level of the column `MultiIndex` to the row index, while `unstack()` works in the opposite direction (try it out)."
      ]
    },
    {
      "cell_type": "code",
      "metadata": {
        "id": "OmP_QAlDaXVC"
      },
      "source": [
        "?wage_pt.stack()"
      ],
      "execution_count": null,
      "outputs": []
    },
    {
      "cell_type": "code",
      "metadata": {
        "id": "HQKaRzoL-KfJ",
        "colab": {
          "base_uri": "https://localhost:8080/",
          "height": 457
        },
        "outputId": "d68d7a81-c89c-406c-e48d-127edf23e646"
      },
      "source": [
        "wage_pt.stack().head()"
      ],
      "execution_count": null,
      "outputs": [
        {
          "output_type": "execute_result",
          "data": {
            "text/plain": [
              "Country                                              Australia  \\\n",
              "Series                In 2015 constant prices at 2015 USD PPPs   \n",
              "Time       Pay period                                            \n",
              "2006-01-01 Annual                                  20410.65200   \n",
              "           Hourly                                     10.33073   \n",
              "2007-01-01 Annual                                  21087.56800   \n",
              "           Hourly                                     10.67106   \n",
              "2008-01-01 Annual                                  20718.23800   \n",
              "\n",
              "Country                                                                   \\\n",
              "Series                In 2015 constant prices at 2015 USD exchange rates   \n",
              "Time       Pay period                                                      \n",
              "2006-01-01 Annual                                              23826.637   \n",
              "           Hourly                                                 12.060   \n",
              "2007-01-01 Annual                                              24616.844   \n",
              "           Hourly                                                 12.457   \n",
              "2008-01-01 Annual                                              24185.703   \n",
              "\n",
              "Country                                                Belgium  \\\n",
              "Series                In 2015 constant prices at 2015 USD PPPs   \n",
              "Time       Pay period                                            \n",
              "2006-01-01 Annual                                  21042.27900   \n",
              "           Hourly                                     10.08859   \n",
              "2007-01-01 Annual                                  21310.05300   \n",
              "           Hourly                                     10.21730   \n",
              "2008-01-01 Annual                                  21416.95700   \n",
              "\n",
              "Country                                                                   \\\n",
              "Series                In 2015 constant prices at 2015 USD exchange rates   \n",
              "Time       Pay period                                                      \n",
              "2006-01-01 Annual                                              20228.742   \n",
              "           Hourly                                                  9.699   \n",
              "2007-01-01 Annual                                              20486.162   \n",
              "           Hourly                                                  9.822   \n",
              "2008-01-01 Annual                                              20588.934   \n",
              "\n",
              "Country                                                 Brazil  \\\n",
              "Series                In 2015 constant prices at 2015 USD PPPs   \n",
              "Time       Pay period                                            \n",
              "2006-01-01 Annual                                    3310.5120   \n",
              "           Hourly                                       1.4100   \n",
              "2007-01-01 Annual                                    3525.4519   \n",
              "           Hourly                                       1.5000   \n",
              "2008-01-01 Annual                                    3664.3911   \n",
              "\n",
              "Country                                                                   \\\n",
              "Series                In 2015 constant prices at 2015 USD exchange rates   \n",
              "Time       Pay period                                                      \n",
              "2006-01-01 Annual                                              2032.8730   \n",
              "           Hourly                                                 0.8700   \n",
              "2007-01-01 Annual                                              2164.8611   \n",
              "           Hourly                                                 0.9200   \n",
              "2008-01-01 Annual                                              2250.1780   \n",
              "\n",
              "Country                                                 Canada  \\\n",
              "Series                In 2015 constant prices at 2015 USD PPPs   \n",
              "Time       Pay period                                            \n",
              "2006-01-01 Annual                                  13649.68900   \n",
              "           Hourly                                      6.56235   \n",
              "2007-01-01 Annual                                  13785.93500   \n",
              "           Hourly                                      6.62785   \n",
              "2008-01-01 Annual                                  14342.76200   \n",
              "\n",
              "Country                                                                   \\\n",
              "Series                In 2015 constant prices at 2015 USD exchange rates   \n",
              "Time       Pay period                                                      \n",
              "2006-01-01 Annual                                              14335.120   \n",
              "           Hourly                                                  6.892   \n",
              "2007-01-01 Annual                                              14478.207   \n",
              "           Hourly                                                  6.961   \n",
              "2008-01-01 Annual                                              15062.996   \n",
              "\n",
              "Country                                                  Chile  \\\n",
              "Series                In 2015 constant prices at 2015 USD PPPs   \n",
              "Time       Pay period                                            \n",
              "2006-01-01 Annual                                    5201.6479   \n",
              "           Hourly                                       2.2200   \n",
              "2007-01-01 Annual                                    5295.2070   \n",
              "           Hourly                                       2.2600   \n",
              "2008-01-01 Annual                                    5289.6489   \n",
              "\n",
              "Country                                                                   ...  \\\n",
              "Series                In 2015 constant prices at 2015 USD exchange rates  ...   \n",
              "Time       Pay period                                                     ...   \n",
              "2006-01-01 Annual                                              3333.7639  ...   \n",
              "           Hourly                                                 1.4200  ...   \n",
              "2007-01-01 Annual                                              3393.7271  ...   \n",
              "           Hourly                                                 1.4500  ...   \n",
              "2008-01-01 Annual                                              3390.1641  ...   \n",
              "\n",
              "Country                                               Slovenia  \\\n",
              "Series                In 2015 constant prices at 2015 USD PPPs   \n",
              "Time       Pay period                                            \n",
              "2006-01-01 Annual                                  11273.04900   \n",
              "           Hourly                                      5.40484   \n",
              "2007-01-01 Annual                                  11147.78400   \n",
              "           Hourly                                      5.34483   \n",
              "2008-01-01 Annual                                  11400.25200   \n",
              "\n",
              "Country                                                                   \\\n",
              "Series                In 2015 constant prices at 2015 USD exchange rates   \n",
              "Time       Pay period                                                      \n",
              "2006-01-01 Annual                                              8177.2139   \n",
              "           Hourly                                                 3.9210   \n",
              "2007-01-01 Annual                                              8086.3501   \n",
              "           Hourly                                                 3.8770   \n",
              "2008-01-01 Annual                                              8269.4844   \n",
              "\n",
              "Country                                                  Spain  \\\n",
              "Series                In 2015 constant prices at 2015 USD PPPs   \n",
              "Time       Pay period                                            \n",
              "2006-01-01 Annual                                  11740.05900   \n",
              "           Hourly                                      4.82443   \n",
              "2007-01-01 Annual                                  12047.64200   \n",
              "           Hourly                                      4.95133   \n",
              "2008-01-01 Annual                                  12172.90200   \n",
              "\n",
              "Country                                                                   \\\n",
              "Series                In 2015 constant prices at 2015 USD exchange rates   \n",
              "Time       Pay period                                                      \n",
              "2006-01-01 Annual                                              9714.1846   \n",
              "           Hourly                                                 3.9920   \n",
              "2007-01-01 Annual                                              9968.6914   \n",
              "           Hourly                                                 4.0970   \n",
              "2008-01-01 Annual                                             10072.3370   \n",
              "\n",
              "Country                                                 Turkey  \\\n",
              "Series                In 2015 constant prices at 2015 USD PPPs   \n",
              "Time       Pay period                                            \n",
              "2006-01-01 Annual                                    8491.3682   \n",
              "           Hourly                                       4.0712   \n",
              "2007-01-01 Annual                                    8436.2979   \n",
              "           Hourly                                       4.0448   \n",
              "2008-01-01 Annual                                    8301.5244   \n",
              "\n",
              "Country                                                                   \\\n",
              "Series                In 2015 constant prices at 2015 USD exchange rates   \n",
              "Time       Pay period                                                      \n",
              "2006-01-01 Annual                                               4741.165   \n",
              "           Hourly                                                  2.273   \n",
              "2007-01-01 Annual                                               4710.416   \n",
              "           Hourly                                                  2.258   \n",
              "2008-01-01 Annual                                               4635.165   \n",
              "\n",
              "Country                                         United Kingdom  \\\n",
              "Series                In 2015 constant prices at 2015 USD PPPs   \n",
              "Time       Pay period                                            \n",
              "2006-01-01 Annual                                  16764.96900   \n",
              "           Hourly                                      8.06794   \n",
              "2007-01-01 Annual                                  17240.37100   \n",
              "           Hourly                                      8.28509   \n",
              "2008-01-01 Annual                                  17198.19100   \n",
              "\n",
              "Country                                                                   \\\n",
              "Series                In 2015 constant prices at 2015 USD exchange rates   \n",
              "Time       Pay period                                                      \n",
              "2006-01-01 Annual                                              20376.320   \n",
              "           Hourly                                                  9.806   \n",
              "2007-01-01 Annual                                              20954.133   \n",
              "           Hourly                                                 10.070   \n",
              "2008-01-01 Annual                                              20902.865   \n",
              "\n",
              "Country                                          United States  \\\n",
              "Series                In 2015 constant prices at 2015 USD PPPs   \n",
              "Time       Pay period                                            \n",
              "2006-01-01 Annual                                  12594.39700   \n",
              "           Hourly                                      6.05500   \n",
              "2007-01-01 Annual                                  12974.39500   \n",
              "           Hourly                                      6.24143   \n",
              "2008-01-01 Annual                                  14097.55600   \n",
              "\n",
              "Country                                                                   \n",
              "Series                In 2015 constant prices at 2015 USD exchange rates  \n",
              "Time       Pay period                                                     \n",
              "2006-01-01 Annual                                              12594.397  \n",
              "           Hourly                                                  6.055  \n",
              "2007-01-01 Annual                                              12974.395  \n",
              "           Hourly                                                  6.241  \n",
              "2008-01-01 Annual                                              14097.556  \n",
              "\n",
              "[5 rows x 64 columns]"
            ],
            "text/html": [
              "\n",
              "  <div id=\"df-088dae9d-6c2f-4fdd-9cb1-f537ab63672e\" class=\"colab-df-container\">\n",
              "    <div>\n",
              "<style scoped>\n",
              "    .dataframe tbody tr th:only-of-type {\n",
              "        vertical-align: middle;\n",
              "    }\n",
              "\n",
              "    .dataframe tbody tr th {\n",
              "        vertical-align: top;\n",
              "    }\n",
              "\n",
              "    .dataframe thead tr th {\n",
              "        text-align: left;\n",
              "    }\n",
              "\n",
              "    .dataframe thead tr:last-of-type th {\n",
              "        text-align: right;\n",
              "    }\n",
              "</style>\n",
              "<table border=\"1\" class=\"dataframe\">\n",
              "  <thead>\n",
              "    <tr>\n",
              "      <th></th>\n",
              "      <th>Country</th>\n",
              "      <th colspan=\"2\" halign=\"left\">Australia</th>\n",
              "      <th colspan=\"2\" halign=\"left\">Belgium</th>\n",
              "      <th colspan=\"2\" halign=\"left\">Brazil</th>\n",
              "      <th colspan=\"2\" halign=\"left\">Canada</th>\n",
              "      <th colspan=\"2\" halign=\"left\">Chile</th>\n",
              "      <th>...</th>\n",
              "      <th colspan=\"2\" halign=\"left\">Slovenia</th>\n",
              "      <th colspan=\"2\" halign=\"left\">Spain</th>\n",
              "      <th colspan=\"2\" halign=\"left\">Turkey</th>\n",
              "      <th colspan=\"2\" halign=\"left\">United Kingdom</th>\n",
              "      <th colspan=\"2\" halign=\"left\">United States</th>\n",
              "    </tr>\n",
              "    <tr>\n",
              "      <th></th>\n",
              "      <th>Series</th>\n",
              "      <th>In 2015 constant prices at 2015 USD PPPs</th>\n",
              "      <th>In 2015 constant prices at 2015 USD exchange rates</th>\n",
              "      <th>In 2015 constant prices at 2015 USD PPPs</th>\n",
              "      <th>In 2015 constant prices at 2015 USD exchange rates</th>\n",
              "      <th>In 2015 constant prices at 2015 USD PPPs</th>\n",
              "      <th>In 2015 constant prices at 2015 USD exchange rates</th>\n",
              "      <th>In 2015 constant prices at 2015 USD PPPs</th>\n",
              "      <th>In 2015 constant prices at 2015 USD exchange rates</th>\n",
              "      <th>In 2015 constant prices at 2015 USD PPPs</th>\n",
              "      <th>In 2015 constant prices at 2015 USD exchange rates</th>\n",
              "      <th>...</th>\n",
              "      <th>In 2015 constant prices at 2015 USD PPPs</th>\n",
              "      <th>In 2015 constant prices at 2015 USD exchange rates</th>\n",
              "      <th>In 2015 constant prices at 2015 USD PPPs</th>\n",
              "      <th>In 2015 constant prices at 2015 USD exchange rates</th>\n",
              "      <th>In 2015 constant prices at 2015 USD PPPs</th>\n",
              "      <th>In 2015 constant prices at 2015 USD exchange rates</th>\n",
              "      <th>In 2015 constant prices at 2015 USD PPPs</th>\n",
              "      <th>In 2015 constant prices at 2015 USD exchange rates</th>\n",
              "      <th>In 2015 constant prices at 2015 USD PPPs</th>\n",
              "      <th>In 2015 constant prices at 2015 USD exchange rates</th>\n",
              "    </tr>\n",
              "    <tr>\n",
              "      <th>Time</th>\n",
              "      <th>Pay period</th>\n",
              "      <th></th>\n",
              "      <th></th>\n",
              "      <th></th>\n",
              "      <th></th>\n",
              "      <th></th>\n",
              "      <th></th>\n",
              "      <th></th>\n",
              "      <th></th>\n",
              "      <th></th>\n",
              "      <th></th>\n",
              "      <th></th>\n",
              "      <th></th>\n",
              "      <th></th>\n",
              "      <th></th>\n",
              "      <th></th>\n",
              "      <th></th>\n",
              "      <th></th>\n",
              "      <th></th>\n",
              "      <th></th>\n",
              "      <th></th>\n",
              "      <th></th>\n",
              "    </tr>\n",
              "  </thead>\n",
              "  <tbody>\n",
              "    <tr>\n",
              "      <th rowspan=\"2\" valign=\"top\">2006-01-01</th>\n",
              "      <th>Annual</th>\n",
              "      <td>20410.65200</td>\n",
              "      <td>23826.637</td>\n",
              "      <td>21042.27900</td>\n",
              "      <td>20228.742</td>\n",
              "      <td>3310.5120</td>\n",
              "      <td>2032.8730</td>\n",
              "      <td>13649.68900</td>\n",
              "      <td>14335.120</td>\n",
              "      <td>5201.6479</td>\n",
              "      <td>3333.7639</td>\n",
              "      <td>...</td>\n",
              "      <td>11273.04900</td>\n",
              "      <td>8177.2139</td>\n",
              "      <td>11740.05900</td>\n",
              "      <td>9714.1846</td>\n",
              "      <td>8491.3682</td>\n",
              "      <td>4741.165</td>\n",
              "      <td>16764.96900</td>\n",
              "      <td>20376.320</td>\n",
              "      <td>12594.39700</td>\n",
              "      <td>12594.397</td>\n",
              "    </tr>\n",
              "    <tr>\n",
              "      <th>Hourly</th>\n",
              "      <td>10.33073</td>\n",
              "      <td>12.060</td>\n",
              "      <td>10.08859</td>\n",
              "      <td>9.699</td>\n",
              "      <td>1.4100</td>\n",
              "      <td>0.8700</td>\n",
              "      <td>6.56235</td>\n",
              "      <td>6.892</td>\n",
              "      <td>2.2200</td>\n",
              "      <td>1.4200</td>\n",
              "      <td>...</td>\n",
              "      <td>5.40484</td>\n",
              "      <td>3.9210</td>\n",
              "      <td>4.82443</td>\n",
              "      <td>3.9920</td>\n",
              "      <td>4.0712</td>\n",
              "      <td>2.273</td>\n",
              "      <td>8.06794</td>\n",
              "      <td>9.806</td>\n",
              "      <td>6.05500</td>\n",
              "      <td>6.055</td>\n",
              "    </tr>\n",
              "    <tr>\n",
              "      <th rowspan=\"2\" valign=\"top\">2007-01-01</th>\n",
              "      <th>Annual</th>\n",
              "      <td>21087.56800</td>\n",
              "      <td>24616.844</td>\n",
              "      <td>21310.05300</td>\n",
              "      <td>20486.162</td>\n",
              "      <td>3525.4519</td>\n",
              "      <td>2164.8611</td>\n",
              "      <td>13785.93500</td>\n",
              "      <td>14478.207</td>\n",
              "      <td>5295.2070</td>\n",
              "      <td>3393.7271</td>\n",
              "      <td>...</td>\n",
              "      <td>11147.78400</td>\n",
              "      <td>8086.3501</td>\n",
              "      <td>12047.64200</td>\n",
              "      <td>9968.6914</td>\n",
              "      <td>8436.2979</td>\n",
              "      <td>4710.416</td>\n",
              "      <td>17240.37100</td>\n",
              "      <td>20954.133</td>\n",
              "      <td>12974.39500</td>\n",
              "      <td>12974.395</td>\n",
              "    </tr>\n",
              "    <tr>\n",
              "      <th>Hourly</th>\n",
              "      <td>10.67106</td>\n",
              "      <td>12.457</td>\n",
              "      <td>10.21730</td>\n",
              "      <td>9.822</td>\n",
              "      <td>1.5000</td>\n",
              "      <td>0.9200</td>\n",
              "      <td>6.62785</td>\n",
              "      <td>6.961</td>\n",
              "      <td>2.2600</td>\n",
              "      <td>1.4500</td>\n",
              "      <td>...</td>\n",
              "      <td>5.34483</td>\n",
              "      <td>3.8770</td>\n",
              "      <td>4.95133</td>\n",
              "      <td>4.0970</td>\n",
              "      <td>4.0448</td>\n",
              "      <td>2.258</td>\n",
              "      <td>8.28509</td>\n",
              "      <td>10.070</td>\n",
              "      <td>6.24143</td>\n",
              "      <td>6.241</td>\n",
              "    </tr>\n",
              "    <tr>\n",
              "      <th>2008-01-01</th>\n",
              "      <th>Annual</th>\n",
              "      <td>20718.23800</td>\n",
              "      <td>24185.703</td>\n",
              "      <td>21416.95700</td>\n",
              "      <td>20588.934</td>\n",
              "      <td>3664.3911</td>\n",
              "      <td>2250.1780</td>\n",
              "      <td>14342.76200</td>\n",
              "      <td>15062.996</td>\n",
              "      <td>5289.6489</td>\n",
              "      <td>3390.1641</td>\n",
              "      <td>...</td>\n",
              "      <td>11400.25200</td>\n",
              "      <td>8269.4844</td>\n",
              "      <td>12172.90200</td>\n",
              "      <td>10072.3370</td>\n",
              "      <td>8301.5244</td>\n",
              "      <td>4635.165</td>\n",
              "      <td>17198.19100</td>\n",
              "      <td>20902.865</td>\n",
              "      <td>14097.55600</td>\n",
              "      <td>14097.556</td>\n",
              "    </tr>\n",
              "  </tbody>\n",
              "</table>\n",
              "<p>5 rows × 64 columns</p>\n",
              "</div>\n",
              "    <div class=\"colab-df-buttons\">\n",
              "\n",
              "  <div class=\"colab-df-container\">\n",
              "    <button class=\"colab-df-convert\" onclick=\"convertToInteractive('df-088dae9d-6c2f-4fdd-9cb1-f537ab63672e')\"\n",
              "            title=\"Convert this dataframe to an interactive table.\"\n",
              "            style=\"display:none;\">\n",
              "\n",
              "  <svg xmlns=\"http://www.w3.org/2000/svg\" height=\"24px\" viewBox=\"0 -960 960 960\">\n",
              "    <path d=\"M120-120v-720h720v720H120Zm60-500h600v-160H180v160Zm220 220h160v-160H400v160Zm0 220h160v-160H400v160ZM180-400h160v-160H180v160Zm440 0h160v-160H620v160ZM180-180h160v-160H180v160Zm440 0h160v-160H620v160Z\"/>\n",
              "  </svg>\n",
              "    </button>\n",
              "\n",
              "  <style>\n",
              "    .colab-df-container {\n",
              "      display:flex;\n",
              "      gap: 12px;\n",
              "    }\n",
              "\n",
              "    .colab-df-convert {\n",
              "      background-color: #E8F0FE;\n",
              "      border: none;\n",
              "      border-radius: 50%;\n",
              "      cursor: pointer;\n",
              "      display: none;\n",
              "      fill: #1967D2;\n",
              "      height: 32px;\n",
              "      padding: 0 0 0 0;\n",
              "      width: 32px;\n",
              "    }\n",
              "\n",
              "    .colab-df-convert:hover {\n",
              "      background-color: #E2EBFA;\n",
              "      box-shadow: 0px 1px 2px rgba(60, 64, 67, 0.3), 0px 1px 3px 1px rgba(60, 64, 67, 0.15);\n",
              "      fill: #174EA6;\n",
              "    }\n",
              "\n",
              "    .colab-df-buttons div {\n",
              "      margin-bottom: 4px;\n",
              "    }\n",
              "\n",
              "    [theme=dark] .colab-df-convert {\n",
              "      background-color: #3B4455;\n",
              "      fill: #D2E3FC;\n",
              "    }\n",
              "\n",
              "    [theme=dark] .colab-df-convert:hover {\n",
              "      background-color: #434B5C;\n",
              "      box-shadow: 0px 1px 3px 1px rgba(0, 0, 0, 0.15);\n",
              "      filter: drop-shadow(0px 1px 2px rgba(0, 0, 0, 0.3));\n",
              "      fill: #FFFFFF;\n",
              "    }\n",
              "  </style>\n",
              "\n",
              "    <script>\n",
              "      const buttonEl =\n",
              "        document.querySelector('#df-088dae9d-6c2f-4fdd-9cb1-f537ab63672e button.colab-df-convert');\n",
              "      buttonEl.style.display =\n",
              "        google.colab.kernel.accessAllowed ? 'block' : 'none';\n",
              "\n",
              "      async function convertToInteractive(key) {\n",
              "        const element = document.querySelector('#df-088dae9d-6c2f-4fdd-9cb1-f537ab63672e');\n",
              "        const dataTable =\n",
              "          await google.colab.kernel.invokeFunction('convertToInteractive',\n",
              "                                                    [key], {});\n",
              "        if (!dataTable) return;\n",
              "\n",
              "        const docLinkHtml = 'Like what you see? Visit the ' +\n",
              "          '<a target=\"_blank\" href=https://colab.research.google.com/notebooks/data_table.ipynb>data table notebook</a>'\n",
              "          + ' to learn more about interactive tables.';\n",
              "        element.innerHTML = '';\n",
              "        dataTable['output_type'] = 'display_data';\n",
              "        await google.colab.output.renderOutput(dataTable, element);\n",
              "        const docLink = document.createElement('div');\n",
              "        docLink.innerHTML = docLinkHtml;\n",
              "        element.appendChild(docLink);\n",
              "      }\n",
              "    </script>\n",
              "  </div>\n",
              "\n",
              "\n",
              "<div id=\"df-4347a03f-a905-4d41-8680-de4acda78253\">\n",
              "  <button class=\"colab-df-quickchart\" onclick=\"quickchart('df-4347a03f-a905-4d41-8680-de4acda78253')\"\n",
              "            title=\"Suggest charts.\"\n",
              "            style=\"display:none;\">\n",
              "\n",
              "<svg xmlns=\"http://www.w3.org/2000/svg\" height=\"24px\"viewBox=\"0 0 24 24\"\n",
              "     width=\"24px\">\n",
              "    <g>\n",
              "        <path d=\"M19 3H5c-1.1 0-2 .9-2 2v14c0 1.1.9 2 2 2h14c1.1 0 2-.9 2-2V5c0-1.1-.9-2-2-2zM9 17H7v-7h2v7zm4 0h-2V7h2v10zm4 0h-2v-4h2v4z\"/>\n",
              "    </g>\n",
              "</svg>\n",
              "  </button>\n",
              "\n",
              "<style>\n",
              "  .colab-df-quickchart {\n",
              "    background-color: #E8F0FE;\n",
              "    border: none;\n",
              "    border-radius: 50%;\n",
              "    cursor: pointer;\n",
              "    display: none;\n",
              "    fill: #1967D2;\n",
              "    height: 32px;\n",
              "    padding: 0 0 0 0;\n",
              "    width: 32px;\n",
              "  }\n",
              "\n",
              "  .colab-df-quickchart:hover {\n",
              "    background-color: #E2EBFA;\n",
              "    box-shadow: 0px 1px 2px rgba(60, 64, 67, 0.3), 0px 1px 3px 1px rgba(60, 64, 67, 0.15);\n",
              "    fill: #174EA6;\n",
              "  }\n",
              "\n",
              "  [theme=dark] .colab-df-quickchart {\n",
              "    background-color: #3B4455;\n",
              "    fill: #D2E3FC;\n",
              "  }\n",
              "\n",
              "  [theme=dark] .colab-df-quickchart:hover {\n",
              "    background-color: #434B5C;\n",
              "    box-shadow: 0px 1px 3px 1px rgba(0, 0, 0, 0.15);\n",
              "    filter: drop-shadow(0px 1px 2px rgba(0, 0, 0, 0.3));\n",
              "    fill: #FFFFFF;\n",
              "  }\n",
              "</style>\n",
              "\n",
              "  <script>\n",
              "    async function quickchart(key) {\n",
              "      const charts = await google.colab.kernel.invokeFunction(\n",
              "          'suggestCharts', [key], {});\n",
              "    }\n",
              "    (() => {\n",
              "      let quickchartButtonEl =\n",
              "        document.querySelector('#df-4347a03f-a905-4d41-8680-de4acda78253 button');\n",
              "      quickchartButtonEl.style.display =\n",
              "        google.colab.kernel.accessAllowed ? 'block' : 'none';\n",
              "    })();\n",
              "  </script>\n",
              "</div>\n",
              "    </div>\n",
              "  </div>\n"
            ]
          },
          "metadata": {},
          "execution_count": 103
        }
      ]
    },
    {
      "cell_type": "code",
      "metadata": {
        "id": "a9Qi5wur-KfL",
        "colab": {
          "base_uri": "https://localhost:8080/",
          "height": 1000
        },
        "outputId": "752431cc-bcbe-48f5-d0ba-9886efae3c37"
      },
      "source": [
        "wage_pt.stack(level='Country').head(30)"
      ],
      "execution_count": null,
      "outputs": [
        {
          "output_type": "execute_result",
          "data": {
            "text/plain": [
              "Series                        In 2015 constant prices at 2015 USD PPPs  \\\n",
              "Pay period                                                      Annual   \n",
              "Time       Country                                                       \n",
              "2006-01-01 Australia                                        20410.6520   \n",
              "           Belgium                                          21042.2790   \n",
              "           Brazil                                            3310.5120   \n",
              "           Canada                                           13649.6890   \n",
              "           Chile                                             5201.6479   \n",
              "           Colombia                                          6257.7632   \n",
              "           Czech Republic                                    7991.7749   \n",
              "           Estonia                                           5179.6499   \n",
              "           France                                           19295.8260   \n",
              "           Greece                                           13672.2750   \n",
              "           Hungary                                           7211.1138   \n",
              "           Ireland                                          17132.4430   \n",
              "           Israel                                           11428.6940   \n",
              "           Japan                                            13082.1150   \n",
              "           Korea                                            10106.7510   \n",
              "           Latvia                                            3216.4021   \n",
              "           Lithuania                                         5336.2148   \n",
              "           Luxembourg                                       21639.1230   \n",
              "           Mexico                                            1797.1790   \n",
              "           Netherlands                                      21681.6580   \n",
              "           New Zealand                                      15566.1180   \n",
              "           Poland                                            7104.0459   \n",
              "           Portugal                                          9067.2871   \n",
              "           Russian Federation                                1365.3500   \n",
              "           Slovak Republic                                   6210.7881   \n",
              "           Slovenia                                         11273.0490   \n",
              "           Spain                                            11740.0590   \n",
              "           Turkey                                            8491.3682   \n",
              "           United Kingdom                                   16764.9690   \n",
              "           United States                                    12594.3970   \n",
              "\n",
              "Series                                   \\\n",
              "Pay period                       Hourly   \n",
              "Time       Country                        \n",
              "2006-01-01 Australia           10.33073   \n",
              "           Belgium             10.08859   \n",
              "           Brazil               1.41000   \n",
              "           Canada               6.56235   \n",
              "           Chile                2.22000   \n",
              "           Colombia             2.14000   \n",
              "           Czech Republic       3.98087   \n",
              "           Estonia              2.48333   \n",
              "           France              10.60213   \n",
              "           Greece               5.61873   \n",
              "           Hungary              3.47191   \n",
              "           Ireland              8.23675   \n",
              "           Israel               5.12204   \n",
              "           Japan                6.28948   \n",
              "           Korea                3.72668   \n",
              "           Latvia               1.54211   \n",
              "           Lithuania            2.69131   \n",
              "           Luxembourg          10.42540   \n",
              "           Mexico               0.86403   \n",
              "           Netherlands          9.62567   \n",
              "           New Zealand          7.48742   \n",
              "           Poland               3.40605   \n",
              "           Portugal             3.72628   \n",
              "           Russian Federation   0.56110   \n",
              "           Slovak Republic      2.48699   \n",
              "           Slovenia             5.40484   \n",
              "           Spain                4.82443   \n",
              "           Turkey               4.07120   \n",
              "           United Kingdom       8.06794   \n",
              "           United States        6.05500   \n",
              "\n",
              "Series                        In 2015 constant prices at 2015 USD exchange rates  \\\n",
              "Pay period                                                                Annual   \n",
              "Time       Country                                                                 \n",
              "2006-01-01 Australia                                                 23826.63700   \n",
              "           Belgium                                                   20228.74200   \n",
              "           Brazil                                                     2032.87300   \n",
              "           Canada                                                    14335.12000   \n",
              "           Chile                                                      3333.76390   \n",
              "           Colombia                                                   2948.12110   \n",
              "           Czech Republic                                             4565.12990   \n",
              "           Estonia                                                    3443.32910   \n",
              "           France                                                    18416.40000   \n",
              "           Greece                                                    10594.51600   \n",
              "           Hungary                                                    3741.19190   \n",
              "           Ireland                                                   19090.53700   \n",
              "           Israel                                                    12869.03800   \n",
              "           Japan                                                     11836.64000   \n",
              "           Korea                                                      9266.99410   \n",
              "           Latvia                                                     2017.01500   \n",
              "           Lithuania                                                  2960.88500   \n",
              "           Luxembourg                                                23777.28500   \n",
              "           Mexico                                                     1104.84200   \n",
              "           Netherlands                                               21413.90200   \n",
              "           New Zealand                                               17538.79500   \n",
              "           Poland                                                     3516.45090   \n",
              "           Portugal                                                   6778.75100   \n",
              "           Russian Federation                                          568.23199   \n",
              "           Slovak Republic                                            3747.38890   \n",
              "           Slovenia                                                   8177.21390   \n",
              "           Spain                                                      9714.18460   \n",
              "           Turkey                                                     4741.16500   \n",
              "           United Kingdom                                            20376.32000   \n",
              "           United States                                             12594.39700   \n",
              "\n",
              "Series                                 \n",
              "Pay period                     Hourly  \n",
              "Time       Country                     \n",
              "2006-01-01 Australia           12.060  \n",
              "           Belgium              9.699  \n",
              "           Brazil               0.870  \n",
              "           Canada               6.892  \n",
              "           Chile                1.420  \n",
              "           Colombia             1.010  \n",
              "           Czech Republic       2.274  \n",
              "           Estonia              1.651  \n",
              "           France              10.119  \n",
              "           Greece               4.354  \n",
              "           Hungary              1.801  \n",
              "           Ireland              9.178  \n",
              "           Israel               5.768  \n",
              "           Japan                5.691  \n",
              "           Korea                3.417  \n",
              "           Latvia               0.967  \n",
              "           Lithuania            1.493  \n",
              "           Luxembourg          11.456  \n",
              "           Mexico               0.531  \n",
              "           Netherlands          9.507  \n",
              "           New Zealand          8.436  \n",
              "           Poland               1.686  \n",
              "           Portugal             2.786  \n",
              "           Russian Federation   0.234  \n",
              "           Slovak Republic      1.501  \n",
              "           Slovenia             3.921  \n",
              "           Spain                3.992  \n",
              "           Turkey               2.273  \n",
              "           United Kingdom       9.806  \n",
              "           United States        6.055  "
            ],
            "text/html": [
              "\n",
              "  <div id=\"df-1cc8782a-52c5-4758-a12d-492942b61ba0\" class=\"colab-df-container\">\n",
              "    <div>\n",
              "<style scoped>\n",
              "    .dataframe tbody tr th:only-of-type {\n",
              "        vertical-align: middle;\n",
              "    }\n",
              "\n",
              "    .dataframe tbody tr th {\n",
              "        vertical-align: top;\n",
              "    }\n",
              "\n",
              "    .dataframe thead tr th {\n",
              "        text-align: left;\n",
              "    }\n",
              "\n",
              "    .dataframe thead tr:last-of-type th {\n",
              "        text-align: right;\n",
              "    }\n",
              "</style>\n",
              "<table border=\"1\" class=\"dataframe\">\n",
              "  <thead>\n",
              "    <tr>\n",
              "      <th></th>\n",
              "      <th>Series</th>\n",
              "      <th colspan=\"2\" halign=\"left\">In 2015 constant prices at 2015 USD PPPs</th>\n",
              "      <th colspan=\"2\" halign=\"left\">In 2015 constant prices at 2015 USD exchange rates</th>\n",
              "    </tr>\n",
              "    <tr>\n",
              "      <th></th>\n",
              "      <th>Pay period</th>\n",
              "      <th>Annual</th>\n",
              "      <th>Hourly</th>\n",
              "      <th>Annual</th>\n",
              "      <th>Hourly</th>\n",
              "    </tr>\n",
              "    <tr>\n",
              "      <th>Time</th>\n",
              "      <th>Country</th>\n",
              "      <th></th>\n",
              "      <th></th>\n",
              "      <th></th>\n",
              "      <th></th>\n",
              "    </tr>\n",
              "  </thead>\n",
              "  <tbody>\n",
              "    <tr>\n",
              "      <th rowspan=\"30\" valign=\"top\">2006-01-01</th>\n",
              "      <th>Australia</th>\n",
              "      <td>20410.6520</td>\n",
              "      <td>10.33073</td>\n",
              "      <td>23826.63700</td>\n",
              "      <td>12.060</td>\n",
              "    </tr>\n",
              "    <tr>\n",
              "      <th>Belgium</th>\n",
              "      <td>21042.2790</td>\n",
              "      <td>10.08859</td>\n",
              "      <td>20228.74200</td>\n",
              "      <td>9.699</td>\n",
              "    </tr>\n",
              "    <tr>\n",
              "      <th>Brazil</th>\n",
              "      <td>3310.5120</td>\n",
              "      <td>1.41000</td>\n",
              "      <td>2032.87300</td>\n",
              "      <td>0.870</td>\n",
              "    </tr>\n",
              "    <tr>\n",
              "      <th>Canada</th>\n",
              "      <td>13649.6890</td>\n",
              "      <td>6.56235</td>\n",
              "      <td>14335.12000</td>\n",
              "      <td>6.892</td>\n",
              "    </tr>\n",
              "    <tr>\n",
              "      <th>Chile</th>\n",
              "      <td>5201.6479</td>\n",
              "      <td>2.22000</td>\n",
              "      <td>3333.76390</td>\n",
              "      <td>1.420</td>\n",
              "    </tr>\n",
              "    <tr>\n",
              "      <th>Colombia</th>\n",
              "      <td>6257.7632</td>\n",
              "      <td>2.14000</td>\n",
              "      <td>2948.12110</td>\n",
              "      <td>1.010</td>\n",
              "    </tr>\n",
              "    <tr>\n",
              "      <th>Czech Republic</th>\n",
              "      <td>7991.7749</td>\n",
              "      <td>3.98087</td>\n",
              "      <td>4565.12990</td>\n",
              "      <td>2.274</td>\n",
              "    </tr>\n",
              "    <tr>\n",
              "      <th>Estonia</th>\n",
              "      <td>5179.6499</td>\n",
              "      <td>2.48333</td>\n",
              "      <td>3443.32910</td>\n",
              "      <td>1.651</td>\n",
              "    </tr>\n",
              "    <tr>\n",
              "      <th>France</th>\n",
              "      <td>19295.8260</td>\n",
              "      <td>10.60213</td>\n",
              "      <td>18416.40000</td>\n",
              "      <td>10.119</td>\n",
              "    </tr>\n",
              "    <tr>\n",
              "      <th>Greece</th>\n",
              "      <td>13672.2750</td>\n",
              "      <td>5.61873</td>\n",
              "      <td>10594.51600</td>\n",
              "      <td>4.354</td>\n",
              "    </tr>\n",
              "    <tr>\n",
              "      <th>Hungary</th>\n",
              "      <td>7211.1138</td>\n",
              "      <td>3.47191</td>\n",
              "      <td>3741.19190</td>\n",
              "      <td>1.801</td>\n",
              "    </tr>\n",
              "    <tr>\n",
              "      <th>Ireland</th>\n",
              "      <td>17132.4430</td>\n",
              "      <td>8.23675</td>\n",
              "      <td>19090.53700</td>\n",
              "      <td>9.178</td>\n",
              "    </tr>\n",
              "    <tr>\n",
              "      <th>Israel</th>\n",
              "      <td>11428.6940</td>\n",
              "      <td>5.12204</td>\n",
              "      <td>12869.03800</td>\n",
              "      <td>5.768</td>\n",
              "    </tr>\n",
              "    <tr>\n",
              "      <th>Japan</th>\n",
              "      <td>13082.1150</td>\n",
              "      <td>6.28948</td>\n",
              "      <td>11836.64000</td>\n",
              "      <td>5.691</td>\n",
              "    </tr>\n",
              "    <tr>\n",
              "      <th>Korea</th>\n",
              "      <td>10106.7510</td>\n",
              "      <td>3.72668</td>\n",
              "      <td>9266.99410</td>\n",
              "      <td>3.417</td>\n",
              "    </tr>\n",
              "    <tr>\n",
              "      <th>Latvia</th>\n",
              "      <td>3216.4021</td>\n",
              "      <td>1.54211</td>\n",
              "      <td>2017.01500</td>\n",
              "      <td>0.967</td>\n",
              "    </tr>\n",
              "    <tr>\n",
              "      <th>Lithuania</th>\n",
              "      <td>5336.2148</td>\n",
              "      <td>2.69131</td>\n",
              "      <td>2960.88500</td>\n",
              "      <td>1.493</td>\n",
              "    </tr>\n",
              "    <tr>\n",
              "      <th>Luxembourg</th>\n",
              "      <td>21639.1230</td>\n",
              "      <td>10.42540</td>\n",
              "      <td>23777.28500</td>\n",
              "      <td>11.456</td>\n",
              "    </tr>\n",
              "    <tr>\n",
              "      <th>Mexico</th>\n",
              "      <td>1797.1790</td>\n",
              "      <td>0.86403</td>\n",
              "      <td>1104.84200</td>\n",
              "      <td>0.531</td>\n",
              "    </tr>\n",
              "    <tr>\n",
              "      <th>Netherlands</th>\n",
              "      <td>21681.6580</td>\n",
              "      <td>9.62567</td>\n",
              "      <td>21413.90200</td>\n",
              "      <td>9.507</td>\n",
              "    </tr>\n",
              "    <tr>\n",
              "      <th>New Zealand</th>\n",
              "      <td>15566.1180</td>\n",
              "      <td>7.48742</td>\n",
              "      <td>17538.79500</td>\n",
              "      <td>8.436</td>\n",
              "    </tr>\n",
              "    <tr>\n",
              "      <th>Poland</th>\n",
              "      <td>7104.0459</td>\n",
              "      <td>3.40605</td>\n",
              "      <td>3516.45090</td>\n",
              "      <td>1.686</td>\n",
              "    </tr>\n",
              "    <tr>\n",
              "      <th>Portugal</th>\n",
              "      <td>9067.2871</td>\n",
              "      <td>3.72628</td>\n",
              "      <td>6778.75100</td>\n",
              "      <td>2.786</td>\n",
              "    </tr>\n",
              "    <tr>\n",
              "      <th>Russian Federation</th>\n",
              "      <td>1365.3500</td>\n",
              "      <td>0.56110</td>\n",
              "      <td>568.23199</td>\n",
              "      <td>0.234</td>\n",
              "    </tr>\n",
              "    <tr>\n",
              "      <th>Slovak Republic</th>\n",
              "      <td>6210.7881</td>\n",
              "      <td>2.48699</td>\n",
              "      <td>3747.38890</td>\n",
              "      <td>1.501</td>\n",
              "    </tr>\n",
              "    <tr>\n",
              "      <th>Slovenia</th>\n",
              "      <td>11273.0490</td>\n",
              "      <td>5.40484</td>\n",
              "      <td>8177.21390</td>\n",
              "      <td>3.921</td>\n",
              "    </tr>\n",
              "    <tr>\n",
              "      <th>Spain</th>\n",
              "      <td>11740.0590</td>\n",
              "      <td>4.82443</td>\n",
              "      <td>9714.18460</td>\n",
              "      <td>3.992</td>\n",
              "    </tr>\n",
              "    <tr>\n",
              "      <th>Turkey</th>\n",
              "      <td>8491.3682</td>\n",
              "      <td>4.07120</td>\n",
              "      <td>4741.16500</td>\n",
              "      <td>2.273</td>\n",
              "    </tr>\n",
              "    <tr>\n",
              "      <th>United Kingdom</th>\n",
              "      <td>16764.9690</td>\n",
              "      <td>8.06794</td>\n",
              "      <td>20376.32000</td>\n",
              "      <td>9.806</td>\n",
              "    </tr>\n",
              "    <tr>\n",
              "      <th>United States</th>\n",
              "      <td>12594.3970</td>\n",
              "      <td>6.05500</td>\n",
              "      <td>12594.39700</td>\n",
              "      <td>6.055</td>\n",
              "    </tr>\n",
              "  </tbody>\n",
              "</table>\n",
              "</div>\n",
              "    <div class=\"colab-df-buttons\">\n",
              "\n",
              "  <div class=\"colab-df-container\">\n",
              "    <button class=\"colab-df-convert\" onclick=\"convertToInteractive('df-1cc8782a-52c5-4758-a12d-492942b61ba0')\"\n",
              "            title=\"Convert this dataframe to an interactive table.\"\n",
              "            style=\"display:none;\">\n",
              "\n",
              "  <svg xmlns=\"http://www.w3.org/2000/svg\" height=\"24px\" viewBox=\"0 -960 960 960\">\n",
              "    <path d=\"M120-120v-720h720v720H120Zm60-500h600v-160H180v160Zm220 220h160v-160H400v160Zm0 220h160v-160H400v160ZM180-400h160v-160H180v160Zm440 0h160v-160H620v160ZM180-180h160v-160H180v160Zm440 0h160v-160H620v160Z\"/>\n",
              "  </svg>\n",
              "    </button>\n",
              "\n",
              "  <style>\n",
              "    .colab-df-container {\n",
              "      display:flex;\n",
              "      gap: 12px;\n",
              "    }\n",
              "\n",
              "    .colab-df-convert {\n",
              "      background-color: #E8F0FE;\n",
              "      border: none;\n",
              "      border-radius: 50%;\n",
              "      cursor: pointer;\n",
              "      display: none;\n",
              "      fill: #1967D2;\n",
              "      height: 32px;\n",
              "      padding: 0 0 0 0;\n",
              "      width: 32px;\n",
              "    }\n",
              "\n",
              "    .colab-df-convert:hover {\n",
              "      background-color: #E2EBFA;\n",
              "      box-shadow: 0px 1px 2px rgba(60, 64, 67, 0.3), 0px 1px 3px 1px rgba(60, 64, 67, 0.15);\n",
              "      fill: #174EA6;\n",
              "    }\n",
              "\n",
              "    .colab-df-buttons div {\n",
              "      margin-bottom: 4px;\n",
              "    }\n",
              "\n",
              "    [theme=dark] .colab-df-convert {\n",
              "      background-color: #3B4455;\n",
              "      fill: #D2E3FC;\n",
              "    }\n",
              "\n",
              "    [theme=dark] .colab-df-convert:hover {\n",
              "      background-color: #434B5C;\n",
              "      box-shadow: 0px 1px 3px 1px rgba(0, 0, 0, 0.15);\n",
              "      filter: drop-shadow(0px 1px 2px rgba(0, 0, 0, 0.3));\n",
              "      fill: #FFFFFF;\n",
              "    }\n",
              "  </style>\n",
              "\n",
              "    <script>\n",
              "      const buttonEl =\n",
              "        document.querySelector('#df-1cc8782a-52c5-4758-a12d-492942b61ba0 button.colab-df-convert');\n",
              "      buttonEl.style.display =\n",
              "        google.colab.kernel.accessAllowed ? 'block' : 'none';\n",
              "\n",
              "      async function convertToInteractive(key) {\n",
              "        const element = document.querySelector('#df-1cc8782a-52c5-4758-a12d-492942b61ba0');\n",
              "        const dataTable =\n",
              "          await google.colab.kernel.invokeFunction('convertToInteractive',\n",
              "                                                    [key], {});\n",
              "        if (!dataTable) return;\n",
              "\n",
              "        const docLinkHtml = 'Like what you see? Visit the ' +\n",
              "          '<a target=\"_blank\" href=https://colab.research.google.com/notebooks/data_table.ipynb>data table notebook</a>'\n",
              "          + ' to learn more about interactive tables.';\n",
              "        element.innerHTML = '';\n",
              "        dataTable['output_type'] = 'display_data';\n",
              "        await google.colab.output.renderOutput(dataTable, element);\n",
              "        const docLink = document.createElement('div');\n",
              "        docLink.innerHTML = docLinkHtml;\n",
              "        element.appendChild(docLink);\n",
              "      }\n",
              "    </script>\n",
              "  </div>\n",
              "\n",
              "\n",
              "<div id=\"df-2be20ddd-54eb-4939-b8fe-263a5bb14cb3\">\n",
              "  <button class=\"colab-df-quickchart\" onclick=\"quickchart('df-2be20ddd-54eb-4939-b8fe-263a5bb14cb3')\"\n",
              "            title=\"Suggest charts.\"\n",
              "            style=\"display:none;\">\n",
              "\n",
              "<svg xmlns=\"http://www.w3.org/2000/svg\" height=\"24px\"viewBox=\"0 0 24 24\"\n",
              "     width=\"24px\">\n",
              "    <g>\n",
              "        <path d=\"M19 3H5c-1.1 0-2 .9-2 2v14c0 1.1.9 2 2 2h14c1.1 0 2-.9 2-2V5c0-1.1-.9-2-2-2zM9 17H7v-7h2v7zm4 0h-2V7h2v10zm4 0h-2v-4h2v4z\"/>\n",
              "    </g>\n",
              "</svg>\n",
              "  </button>\n",
              "\n",
              "<style>\n",
              "  .colab-df-quickchart {\n",
              "    background-color: #E8F0FE;\n",
              "    border: none;\n",
              "    border-radius: 50%;\n",
              "    cursor: pointer;\n",
              "    display: none;\n",
              "    fill: #1967D2;\n",
              "    height: 32px;\n",
              "    padding: 0 0 0 0;\n",
              "    width: 32px;\n",
              "  }\n",
              "\n",
              "  .colab-df-quickchart:hover {\n",
              "    background-color: #E2EBFA;\n",
              "    box-shadow: 0px 1px 2px rgba(60, 64, 67, 0.3), 0px 1px 3px 1px rgba(60, 64, 67, 0.15);\n",
              "    fill: #174EA6;\n",
              "  }\n",
              "\n",
              "  [theme=dark] .colab-df-quickchart {\n",
              "    background-color: #3B4455;\n",
              "    fill: #D2E3FC;\n",
              "  }\n",
              "\n",
              "  [theme=dark] .colab-df-quickchart:hover {\n",
              "    background-color: #434B5C;\n",
              "    box-shadow: 0px 1px 3px 1px rgba(0, 0, 0, 0.15);\n",
              "    filter: drop-shadow(0px 1px 2px rgba(0, 0, 0, 0.3));\n",
              "    fill: #FFFFFF;\n",
              "  }\n",
              "</style>\n",
              "\n",
              "  <script>\n",
              "    async function quickchart(key) {\n",
              "      const charts = await google.colab.kernel.invokeFunction(\n",
              "          'suggestCharts', [key], {});\n",
              "    }\n",
              "    (() => {\n",
              "      let quickchartButtonEl =\n",
              "        document.querySelector('#df-2be20ddd-54eb-4939-b8fe-263a5bb14cb3 button');\n",
              "      quickchartButtonEl.style.display =\n",
              "        google.colab.kernel.accessAllowed ? 'block' : 'none';\n",
              "    })();\n",
              "  </script>\n",
              "</div>\n",
              "    </div>\n",
              "  </div>\n"
            ]
          },
          "metadata": {},
          "execution_count": 104
        },
        {
          "output_type": "stream",
          "name": "stdout",
          "text": [
            "Error: Runtime no longer has a reference to this dataframe, please re-run this cell and try again.\n",
            "Error: Runtime no longer has a reference to this dataframe, please re-run this cell and try again.\n",
            "Error: Runtime no longer has a reference to this dataframe, please re-run this cell and try again.\n",
            "Error: Runtime no longer has a reference to this dataframe, please re-run this cell and try again.\n",
            "Error: Runtime no longer has a reference to this dataframe, please re-run this cell and try again.\n"
          ]
        }
      ]
    },
    {
      "cell_type": "markdown",
      "metadata": {
        "id": "xzC7wqkI-KfN"
      },
      "source": [
        "Using `DatetimeIndex` for 'Time' makes it easy to select a particular time period.\n",
        "\n",
        "Selecting one year and stacking the two lower levels of the `MultiIndex` creates a cross-section of our panel data."
      ]
    },
    {
      "cell_type": "code",
      "metadata": {
        "id": "6JXBq33d-KfO",
        "colab": {
          "base_uri": "https://localhost:8080/",
          "height": 355
        },
        "outputId": "dcd89874-a9a1-41e6-abde-3127003b01d2"
      },
      "source": [
        "wage_pt['2016'].stack(level=(1,2)).transpose().head()"
      ],
      "execution_count": null,
      "outputs": [
        {
          "output_type": "stream",
          "name": "stderr",
          "text": [
            "<ipython-input-105-12d21662938f>:1: FutureWarning: Indexing a DataFrame with a datetimelike index using a single string to slice the rows, like `frame[string]`, is deprecated and will be removed in a future version. Use `frame.loc[string]` instead.\n",
            "  wage_pt['2016'].stack(level=(1,2)).transpose().head()\n"
          ]
        },
        {
          "output_type": "execute_result",
          "data": {
            "text/plain": [
              "Time                                     2016-01-01            \\\n",
              "Series     In 2015 constant prices at 2015 USD PPPs             \n",
              "Pay period                                   Annual    Hourly   \n",
              "Country                                                         \n",
              "Australia                                21967.2300  11.12024   \n",
              "Belgium                                  21170.2480  10.15025   \n",
              "Brazil                                    4753.5991   2.00000   \n",
              "Canada                                   16792.3850   8.07326   \n",
              "Chile                                     6998.2891   3.00000   \n",
              "\n",
              "Time                                                                   \n",
              "Series     In 2015 constant prices at 2015 USD exchange rates          \n",
              "Pay period                                             Annual  Hourly  \n",
              "Country                                                                \n",
              "Australia                                          25643.7290  12.981  \n",
              "Belgium                                            20351.7620   9.758  \n",
              "Brazil                                              2919.0239   1.240  \n",
              "Canada                                             17635.6290   8.479  \n",
              "Chile                                               4485.2412   1.910  "
            ],
            "text/html": [
              "\n",
              "  <div id=\"df-0421fe62-a055-4a1b-97b4-1b0d6aaebe57\" class=\"colab-df-container\">\n",
              "    <div>\n",
              "<style scoped>\n",
              "    .dataframe tbody tr th:only-of-type {\n",
              "        vertical-align: middle;\n",
              "    }\n",
              "\n",
              "    .dataframe tbody tr th {\n",
              "        vertical-align: top;\n",
              "    }\n",
              "\n",
              "    .dataframe thead tr th {\n",
              "        text-align: left;\n",
              "    }\n",
              "\n",
              "    .dataframe thead tr:last-of-type th {\n",
              "        text-align: right;\n",
              "    }\n",
              "</style>\n",
              "<table border=\"1\" class=\"dataframe\">\n",
              "  <thead>\n",
              "    <tr>\n",
              "      <th>Time</th>\n",
              "      <th colspan=\"4\" halign=\"left\">2016-01-01</th>\n",
              "    </tr>\n",
              "    <tr>\n",
              "      <th>Series</th>\n",
              "      <th colspan=\"2\" halign=\"left\">In 2015 constant prices at 2015 USD PPPs</th>\n",
              "      <th colspan=\"2\" halign=\"left\">In 2015 constant prices at 2015 USD exchange rates</th>\n",
              "    </tr>\n",
              "    <tr>\n",
              "      <th>Pay period</th>\n",
              "      <th>Annual</th>\n",
              "      <th>Hourly</th>\n",
              "      <th>Annual</th>\n",
              "      <th>Hourly</th>\n",
              "    </tr>\n",
              "    <tr>\n",
              "      <th>Country</th>\n",
              "      <th></th>\n",
              "      <th></th>\n",
              "      <th></th>\n",
              "      <th></th>\n",
              "    </tr>\n",
              "  </thead>\n",
              "  <tbody>\n",
              "    <tr>\n",
              "      <th>Australia</th>\n",
              "      <td>21967.2300</td>\n",
              "      <td>11.12024</td>\n",
              "      <td>25643.7290</td>\n",
              "      <td>12.981</td>\n",
              "    </tr>\n",
              "    <tr>\n",
              "      <th>Belgium</th>\n",
              "      <td>21170.2480</td>\n",
              "      <td>10.15025</td>\n",
              "      <td>20351.7620</td>\n",
              "      <td>9.758</td>\n",
              "    </tr>\n",
              "    <tr>\n",
              "      <th>Brazil</th>\n",
              "      <td>4753.5991</td>\n",
              "      <td>2.00000</td>\n",
              "      <td>2919.0239</td>\n",
              "      <td>1.240</td>\n",
              "    </tr>\n",
              "    <tr>\n",
              "      <th>Canada</th>\n",
              "      <td>16792.3850</td>\n",
              "      <td>8.07326</td>\n",
              "      <td>17635.6290</td>\n",
              "      <td>8.479</td>\n",
              "    </tr>\n",
              "    <tr>\n",
              "      <th>Chile</th>\n",
              "      <td>6998.2891</td>\n",
              "      <td>3.00000</td>\n",
              "      <td>4485.2412</td>\n",
              "      <td>1.910</td>\n",
              "    </tr>\n",
              "  </tbody>\n",
              "</table>\n",
              "</div>\n",
              "    <div class=\"colab-df-buttons\">\n",
              "\n",
              "  <div class=\"colab-df-container\">\n",
              "    <button class=\"colab-df-convert\" onclick=\"convertToInteractive('df-0421fe62-a055-4a1b-97b4-1b0d6aaebe57')\"\n",
              "            title=\"Convert this dataframe to an interactive table.\"\n",
              "            style=\"display:none;\">\n",
              "\n",
              "  <svg xmlns=\"http://www.w3.org/2000/svg\" height=\"24px\" viewBox=\"0 -960 960 960\">\n",
              "    <path d=\"M120-120v-720h720v720H120Zm60-500h600v-160H180v160Zm220 220h160v-160H400v160Zm0 220h160v-160H400v160ZM180-400h160v-160H180v160Zm440 0h160v-160H620v160ZM180-180h160v-160H180v160Zm440 0h160v-160H620v160Z\"/>\n",
              "  </svg>\n",
              "    </button>\n",
              "\n",
              "  <style>\n",
              "    .colab-df-container {\n",
              "      display:flex;\n",
              "      gap: 12px;\n",
              "    }\n",
              "\n",
              "    .colab-df-convert {\n",
              "      background-color: #E8F0FE;\n",
              "      border: none;\n",
              "      border-radius: 50%;\n",
              "      cursor: pointer;\n",
              "      display: none;\n",
              "      fill: #1967D2;\n",
              "      height: 32px;\n",
              "      padding: 0 0 0 0;\n",
              "      width: 32px;\n",
              "    }\n",
              "\n",
              "    .colab-df-convert:hover {\n",
              "      background-color: #E2EBFA;\n",
              "      box-shadow: 0px 1px 2px rgba(60, 64, 67, 0.3), 0px 1px 3px 1px rgba(60, 64, 67, 0.15);\n",
              "      fill: #174EA6;\n",
              "    }\n",
              "\n",
              "    .colab-df-buttons div {\n",
              "      margin-bottom: 4px;\n",
              "    }\n",
              "\n",
              "    [theme=dark] .colab-df-convert {\n",
              "      background-color: #3B4455;\n",
              "      fill: #D2E3FC;\n",
              "    }\n",
              "\n",
              "    [theme=dark] .colab-df-convert:hover {\n",
              "      background-color: #434B5C;\n",
              "      box-shadow: 0px 1px 3px 1px rgba(0, 0, 0, 0.15);\n",
              "      filter: drop-shadow(0px 1px 2px rgba(0, 0, 0, 0.3));\n",
              "      fill: #FFFFFF;\n",
              "    }\n",
              "  </style>\n",
              "\n",
              "    <script>\n",
              "      const buttonEl =\n",
              "        document.querySelector('#df-0421fe62-a055-4a1b-97b4-1b0d6aaebe57 button.colab-df-convert');\n",
              "      buttonEl.style.display =\n",
              "        google.colab.kernel.accessAllowed ? 'block' : 'none';\n",
              "\n",
              "      async function convertToInteractive(key) {\n",
              "        const element = document.querySelector('#df-0421fe62-a055-4a1b-97b4-1b0d6aaebe57');\n",
              "        const dataTable =\n",
              "          await google.colab.kernel.invokeFunction('convertToInteractive',\n",
              "                                                    [key], {});\n",
              "        if (!dataTable) return;\n",
              "\n",
              "        const docLinkHtml = 'Like what you see? Visit the ' +\n",
              "          '<a target=\"_blank\" href=https://colab.research.google.com/notebooks/data_table.ipynb>data table notebook</a>'\n",
              "          + ' to learn more about interactive tables.';\n",
              "        element.innerHTML = '';\n",
              "        dataTable['output_type'] = 'display_data';\n",
              "        await google.colab.output.renderOutput(dataTable, element);\n",
              "        const docLink = document.createElement('div');\n",
              "        docLink.innerHTML = docLinkHtml;\n",
              "        element.appendChild(docLink);\n",
              "      }\n",
              "    </script>\n",
              "  </div>\n",
              "\n",
              "\n",
              "<div id=\"df-b77eb95c-19f4-4256-8676-c3fcbc38a91d\">\n",
              "  <button class=\"colab-df-quickchart\" onclick=\"quickchart('df-b77eb95c-19f4-4256-8676-c3fcbc38a91d')\"\n",
              "            title=\"Suggest charts.\"\n",
              "            style=\"display:none;\">\n",
              "\n",
              "<svg xmlns=\"http://www.w3.org/2000/svg\" height=\"24px\"viewBox=\"0 0 24 24\"\n",
              "     width=\"24px\">\n",
              "    <g>\n",
              "        <path d=\"M19 3H5c-1.1 0-2 .9-2 2v14c0 1.1.9 2 2 2h14c1.1 0 2-.9 2-2V5c0-1.1-.9-2-2-2zM9 17H7v-7h2v7zm4 0h-2V7h2v10zm4 0h-2v-4h2v4z\"/>\n",
              "    </g>\n",
              "</svg>\n",
              "  </button>\n",
              "\n",
              "<style>\n",
              "  .colab-df-quickchart {\n",
              "    background-color: #E8F0FE;\n",
              "    border: none;\n",
              "    border-radius: 50%;\n",
              "    cursor: pointer;\n",
              "    display: none;\n",
              "    fill: #1967D2;\n",
              "    height: 32px;\n",
              "    padding: 0 0 0 0;\n",
              "    width: 32px;\n",
              "  }\n",
              "\n",
              "  .colab-df-quickchart:hover {\n",
              "    background-color: #E2EBFA;\n",
              "    box-shadow: 0px 1px 2px rgba(60, 64, 67, 0.3), 0px 1px 3px 1px rgba(60, 64, 67, 0.15);\n",
              "    fill: #174EA6;\n",
              "  }\n",
              "\n",
              "  [theme=dark] .colab-df-quickchart {\n",
              "    background-color: #3B4455;\n",
              "    fill: #D2E3FC;\n",
              "  }\n",
              "\n",
              "  [theme=dark] .colab-df-quickchart:hover {\n",
              "    background-color: #434B5C;\n",
              "    box-shadow: 0px 1px 3px 1px rgba(0, 0, 0, 0.15);\n",
              "    filter: drop-shadow(0px 1px 2px rgba(0, 0, 0, 0.3));\n",
              "    fill: #FFFFFF;\n",
              "  }\n",
              "</style>\n",
              "\n",
              "  <script>\n",
              "    async function quickchart(key) {\n",
              "      const charts = await google.colab.kernel.invokeFunction(\n",
              "          'suggestCharts', [key], {});\n",
              "    }\n",
              "    (() => {\n",
              "      let quickchartButtonEl =\n",
              "        document.querySelector('#df-b77eb95c-19f4-4256-8676-c3fcbc38a91d button');\n",
              "      quickchartButtonEl.style.display =\n",
              "        google.colab.kernel.accessAllowed ? 'block' : 'none';\n",
              "    })();\n",
              "  </script>\n",
              "</div>\n",
              "    </div>\n",
              "  </div>\n"
            ]
          },
          "metadata": {},
          "execution_count": 105
        }
      ]
    },
    {
      "cell_type": "markdown",
      "metadata": {
        "id": "lwxSOBpU-KfR"
      },
      "source": [
        "To create a filtered dataframe that only takes the hourly minimum wages across countries and time, we can use the `xs()` method to select a cross-section of the data, taking values at lower levels in the multi-index, while keeping the higher levels (countries in this case)"
      ]
    },
    {
      "cell_type": "code",
      "metadata": {
        "scrolled": false,
        "id": "BzZLVBNJ-KfR",
        "colab": {
          "base_uri": "https://localhost:8080/",
          "height": 371
        },
        "outputId": "62ecfc30-d41f-481a-8bb7-a6fe4044a997"
      },
      "source": [
        "wage_f = wage_pt.xs(('Hourly', 'In 2015 constant prices at 2015 USD exchange rates'),\n",
        "                     level=('Pay period', 'Series'),\n",
        "                     axis=1 )\n",
        "wage_f.head()"
      ],
      "execution_count": null,
      "outputs": [
        {
          "output_type": "execute_result",
          "data": {
            "text/plain": [
              "Country     Australia  Belgium  Brazil  Canada  Chile  Colombia  Costa Rica  \\\n",
              "Time                                                                          \n",
              "2006-01-01     12.060    9.699    0.87   6.892   1.42      1.01         NaN   \n",
              "2007-01-01     12.457    9.822    0.92   6.961   1.45      1.02         NaN   \n",
              "2008-01-01     12.237    9.872    0.96   7.242   1.44      1.01         NaN   \n",
              "2009-01-01     12.397   10.205    1.03   7.670   1.52      1.04         NaN   \n",
              "2010-01-01     12.340   10.053    1.08   7.944   1.56      1.06         NaN   \n",
              "\n",
              "Country     Czech Republic  Estonia  France  ...  New Zealand  Poland  \\\n",
              "Time                                         ...                        \n",
              "2006-01-01           2.274    1.651  10.119  ...        8.436   1.686   \n",
              "2007-01-01           2.292    1.858  10.227  ...        8.993   1.713   \n",
              "2008-01-01           2.155    2.035  10.245  ...        9.287   1.979   \n",
              "2009-01-01           2.133    2.036  10.426  ...        9.534   2.160   \n",
              "2010-01-01           2.102    1.978  10.351  ...        9.552   2.174   \n",
              "\n",
              "Country     Portugal  Russian Federation  Slovak Republic  Slovenia  Spain  \\\n",
              "Time                                                                         \n",
              "2006-01-01     2.786               0.234            1.501     3.921  3.992   \n",
              "2007-01-01     2.840               0.448            1.637     3.877  4.097   \n",
              "2008-01-01     2.926               0.393            1.714     3.965  4.139   \n",
              "2009-01-01     3.117               0.662            1.883     4.079  4.317   \n",
              "2010-01-01     3.244               0.619            1.961     4.809  4.304   \n",
              "\n",
              "Country     Turkey  United Kingdom  United States  \n",
              "Time                                               \n",
              "2006-01-01   2.273           9.806          6.055  \n",
              "2007-01-01   2.258          10.070          6.241  \n",
              "2008-01-01   2.222          10.045          6.781  \n",
              "2009-01-01   2.279          10.148          7.579  \n",
              "2010-01-01   2.301           9.960          7.880  \n",
              "\n",
              "[5 rows x 32 columns]"
            ],
            "text/html": [
              "\n",
              "  <div id=\"df-90430b6e-1770-4688-a259-6627d2c4464d\" class=\"colab-df-container\">\n",
              "    <div>\n",
              "<style scoped>\n",
              "    .dataframe tbody tr th:only-of-type {\n",
              "        vertical-align: middle;\n",
              "    }\n",
              "\n",
              "    .dataframe tbody tr th {\n",
              "        vertical-align: top;\n",
              "    }\n",
              "\n",
              "    .dataframe thead th {\n",
              "        text-align: right;\n",
              "    }\n",
              "</style>\n",
              "<table border=\"1\" class=\"dataframe\">\n",
              "  <thead>\n",
              "    <tr style=\"text-align: right;\">\n",
              "      <th>Country</th>\n",
              "      <th>Australia</th>\n",
              "      <th>Belgium</th>\n",
              "      <th>Brazil</th>\n",
              "      <th>Canada</th>\n",
              "      <th>Chile</th>\n",
              "      <th>Colombia</th>\n",
              "      <th>Costa Rica</th>\n",
              "      <th>Czech Republic</th>\n",
              "      <th>Estonia</th>\n",
              "      <th>France</th>\n",
              "      <th>...</th>\n",
              "      <th>New Zealand</th>\n",
              "      <th>Poland</th>\n",
              "      <th>Portugal</th>\n",
              "      <th>Russian Federation</th>\n",
              "      <th>Slovak Republic</th>\n",
              "      <th>Slovenia</th>\n",
              "      <th>Spain</th>\n",
              "      <th>Turkey</th>\n",
              "      <th>United Kingdom</th>\n",
              "      <th>United States</th>\n",
              "    </tr>\n",
              "    <tr>\n",
              "      <th>Time</th>\n",
              "      <th></th>\n",
              "      <th></th>\n",
              "      <th></th>\n",
              "      <th></th>\n",
              "      <th></th>\n",
              "      <th></th>\n",
              "      <th></th>\n",
              "      <th></th>\n",
              "      <th></th>\n",
              "      <th></th>\n",
              "      <th></th>\n",
              "      <th></th>\n",
              "      <th></th>\n",
              "      <th></th>\n",
              "      <th></th>\n",
              "      <th></th>\n",
              "      <th></th>\n",
              "      <th></th>\n",
              "      <th></th>\n",
              "      <th></th>\n",
              "      <th></th>\n",
              "    </tr>\n",
              "  </thead>\n",
              "  <tbody>\n",
              "    <tr>\n",
              "      <th>2006-01-01</th>\n",
              "      <td>12.060</td>\n",
              "      <td>9.699</td>\n",
              "      <td>0.87</td>\n",
              "      <td>6.892</td>\n",
              "      <td>1.42</td>\n",
              "      <td>1.01</td>\n",
              "      <td>NaN</td>\n",
              "      <td>2.274</td>\n",
              "      <td>1.651</td>\n",
              "      <td>10.119</td>\n",
              "      <td>...</td>\n",
              "      <td>8.436</td>\n",
              "      <td>1.686</td>\n",
              "      <td>2.786</td>\n",
              "      <td>0.234</td>\n",
              "      <td>1.501</td>\n",
              "      <td>3.921</td>\n",
              "      <td>3.992</td>\n",
              "      <td>2.273</td>\n",
              "      <td>9.806</td>\n",
              "      <td>6.055</td>\n",
              "    </tr>\n",
              "    <tr>\n",
              "      <th>2007-01-01</th>\n",
              "      <td>12.457</td>\n",
              "      <td>9.822</td>\n",
              "      <td>0.92</td>\n",
              "      <td>6.961</td>\n",
              "      <td>1.45</td>\n",
              "      <td>1.02</td>\n",
              "      <td>NaN</td>\n",
              "      <td>2.292</td>\n",
              "      <td>1.858</td>\n",
              "      <td>10.227</td>\n",
              "      <td>...</td>\n",
              "      <td>8.993</td>\n",
              "      <td>1.713</td>\n",
              "      <td>2.840</td>\n",
              "      <td>0.448</td>\n",
              "      <td>1.637</td>\n",
              "      <td>3.877</td>\n",
              "      <td>4.097</td>\n",
              "      <td>2.258</td>\n",
              "      <td>10.070</td>\n",
              "      <td>6.241</td>\n",
              "    </tr>\n",
              "    <tr>\n",
              "      <th>2008-01-01</th>\n",
              "      <td>12.237</td>\n",
              "      <td>9.872</td>\n",
              "      <td>0.96</td>\n",
              "      <td>7.242</td>\n",
              "      <td>1.44</td>\n",
              "      <td>1.01</td>\n",
              "      <td>NaN</td>\n",
              "      <td>2.155</td>\n",
              "      <td>2.035</td>\n",
              "      <td>10.245</td>\n",
              "      <td>...</td>\n",
              "      <td>9.287</td>\n",
              "      <td>1.979</td>\n",
              "      <td>2.926</td>\n",
              "      <td>0.393</td>\n",
              "      <td>1.714</td>\n",
              "      <td>3.965</td>\n",
              "      <td>4.139</td>\n",
              "      <td>2.222</td>\n",
              "      <td>10.045</td>\n",
              "      <td>6.781</td>\n",
              "    </tr>\n",
              "    <tr>\n",
              "      <th>2009-01-01</th>\n",
              "      <td>12.397</td>\n",
              "      <td>10.205</td>\n",
              "      <td>1.03</td>\n",
              "      <td>7.670</td>\n",
              "      <td>1.52</td>\n",
              "      <td>1.04</td>\n",
              "      <td>NaN</td>\n",
              "      <td>2.133</td>\n",
              "      <td>2.036</td>\n",
              "      <td>10.426</td>\n",
              "      <td>...</td>\n",
              "      <td>9.534</td>\n",
              "      <td>2.160</td>\n",
              "      <td>3.117</td>\n",
              "      <td>0.662</td>\n",
              "      <td>1.883</td>\n",
              "      <td>4.079</td>\n",
              "      <td>4.317</td>\n",
              "      <td>2.279</td>\n",
              "      <td>10.148</td>\n",
              "      <td>7.579</td>\n",
              "    </tr>\n",
              "    <tr>\n",
              "      <th>2010-01-01</th>\n",
              "      <td>12.340</td>\n",
              "      <td>10.053</td>\n",
              "      <td>1.08</td>\n",
              "      <td>7.944</td>\n",
              "      <td>1.56</td>\n",
              "      <td>1.06</td>\n",
              "      <td>NaN</td>\n",
              "      <td>2.102</td>\n",
              "      <td>1.978</td>\n",
              "      <td>10.351</td>\n",
              "      <td>...</td>\n",
              "      <td>9.552</td>\n",
              "      <td>2.174</td>\n",
              "      <td>3.244</td>\n",
              "      <td>0.619</td>\n",
              "      <td>1.961</td>\n",
              "      <td>4.809</td>\n",
              "      <td>4.304</td>\n",
              "      <td>2.301</td>\n",
              "      <td>9.960</td>\n",
              "      <td>7.880</td>\n",
              "    </tr>\n",
              "  </tbody>\n",
              "</table>\n",
              "<p>5 rows × 32 columns</p>\n",
              "</div>\n",
              "    <div class=\"colab-df-buttons\">\n",
              "\n",
              "  <div class=\"colab-df-container\">\n",
              "    <button class=\"colab-df-convert\" onclick=\"convertToInteractive('df-90430b6e-1770-4688-a259-6627d2c4464d')\"\n",
              "            title=\"Convert this dataframe to an interactive table.\"\n",
              "            style=\"display:none;\">\n",
              "\n",
              "  <svg xmlns=\"http://www.w3.org/2000/svg\" height=\"24px\" viewBox=\"0 -960 960 960\">\n",
              "    <path d=\"M120-120v-720h720v720H120Zm60-500h600v-160H180v160Zm220 220h160v-160H400v160Zm0 220h160v-160H400v160ZM180-400h160v-160H180v160Zm440 0h160v-160H620v160ZM180-180h160v-160H180v160Zm440 0h160v-160H620v160Z\"/>\n",
              "  </svg>\n",
              "    </button>\n",
              "\n",
              "  <style>\n",
              "    .colab-df-container {\n",
              "      display:flex;\n",
              "      gap: 12px;\n",
              "    }\n",
              "\n",
              "    .colab-df-convert {\n",
              "      background-color: #E8F0FE;\n",
              "      border: none;\n",
              "      border-radius: 50%;\n",
              "      cursor: pointer;\n",
              "      display: none;\n",
              "      fill: #1967D2;\n",
              "      height: 32px;\n",
              "      padding: 0 0 0 0;\n",
              "      width: 32px;\n",
              "    }\n",
              "\n",
              "    .colab-df-convert:hover {\n",
              "      background-color: #E2EBFA;\n",
              "      box-shadow: 0px 1px 2px rgba(60, 64, 67, 0.3), 0px 1px 3px 1px rgba(60, 64, 67, 0.15);\n",
              "      fill: #174EA6;\n",
              "    }\n",
              "\n",
              "    .colab-df-buttons div {\n",
              "      margin-bottom: 4px;\n",
              "    }\n",
              "\n",
              "    [theme=dark] .colab-df-convert {\n",
              "      background-color: #3B4455;\n",
              "      fill: #D2E3FC;\n",
              "    }\n",
              "\n",
              "    [theme=dark] .colab-df-convert:hover {\n",
              "      background-color: #434B5C;\n",
              "      box-shadow: 0px 1px 3px 1px rgba(0, 0, 0, 0.15);\n",
              "      filter: drop-shadow(0px 1px 2px rgba(0, 0, 0, 0.3));\n",
              "      fill: #FFFFFF;\n",
              "    }\n",
              "  </style>\n",
              "\n",
              "    <script>\n",
              "      const buttonEl =\n",
              "        document.querySelector('#df-90430b6e-1770-4688-a259-6627d2c4464d button.colab-df-convert');\n",
              "      buttonEl.style.display =\n",
              "        google.colab.kernel.accessAllowed ? 'block' : 'none';\n",
              "\n",
              "      async function convertToInteractive(key) {\n",
              "        const element = document.querySelector('#df-90430b6e-1770-4688-a259-6627d2c4464d');\n",
              "        const dataTable =\n",
              "          await google.colab.kernel.invokeFunction('convertToInteractive',\n",
              "                                                    [key], {});\n",
              "        if (!dataTable) return;\n",
              "\n",
              "        const docLinkHtml = 'Like what you see? Visit the ' +\n",
              "          '<a target=\"_blank\" href=https://colab.research.google.com/notebooks/data_table.ipynb>data table notebook</a>'\n",
              "          + ' to learn more about interactive tables.';\n",
              "        element.innerHTML = '';\n",
              "        dataTable['output_type'] = 'display_data';\n",
              "        await google.colab.output.renderOutput(dataTable, element);\n",
              "        const docLink = document.createElement('div');\n",
              "        docLink.innerHTML = docLinkHtml;\n",
              "        element.appendChild(docLink);\n",
              "      }\n",
              "    </script>\n",
              "  </div>\n",
              "\n",
              "\n",
              "<div id=\"df-993b19ba-8a52-47f8-bf4a-955c33edc3ed\">\n",
              "  <button class=\"colab-df-quickchart\" onclick=\"quickchart('df-993b19ba-8a52-47f8-bf4a-955c33edc3ed')\"\n",
              "            title=\"Suggest charts.\"\n",
              "            style=\"display:none;\">\n",
              "\n",
              "<svg xmlns=\"http://www.w3.org/2000/svg\" height=\"24px\"viewBox=\"0 0 24 24\"\n",
              "     width=\"24px\">\n",
              "    <g>\n",
              "        <path d=\"M19 3H5c-1.1 0-2 .9-2 2v14c0 1.1.9 2 2 2h14c1.1 0 2-.9 2-2V5c0-1.1-.9-2-2-2zM9 17H7v-7h2v7zm4 0h-2V7h2v10zm4 0h-2v-4h2v4z\"/>\n",
              "    </g>\n",
              "</svg>\n",
              "  </button>\n",
              "\n",
              "<style>\n",
              "  .colab-df-quickchart {\n",
              "    background-color: #E8F0FE;\n",
              "    border: none;\n",
              "    border-radius: 50%;\n",
              "    cursor: pointer;\n",
              "    display: none;\n",
              "    fill: #1967D2;\n",
              "    height: 32px;\n",
              "    padding: 0 0 0 0;\n",
              "    width: 32px;\n",
              "  }\n",
              "\n",
              "  .colab-df-quickchart:hover {\n",
              "    background-color: #E2EBFA;\n",
              "    box-shadow: 0px 1px 2px rgba(60, 64, 67, 0.3), 0px 1px 3px 1px rgba(60, 64, 67, 0.15);\n",
              "    fill: #174EA6;\n",
              "  }\n",
              "\n",
              "  [theme=dark] .colab-df-quickchart {\n",
              "    background-color: #3B4455;\n",
              "    fill: #D2E3FC;\n",
              "  }\n",
              "\n",
              "  [theme=dark] .colab-df-quickchart:hover {\n",
              "    background-color: #434B5C;\n",
              "    box-shadow: 0px 1px 3px 1px rgba(0, 0, 0, 0.15);\n",
              "    filter: drop-shadow(0px 1px 2px rgba(0, 0, 0, 0.3));\n",
              "    fill: #FFFFFF;\n",
              "  }\n",
              "</style>\n",
              "\n",
              "  <script>\n",
              "    async function quickchart(key) {\n",
              "      const charts = await google.colab.kernel.invokeFunction(\n",
              "          'suggestCharts', [key], {});\n",
              "    }\n",
              "    (() => {\n",
              "      let quickchartButtonEl =\n",
              "        document.querySelector('#df-993b19ba-8a52-47f8-bf4a-955c33edc3ed button');\n",
              "      quickchartButtonEl.style.display =\n",
              "        google.colab.kernel.accessAllowed ? 'block' : 'none';\n",
              "    })();\n",
              "  </script>\n",
              "</div>\n",
              "    </div>\n",
              "  </div>\n"
            ]
          },
          "metadata": {},
          "execution_count": 106
        }
      ]
    },
    {
      "cell_type": "markdown",
      "metadata": {
        "id": "WCwBgT4X-KfT"
      },
      "source": [
        "Now, this filtered dataframe looks good to be used for some analysis and visualizations."
      ]
    },
    {
      "cell_type": "markdown",
      "metadata": {
        "id": "SdyiEN80-KfT"
      },
      "source": [
        "### Grouping and Summarizing data\n",
        "\n",
        "Grouping and summarizing data can be particularly useful for understanding large panel datasets. A simple way is to call an aggregation method on the dataframe, such as `.mean()` or `.max()` which is really quick and easy.\n",
        "\n",
        "For example, we can calculate the average real minimum wage for each country over the period 2006 to 2016 (the default is to aggregate over rows since rows typically constitute data samples)"
      ]
    },
    {
      "cell_type": "code",
      "metadata": {
        "scrolled": true,
        "id": "cOcCwinO-KfU",
        "colab": {
          "base_uri": "https://localhost:8080/"
        },
        "outputId": "ee0f597d-b520-4c4b-f687-f6d61cd23d5a"
      },
      "source": [
        "wage_f.mean()"
      ],
      "execution_count": null,
      "outputs": [
        {
          "output_type": "execute_result",
          "data": {
            "text/plain": [
              "Country\n",
              "Australia             12.513909\n",
              "Belgium                9.939000\n",
              "Brazil                 1.090909\n",
              "Canada                 7.819364\n",
              "Chile                  1.619091\n",
              "Colombia               1.070909\n",
              "Costa Rica             2.533333\n",
              "Czech Republic         2.154182\n",
              "Estonia                2.076727\n",
              "France                10.421273\n",
              "Germany                9.404500\n",
              "Greece                 4.110000\n",
              "Hungary                1.904182\n",
              "Ireland                9.700182\n",
              "Israel                 5.954000\n",
              "Japan                  6.179000\n",
              "Korea                  4.224273\n",
              "Latvia                 1.797091\n",
              "Lithuania              1.728727\n",
              "Luxembourg            11.944909\n",
              "Mexico                 0.532545\n",
              "Netherlands            9.642909\n",
              "New Zealand            9.541545\n",
              "Poland                 2.243364\n",
              "Portugal               3.095000\n",
              "Russian Federation     0.532364\n",
              "Slovak Republic        1.922000\n",
              "Slovenia               4.602636\n",
              "Spain                  4.155818\n",
              "Turkey                 2.459364\n",
              "United Kingdom         9.922818\n",
              "United States          7.154909\n",
              "dtype: float64"
            ]
          },
          "metadata": {},
          "execution_count": 107
        }
      ]
    },
    {
      "cell_type": "markdown",
      "metadata": {
        "id": "LNXf0Chr-KfV"
      },
      "source": [
        "Using this, we can now plot the average minimum wage over a 10-year period (2006-2016) for each OECD country."
      ]
    },
    {
      "cell_type": "code",
      "metadata": {
        "id": "tjWsLlDr-KfV",
        "colab": {
          "base_uri": "https://localhost:8080/"
        },
        "outputId": "47668476-8f24-4e61-a000-c109954b7097"
      },
      "source": [
        "import matplotlib.pyplot as plt\n",
        "%matplotlib inline\n",
        "import matplotlib\n",
        "\n",
        "matplotlib.style.use('seaborn')        # use matplotlib but with seaborn styles..."
      ],
      "execution_count": null,
      "outputs": [
        {
          "output_type": "stream",
          "name": "stderr",
          "text": [
            "<ipython-input-108-a5ceb64f882c>:5: MatplotlibDeprecationWarning: The seaborn styles shipped by Matplotlib are deprecated since 3.6, as they no longer correspond to the styles shipped by seaborn. However, they will remain available as 'seaborn-v0_8-<style>'. Alternatively, directly use the seaborn API instead.\n",
            "  matplotlib.style.use('seaborn')        # use matplotlib but with seaborn styles...\n"
          ]
        }
      ]
    },
    {
      "cell_type": "code",
      "metadata": {
        "id": "E13bwd1_-KfX",
        "colab": {
          "base_uri": "https://localhost:8080/",
          "height": 630
        },
        "outputId": "624a7507-1199-4af8-d963-5dc310847e00"
      },
      "source": [
        "# plotting can be done directly on the dataframe using\n",
        "wage_f.mean().sort_values(ascending=False).plot(kind='bar', title=\"Average minimum wage 2006 - 2016\")\n",
        "\n",
        "#Set country labels\n",
        "country_labels = wage_f.mean().sort_values(ascending=False).index.get_level_values('Country').tolist()\n",
        "plt.xticks(range(0, len(country_labels)), country_labels)\n",
        "plt.xlabel('Country')\n",
        "\n",
        "plt.show()"
      ],
      "execution_count": null,
      "outputs": [
        {
          "output_type": "display_data",
          "data": {
            "text/plain": [
              "<Figure size 800x550 with 1 Axes>"
            ],
            "image/png": "[encoded data removed]"
          },
          "metadata": {}
        }
      ]
    }
  ]
}